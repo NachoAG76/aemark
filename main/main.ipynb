{
 "cells": [
  {
   "cell_type": "markdown",
   "metadata": {},
   "source": [
    "<img src=\"../logo/logo_ae.png\">"
   ]
  },
  {
   "cell_type": "markdown",
   "metadata": {},
   "source": [
    "# ANÁLISIS DE DATOS CON PYTHON"
   ]
  },
  {
   "cell_type": "markdown",
   "metadata": {},
   "source": [
    "Yolanda García Ruiz | 19 - 20 Enero de 2017"
   ]
  },
  {
   "cell_type": "markdown",
   "metadata": {},
   "source": [
    "### 1. [Big Data ](../Tema_1/bigData.html \"Intro\")\n",
    "\n",
    "### 2. [Sobre Python](../Tema_1/sobrePython.html \"Intro\")\n",
    "\n",
    "### 3. [Jupyter notebook](../Tema_1/jupyter_nb.html \"Intro\") \n",
    "\n",
    "### 4. [Elementos básicos del lenguaje](../Tema_1/elementos_Basicos.html)  ([fuente](../Tema_1/elementos_Basicos.ipynb))\n",
    "\n",
    "### 5. [El módulo NumPy](../Tema_1/numpy.html \"Numpy\") ([fuente](../Tema_1/numpy.ipynb))\n",
    "\n",
    "### 6. [Visualización de datos](../Tema_1/matplotlib.html)  ([fuente](../Tema_1/matplotlib.ipynb))\n",
    "\n",
    "### 7. [Pandas - Sklearn](../Tema_1/pandas.html)  ([fuente](../Tema_1/pandas.ipynb))"
   ]
  },
  {
   "cell_type": "markdown",
   "metadata": {},
   "source": [
    "### [Open data]((../Tema_1/Open_Data.html)"
   ]
  },
  {
   "cell_type": "markdown",
   "metadata": {},
   "source": [
    "-------"
   ]
  }
 ],
 "metadata": {
  "anaconda-cloud": {},
  "kernelspec": {
   "display_name": "Python [default]",
   "language": "python",
   "name": "python3"
  },
  "language_info": {
   "codemirror_mode": {
    "name": "ipython",
    "version": 3
   },
   "file_extension": ".py",
   "mimetype": "text/x-python",
   "name": "python",
   "nbconvert_exporter": "python",
   "pygments_lexer": "ipython3",
   "version": "3.5.2"
  }
 },
 "nbformat": 4,
 "nbformat_minor": 0
}
