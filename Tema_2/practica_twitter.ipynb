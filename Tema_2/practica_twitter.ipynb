{
 "cells": [
  {
   "cell_type": "markdown",
   "metadata": {},
   "source": [
    "## Práctica - Análisis de tweets"
   ]
  },
  {
   "cell_type": "markdown",
   "metadata": {},
   "source": [
    "El directorio `Tweets` contiene información de los tweets creados entre los días 24 de Octubre y 30 de Octubre de 2016 bajo cierto criterio de búsqueda. Se pide:\n",
    "\n",
    "* Abrir el fichero `Oct24` y ver su contenido. Para ello ejecuta el siguiente bloque de código:\n"
   ]
  },
  {
   "cell_type": "code",
   "execution_count": 2,
   "metadata": {
    "collapsed": false
   },
   "outputs": [
    {
     "data": {
      "text/plain": [
       "12"
      ]
     },
     "execution_count": 2,
     "metadata": {},
     "output_type": "execute_result"
    }
   ],
   "source": [
    "import json\n",
    "with open('./Tweets/Oct24.json') as data_file:    \n",
    "    data = json.load(data_file)\n",
    "    \n",
    "len(data)     # 12 tweets"
   ]
  },
  {
   "cell_type": "markdown",
   "metadata": {},
   "source": [
    "* ¿De qué tipo es la variable data?\n"
   ]
  },
  {
   "cell_type": "code",
   "execution_count": 15,
   "metadata": {
    "collapsed": false
   },
   "outputs": [],
   "source": [
    "# Sol\n"
   ]
  },
  {
   "cell_type": "markdown",
   "metadata": {},
   "source": [
    "* Cada elemento en `data` es un tweet. Accede al primer elemento para ver el aspecto que tiene. ¿De qué tipo es ese primer elemento?\n"
   ]
  },
  {
   "cell_type": "code",
   "execution_count": 16,
   "metadata": {
    "collapsed": false
   },
   "outputs": [],
   "source": [
    "# Sol: \n"
   ]
  },
  {
   "cell_type": "markdown",
   "metadata": {},
   "source": [
    "* Encontrar los hashtags utilizados en la lista de tweets del fichero 'Oct24.json'.\n",
    "Los hashtags se encuentran en un campo denominado `hashtags` que se encuentra indexado a su vez por un campo denominado `entities`.\n",
    "El resultado debe ser un diccionario donde la clave sea el hashtag y el valor el número de veces que se repite dicho hashtag.\n"
   ]
  },
  {
   "cell_type": "code",
   "execution_count": 6,
   "metadata": {
    "collapsed": false
   },
   "outputs": [],
   "source": [
    "# Sol:\n",
    "\n"
   ]
  },
  {
   "cell_type": "markdown",
   "metadata": {},
   "source": [
    "* Utiliza el iterador `for` para procesar todos los ficheros que se encuentran en el directorio dado. \n",
    "Encontrar los hashtags utilizados en los tweets de los días entre el 24-29 de Octubre. El siguiente bloque de código lee los ficheros que hay en un directorio dado."
   ]
  },
  {
   "cell_type": "code",
   "execution_count": 10,
   "metadata": {
    "collapsed": false
   },
   "outputs": [
    {
     "data": {
      "text/plain": [
       "['./Tweets/Oct24.json',\n",
       " './Tweets/Oct25.json',\n",
       " './Tweets/Oct26.json',\n",
       " './Tweets/Oct27.json',\n",
       " './Tweets/Oct28.json',\n",
       " './Tweets/Oct29.json']"
      ]
     },
     "execution_count": 10,
     "metadata": {},
     "output_type": "execute_result"
    }
   ],
   "source": [
    "import os\n",
    "from os import listdir\n",
    "from os.path import isfile, join\n",
    "onlyfiles = [ './Tweets/' + f for f in listdir('./Tweets')  ]\n",
    "onlyfiles"
   ]
  },
  {
   "cell_type": "code",
   "execution_count": 11,
   "metadata": {
    "collapsed": false
   },
   "outputs": [
    {
     "data": {
      "text/plain": [
       "{'ADE': 2,\n",
       " 'AEB': 2,\n",
       " 'APALANCAMIENTO': 1,\n",
       " 'Akademia': 11,\n",
       " 'Aseguradoras': 1,\n",
       " 'BuenosDías': 10,\n",
       " 'CONTRATO': 1,\n",
       " 'CUNEFEmprende': 1,\n",
       " 'CUNEFemprende': 1,\n",
       " 'CURSO': 5,\n",
       " 'Conclusiones': 10,\n",
       " 'EMPRESAS': 1,\n",
       " 'EducaciónFinanciera': 1,\n",
       " 'FINANCIERO': 1,\n",
       " 'Finanzas': 1,\n",
       " 'FondodeInversión': 1,\n",
       " 'GESTIÓN': 2,\n",
       " 'GRATIS': 5,\n",
       " 'HIPOTECARIO': 1,\n",
       " 'IgnacioBernabe': 1,\n",
       " 'Jovenes': 1,\n",
       " 'MEDIACIÓN': 1,\n",
       " 'Madrid': 5,\n",
       " 'PÓLIZA': 1,\n",
       " 'QUEJAS': 1,\n",
       " 'RECLAMACIONES': 1,\n",
       " 'SEGUROS': 2,\n",
       " 'SINIESTROS': 1,\n",
       " 'SISTEMA': 1,\n",
       " 'Seguros': 1,\n",
       " 'TERCERO': 1,\n",
       " 'Unitour': 1,\n",
       " 'blockchain': 1,\n",
       " 'cuba': 2,\n",
       " 'educacionfinanciera': 1,\n",
       " 'emprendimiento': 3,\n",
       " 'encuentrosCUNEFemprende': 1,\n",
       " 'estrategia': 1,\n",
       " 'innovación': 8,\n",
       " 'liderazgo': 1,\n",
       " 'management': 1,\n",
       " 'marketing': 2,\n",
       " 'mesuenaunpoco': 1,\n",
       " 'talento': 2,\n",
       " 'venezuela': 1,\n",
       " 'yovotovsbloqueo': 1}"
      ]
     },
     "execution_count": 11,
     "metadata": {},
     "output_type": "execute_result"
    }
   ],
   "source": [
    "# Sol: \n",
    "hastags = {}\n",
    "\n",
    "for f in onlyfiles:\n",
    "    with open(f) as data_file:    \n",
    "        data = json.load(data_file)\n",
    "\n",
    "    ..."
   ]
  },
  {
   "cell_type": "code",
   "execution_count": 13,
   "metadata": {
    "collapsed": true
   },
   "outputs": [],
   "source": [
    "# Sol:\n"
   ]
  },
  {
   "cell_type": "markdown",
   "metadata": {},
   "source": [
    "* Crear un DataFrame cuyas columnas sean: `[ hashtag, apariciones ]`  y los datos sean los recuperados en el apartado anterior.\n",
    "    "
   ]
  },
  {
   "cell_type": "code",
   "execution_count": 14,
   "metadata": {
    "collapsed": false
   },
   "outputs": [],
   "source": [
    "# Sol:\n",
    "import pandas as pd\n",
    "\n"
   ]
  },
  {
   "cell_type": "markdown",
   "metadata": {},
   "source": [
    "* ¿Cuál ha sido el hashtag más utilizado en la semana del 24-30 de Octubre?"
   ]
  },
  {
   "cell_type": "code",
   "execution_count": 35,
   "metadata": {
    "collapsed": false
   },
   "outputs": [],
   "source": [
    "# Sol:\n",
    "\n",
    "\n"
   ]
  },
  {
   "cell_type": "markdown",
   "metadata": {},
   "source": [
    "-------------------------------------"
   ]
  }
 ],
 "metadata": {
  "anaconda-cloud": {},
  "kernelspec": {
   "display_name": "Python [default]",
   "language": "python",
   "name": "python3"
  },
  "language_info": {
   "codemirror_mode": {
    "name": "ipython",
    "version": 3
   },
   "file_extension": ".py",
   "mimetype": "text/x-python",
   "name": "python",
   "nbconvert_exporter": "python",
   "pygments_lexer": "ipython3",
   "version": "3.5.2"
  }
 },
 "nbformat": 4,
 "nbformat_minor": 0
}
