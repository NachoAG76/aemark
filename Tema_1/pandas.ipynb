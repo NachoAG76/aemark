{
 "cells": [
  {
   "cell_type": "markdown",
   "metadata": {},
   "source": [
    "# Table of Contents\n",
    "* [1. Pandas](#1.-Pandas)\n",
    "\t* [1.1 DataFrames](#1.1-DataFrames)\n",
    "\t\t* [1.1.1 Crear un DataFrame](#1.1.1-Crear-un-DataFrame)\n",
    "\t* [1.2 Cargar Datasets mediante Pandas](#1.2-Cargar-Datasets-mediante-Pandas)\n",
    "\t* [1.3 Exportando DataFrames](#1.3-Exportando-DataFrames)\n",
    "\t* [1.4 Operaciones del álgebra relacional. Función Merge](#1.4-Operaciones-del-álgebra-relacional.-Función-Merge)\n",
    "\t* [1.5 Acceso a los datos (filas y columnas)](#1.5-Acceso-a-los-datos-%28filas-y-columnas%29)\t\t\n",
    "\t* [1.6 Actualización de datos de un DataFrame](#1.6-Actualización-de-datos-de-un-DataFrame)\n",
    "\t\t* [1.6.1 Modificando valores del DataFrame](#1.6.1-Modificando-valores-del-DataFrame)\n",
    "\t\t* [1.6.2 Borrando columnas en un DataFrame (__pop__ y __drop__)](#1.6.2-Borrando-columnas-en-un-DataFrame-%28__pop__-y-__drop__%29)\n",
    "\t\t* [1.6.3 Insertar datos en un DataFrame](#1.6.3-Insertar-datos-en-un-DataFrame)\n",
    "\t* [1.7 Tratamiento de valores nulos](#1.7-Tratamiento-de-valores-nulos)\n",
    "\t* [1.8 Consultas](#1.8-Consultas)\n",
    "\t* [1.9 Grupos y funciones de agrupación](#1.9-Grupos-y-funciones-de-agrupación)\n",
    "\t* [1.10 Primeros estadísticos](#1.10-Primeros-estadísticos)\n",
    "\t\t* [1.10.1 Matriz de correlación](#1.10.1-Matriz-de-correlación)\n",
    "* [2. Scikit-learn](#2.-Scikit-learn)\n",
    "\t* [2.1 Modelo de regresión logística](#2.1-Modelo-de-regresión-logística)\n",
    "\t* [2.2 Predicción con Arboles de decisión](#2.2-Predicción-con-Arboles-de-decisión)\n",
    "\t* [2.3 Predicción con Random Forest](#2.3-Predicción-con-Random-Forest)\n"
   ]
  },
  {
   "cell_type": "markdown",
   "metadata": {},
   "source": [
    "# 1. Pandas"
   ]
  },
  {
   "cell_type": "markdown",
   "metadata": {},
   "source": [
    "La librería __pandas__ de Python proporciona estructuras de datos de alto nivel y herramientas diseñadas específicamente para conseguir un análisis de los datos rápido y sencillo.\n",
    "\n",
    "* Pandas está construida sobre la librería __NumPy__\n",
    "\n",
    "__Aspectos más importantes__:\n",
    "    \n",
    "* Ofrece una estructurade datos bidimensional : DataFrame\n",
    "* Filas y  columnas indexadas (Selección de filas y columas a través de su nombre)\n",
    "* Selección mediante máscaras\n",
    "* Permite el tratamiento de datos perdidos (missing data)\n",
    "* Operaciones elemento a elemento (sin iteración al igual que en NumPy)\n",
    "* Soporta Grupos y operaciones de agrupación\n",
    "* Amplia gama de operaciones estadísticas (mean, std, corr, etc.)\n",
    "* Operaciones aritméticas y operaciones del álgebra relacional (Merging, joining, data set concatenation)"
   ]
  },
  {
   "cell_type": "code",
   "execution_count": 1,
   "metadata": {
    "collapsed": true
   },
   "outputs": [],
   "source": [
    "import numpy as np\n",
    "import pandas as pd     # importamos el módulo pandas"
   ]
  },
  {
   "cell_type": "markdown",
   "metadata": {},
   "source": [
    "## 1.1 DataFrames"
   ]
  },
  {
   "cell_type": "markdown",
   "metadata": {},
   "source": [
    "La estructura __DataFrame__ está diseñada para manejar datos representados en forma de tabla. Esta será la estructura de datos más habitual.\n",
    "* Las filas están indexadas.\n",
    "    * Podemos verlo como filas con nombre. Por defecto, si no decimos otra cosa, dicho nombre será un número entero\n",
    "* Las columnas están etiquetadas.\n",
    "    * La etiqueta se corresponde con el nombre de la columna.\n",
    "\n",
    "Un __DataFrame__ puede verse como una tabla de SQL o una hoja de cálculo.\n"
   ]
  },
  {
   "cell_type": "markdown",
   "metadata": {},
   "source": [
    "### 1.1.1 Crear un DataFrame"
   ]
  },
  {
   "cell_type": "markdown",
   "metadata": {},
   "source": [
    "Hay varias formas de crear un __DataFrame__. Podemos crearlo indicando los datos que contiene y el nombre de las columnas."
   ]
  },
  {
   "cell_type": "code",
   "execution_count": 2,
   "metadata": {
    "collapsed": false
   },
   "outputs": [
    {
     "data": {
      "text/plain": [
       "[('Rafa', 968), ('Rafa', 155), ('Antonio', 77), ('Pedro', 578), ('Elena', 100)]"
      ]
     },
     "execution_count": 2,
     "metadata": {},
     "output_type": "execute_result"
    }
   ],
   "source": [
    "# crear un array de tuplas\n",
    "clientes = ['Rafa','Rafa','Antonio','Pedro','Elena']\n",
    "importes = [968, 155, 77, 578, 100]\n",
    "\n",
    "lista_datos = list(zip(clientes, importes))\n",
    "lista_datos"
   ]
  },
  {
   "cell_type": "code",
   "execution_count": 3,
   "metadata": {
    "collapsed": false
   },
   "outputs": [
    {
     "data": {
      "text/html": [
       "<div>\n",
       "<table border=\"1\" class=\"dataframe\">\n",
       "  <thead>\n",
       "    <tr style=\"text-align: right;\">\n",
       "      <th></th>\n",
       "      <th>Nombres clientes</th>\n",
       "      <th>Importe Factura</th>\n",
       "    </tr>\n",
       "  </thead>\n",
       "  <tbody>\n",
       "    <tr>\n",
       "      <th>0</th>\n",
       "      <td>Rafa</td>\n",
       "      <td>968</td>\n",
       "    </tr>\n",
       "    <tr>\n",
       "      <th>1</th>\n",
       "      <td>Rafa</td>\n",
       "      <td>155</td>\n",
       "    </tr>\n",
       "    <tr>\n",
       "      <th>2</th>\n",
       "      <td>Antonio</td>\n",
       "      <td>77</td>\n",
       "    </tr>\n",
       "    <tr>\n",
       "      <th>3</th>\n",
       "      <td>Pedro</td>\n",
       "      <td>578</td>\n",
       "    </tr>\n",
       "    <tr>\n",
       "      <th>4</th>\n",
       "      <td>Elena</td>\n",
       "      <td>100</td>\n",
       "    </tr>\n",
       "  </tbody>\n",
       "</table>\n",
       "</div>"
      ],
      "text/plain": [
       "  Nombres clientes  Importe Factura\n",
       "0             Rafa              968\n",
       "1             Rafa              155\n",
       "2          Antonio               77\n",
       "3            Pedro              578\n",
       "4            Elena              100"
      ]
     },
     "execution_count": 3,
     "metadata": {},
     "output_type": "execute_result"
    }
   ],
   "source": [
    "# crear un DataFrame\n",
    "tabla = pd.DataFrame( data    = lista_datos,            # lista de tuplas\n",
    "                      columns = ['Nombres clientes', 'Importe Factura'])  \n",
    "tabla"
   ]
  },
  {
   "cell_type": "markdown",
   "metadata": {},
   "source": [
    "La función __describe__ permite hacer un análisis de los datos de cada una de las columnas de la tabla mostrando varias medidas estadísticas. Los datos que muestra son mínimo valor, máximo, media, percentiles, etc. de las columnas numéricas (variables cuantitativas). En caso de las columnas de otro tipo (string, tipo fecha) muestra otro tipo de valores (cantidad de valores, cantidad de valores distintos, etc)."
   ]
  },
  {
   "cell_type": "markdown",
   "metadata": {},
   "source": [
    "Como podemos ver, el intérprete de Python indexa las filas con un número entero comenzando por el cero (0,1, ...)."
   ]
  },
  {
   "cell_type": "code",
   "execution_count": 4,
   "metadata": {
    "collapsed": false
   },
   "outputs": [
    {
     "data": {
      "text/html": [
       "<div>\n",
       "<table border=\"1\" class=\"dataframe\">\n",
       "  <thead>\n",
       "    <tr style=\"text-align: right;\">\n",
       "      <th></th>\n",
       "      <th>Importe Factura</th>\n",
       "    </tr>\n",
       "  </thead>\n",
       "  <tbody>\n",
       "    <tr>\n",
       "      <th>count</th>\n",
       "      <td>5.000000</td>\n",
       "    </tr>\n",
       "    <tr>\n",
       "      <th>mean</th>\n",
       "      <td>375.600000</td>\n",
       "    </tr>\n",
       "    <tr>\n",
       "      <th>std</th>\n",
       "      <td>389.128899</td>\n",
       "    </tr>\n",
       "    <tr>\n",
       "      <th>min</th>\n",
       "      <td>77.000000</td>\n",
       "    </tr>\n",
       "    <tr>\n",
       "      <th>25%</th>\n",
       "      <td>100.000000</td>\n",
       "    </tr>\n",
       "    <tr>\n",
       "      <th>50%</th>\n",
       "      <td>155.000000</td>\n",
       "    </tr>\n",
       "    <tr>\n",
       "      <th>75%</th>\n",
       "      <td>578.000000</td>\n",
       "    </tr>\n",
       "    <tr>\n",
       "      <th>max</th>\n",
       "      <td>968.000000</td>\n",
       "    </tr>\n",
       "  </tbody>\n",
       "</table>\n",
       "</div>"
      ],
      "text/plain": [
       "       Importe Factura\n",
       "count         5.000000\n",
       "mean        375.600000\n",
       "std         389.128899\n",
       "min          77.000000\n",
       "25%         100.000000\n",
       "50%         155.000000\n",
       "75%         578.000000\n",
       "max         968.000000"
      ]
     },
     "execution_count": 4,
     "metadata": {},
     "output_type": "execute_result"
    }
   ],
   "source": [
    "tabla.describe()    # por defecto, medidas para variables cuantitativas"
   ]
  },
  {
   "cell_type": "code",
   "execution_count": 5,
   "metadata": {
    "collapsed": false
   },
   "outputs": [
    {
     "data": {
      "text/html": [
       "<div>\n",
       "<table border=\"1\" class=\"dataframe\">\n",
       "  <thead>\n",
       "    <tr style=\"text-align: right;\">\n",
       "      <th></th>\n",
       "      <th>Nombres clientes</th>\n",
       "      <th>Importe Factura</th>\n",
       "    </tr>\n",
       "  </thead>\n",
       "  <tbody>\n",
       "    <tr>\n",
       "      <th>count</th>\n",
       "      <td>5</td>\n",
       "      <td>5.000000</td>\n",
       "    </tr>\n",
       "    <tr>\n",
       "      <th>unique</th>\n",
       "      <td>4</td>\n",
       "      <td>NaN</td>\n",
       "    </tr>\n",
       "    <tr>\n",
       "      <th>top</th>\n",
       "      <td>Rafa</td>\n",
       "      <td>NaN</td>\n",
       "    </tr>\n",
       "    <tr>\n",
       "      <th>freq</th>\n",
       "      <td>2</td>\n",
       "      <td>NaN</td>\n",
       "    </tr>\n",
       "    <tr>\n",
       "      <th>mean</th>\n",
       "      <td>NaN</td>\n",
       "      <td>375.600000</td>\n",
       "    </tr>\n",
       "    <tr>\n",
       "      <th>std</th>\n",
       "      <td>NaN</td>\n",
       "      <td>389.128899</td>\n",
       "    </tr>\n",
       "    <tr>\n",
       "      <th>min</th>\n",
       "      <td>NaN</td>\n",
       "      <td>77.000000</td>\n",
       "    </tr>\n",
       "    <tr>\n",
       "      <th>25%</th>\n",
       "      <td>NaN</td>\n",
       "      <td>100.000000</td>\n",
       "    </tr>\n",
       "    <tr>\n",
       "      <th>50%</th>\n",
       "      <td>NaN</td>\n",
       "      <td>155.000000</td>\n",
       "    </tr>\n",
       "    <tr>\n",
       "      <th>75%</th>\n",
       "      <td>NaN</td>\n",
       "      <td>578.000000</td>\n",
       "    </tr>\n",
       "    <tr>\n",
       "      <th>max</th>\n",
       "      <td>NaN</td>\n",
       "      <td>968.000000</td>\n",
       "    </tr>\n",
       "  </tbody>\n",
       "</table>\n",
       "</div>"
      ],
      "text/plain": [
       "       Nombres clientes  Importe Factura\n",
       "count                 5         5.000000\n",
       "unique                4              NaN\n",
       "top                Rafa              NaN\n",
       "freq                  2              NaN\n",
       "mean                NaN       375.600000\n",
       "std                 NaN       389.128899\n",
       "min                 NaN        77.000000\n",
       "25%                 NaN       100.000000\n",
       "50%                 NaN       155.000000\n",
       "75%                 NaN       578.000000\n",
       "max                 NaN       968.000000"
      ]
     },
     "execution_count": 5,
     "metadata": {},
     "output_type": "execute_result"
    }
   ],
   "source": [
    "tabla.describe(include = 'all')       # medidas para todas las variables"
   ]
  },
  {
   "cell_type": "markdown",
   "metadata": {},
   "source": [
    "También es posible crear un __DataFrame__ a partir de un diccionario. \n",
    "* Las claves del diccionario serán los nombres de las columnas \n",
    "* Los valores del diccionario constituirán las filas"
   ]
  },
  {
   "cell_type": "code",
   "execution_count": 6,
   "metadata": {
    "collapsed": false
   },
   "outputs": [
    {
     "data": {
      "text/html": [
       "<div>\n",
       "<table border=\"1\" class=\"dataframe\">\n",
       "  <thead>\n",
       "    <tr style=\"text-align: right;\">\n",
       "      <th></th>\n",
       "      <th>clientes</th>\n",
       "      <th>importes</th>\n",
       "    </tr>\n",
       "  </thead>\n",
       "  <tbody>\n",
       "    <tr>\n",
       "      <th>1971</th>\n",
       "      <td>Rafa</td>\n",
       "      <td>968</td>\n",
       "    </tr>\n",
       "    <tr>\n",
       "      <th>1971</th>\n",
       "      <td>Rafa</td>\n",
       "      <td>155</td>\n",
       "    </tr>\n",
       "    <tr>\n",
       "      <th>1985</th>\n",
       "      <td>Antonio</td>\n",
       "      <td>77</td>\n",
       "    </tr>\n",
       "    <tr>\n",
       "      <th>1985</th>\n",
       "      <td>Pedro</td>\n",
       "      <td>578</td>\n",
       "    </tr>\n",
       "    <tr>\n",
       "      <th>1987</th>\n",
       "      <td>Elena</td>\n",
       "      <td>100</td>\n",
       "    </tr>\n",
       "  </tbody>\n",
       "</table>\n",
       "</div>"
      ],
      "text/plain": [
       "     clientes  importes\n",
       "1971     Rafa       968\n",
       "1971     Rafa       155\n",
       "1985  Antonio        77\n",
       "1985    Pedro       578\n",
       "1987    Elena       100"
      ]
     },
     "execution_count": 6,
     "metadata": {},
     "output_type": "execute_result"
    }
   ],
   "source": [
    "datos = {\"clientes\" : ['Rafa','Rafa','Antonio','Pedro','Elena'], \n",
    "         \"importes\" : [968, 155, 77, 578, 100]\n",
    "         }\n",
    "mi_tabla = pd.DataFrame(datos, index = [1971, 1971, 1985, 1985, 1987])\n",
    "mi_tabla.tail()"
   ]
  },
  {
   "cell_type": "code",
   "execution_count": 7,
   "metadata": {
    "collapsed": false
   },
   "outputs": [
    {
     "data": {
      "text/html": [
       "<div>\n",
       "<table border=\"1\" class=\"dataframe\">\n",
       "  <thead>\n",
       "    <tr style=\"text-align: right;\">\n",
       "      <th></th>\n",
       "      <th>clientes</th>\n",
       "      <th>importes</th>\n",
       "    </tr>\n",
       "  </thead>\n",
       "  <tbody>\n",
       "    <tr>\n",
       "      <th>1985</th>\n",
       "      <td>Antonio</td>\n",
       "      <td>77</td>\n",
       "    </tr>\n",
       "    <tr>\n",
       "      <th>1985</th>\n",
       "      <td>Pedro</td>\n",
       "      <td>578</td>\n",
       "    </tr>\n",
       "  </tbody>\n",
       "</table>\n",
       "</div>"
      ],
      "text/plain": [
       "     clientes  importes\n",
       "1985  Antonio        77\n",
       "1985    Pedro       578"
      ]
     },
     "execution_count": 7,
     "metadata": {},
     "output_type": "execute_result"
    }
   ],
   "source": [
    "mi_tabla.loc[1985]"
   ]
  },
  {
   "cell_type": "markdown",
   "metadata": {},
   "source": [
    "* Podemos crear un DataFrame indexando las filas con un tipo de dato que no sea por defecto (int).\n",
    "* Podemos crear un DataFrame cambiando la posición de las columnas, incluso con menos columnas."
   ]
  },
  {
   "cell_type": "markdown",
   "metadata": {},
   "source": [
    "En el caso de DataFrames, los principales atributos son los siguientes:\n",
    "\n",
    "* __columns__ : devuelve las etiquetas de las columnas del DataFrame\n",
    "* __index__ : devuelve los índices de las filas del DataFrame\n",
    "* __values__ : devuelve los datos del DataFrame. \n"
   ]
  },
  {
   "cell_type": "code",
   "execution_count": 8,
   "metadata": {
    "collapsed": false
   },
   "outputs": [
    {
     "data": {
      "text/plain": [
       "Index(['clientes', 'importes'], dtype='object')"
      ]
     },
     "execution_count": 8,
     "metadata": {},
     "output_type": "execute_result"
    }
   ],
   "source": [
    "mi_tabla.columns"
   ]
  },
  {
   "cell_type": "code",
   "execution_count": 9,
   "metadata": {
    "collapsed": false
   },
   "outputs": [
    {
     "data": {
      "text/plain": [
       "Int64Index([1971, 1971, 1985, 1985, 1987], dtype='int64')"
      ]
     },
     "execution_count": 9,
     "metadata": {},
     "output_type": "execute_result"
    }
   ],
   "source": [
    "mi_tabla.index"
   ]
  },
  {
   "cell_type": "markdown",
   "metadata": {},
   "source": [
    "Los datos del DateFrame se pueden obtener usando el atributo __values__. El resultado será un array de NumPy:"
   ]
  },
  {
   "cell_type": "code",
   "execution_count": 10,
   "metadata": {
    "collapsed": false
   },
   "outputs": [
    {
     "data": {
      "text/plain": [
       "array([['Rafa', 968],\n",
       "       ['Rafa', 155],\n",
       "       ['Antonio', 77],\n",
       "       ['Pedro', 578],\n",
       "       ['Elena', 100]], dtype=object)"
      ]
     },
     "execution_count": 10,
     "metadata": {},
     "output_type": "execute_result"
    }
   ],
   "source": [
    "mi_tabla.values"
   ]
  },
  {
   "cell_type": "code",
   "execution_count": 11,
   "metadata": {
    "collapsed": false
   },
   "outputs": [
    {
     "data": {
      "text/plain": [
       "numpy.ndarray"
      ]
     },
     "execution_count": 11,
     "metadata": {},
     "output_type": "execute_result"
    }
   ],
   "source": [
    "type(mi_tabla.values)"
   ]
  },
  {
   "cell_type": "markdown",
   "metadata": {},
   "source": [
    "## 1.2 Cargar Datasets mediante Pandas"
   ]
  },
  {
   "cell_type": "markdown",
   "metadata": {},
   "source": [
    "Pandas es capaz de leer datos de ficheros en formatos:\n",
    "     * csv, txt, excel, \n",
    "     * json, \n",
    "     * xml, \n",
    "     * ..."
   ]
  },
  {
   "cell_type": "markdown",
   "metadata": {},
   "source": [
    "Las funciones  más utilizadas en pandas para leer datos en formato texto son __read_csv__ y __read_table__. Estas funciones ofrecen una gran flexibilidad a la hora de leer un fichero de texto plano.\n",
    "\n",
    "__Ejemplo 1__\n",
    "\n",
    "El dataset [HR_comma.csv  (612 KB)](./datos/HR_comma.csv) contiene ciertos registros relacionados con los empleados de una empresa de los últimos 5 años."
   ]
  },
  {
   "cell_type": "code",
   "execution_count": 12,
   "metadata": {
    "collapsed": false
   },
   "outputs": [
    {
     "data": {
      "text/html": [
       "<div>\n",
       "<table border=\"1\" class=\"dataframe\">\n",
       "  <thead>\n",
       "    <tr style=\"text-align: right;\">\n",
       "      <th></th>\n",
       "      <th>nivel_de_satisfaccion</th>\n",
       "      <th>ultima_encuesta</th>\n",
       "      <th>numero_de_proyectos</th>\n",
       "      <th>media_horas_mes</th>\n",
       "      <th>horas_en_la_empresa</th>\n",
       "      <th>accidente_de_trabajo</th>\n",
       "      <th>deja_la_empresa</th>\n",
       "      <th>promociona</th>\n",
       "      <th>dep</th>\n",
       "      <th>salario</th>\n",
       "    </tr>\n",
       "  </thead>\n",
       "  <tbody>\n",
       "    <tr>\n",
       "      <th>0</th>\n",
       "      <td>0.38</td>\n",
       "      <td>0.53</td>\n",
       "      <td>2.0</td>\n",
       "      <td>157</td>\n",
       "      <td>3</td>\n",
       "      <td>0</td>\n",
       "      <td>1.0</td>\n",
       "      <td>0</td>\n",
       "      <td>sales</td>\n",
       "      <td>low</td>\n",
       "    </tr>\n",
       "    <tr>\n",
       "      <th>1</th>\n",
       "      <td>0.80</td>\n",
       "      <td>0.86</td>\n",
       "      <td>5.0</td>\n",
       "      <td>262</td>\n",
       "      <td>6</td>\n",
       "      <td>0</td>\n",
       "      <td>1.0</td>\n",
       "      <td>0</td>\n",
       "      <td>sales</td>\n",
       "      <td>medium</td>\n",
       "    </tr>\n",
       "    <tr>\n",
       "      <th>2</th>\n",
       "      <td>0.11</td>\n",
       "      <td>0.88</td>\n",
       "      <td>7.0</td>\n",
       "      <td>272</td>\n",
       "      <td>4</td>\n",
       "      <td>0</td>\n",
       "      <td>1.0</td>\n",
       "      <td>0</td>\n",
       "      <td>NaN</td>\n",
       "      <td>medium</td>\n",
       "    </tr>\n",
       "    <tr>\n",
       "      <th>3</th>\n",
       "      <td>0.72</td>\n",
       "      <td>0.87</td>\n",
       "      <td>5.0</td>\n",
       "      <td>223</td>\n",
       "      <td>5</td>\n",
       "      <td>0</td>\n",
       "      <td>1.0</td>\n",
       "      <td>0</td>\n",
       "      <td>sales</td>\n",
       "      <td>low</td>\n",
       "    </tr>\n",
       "    <tr>\n",
       "      <th>4</th>\n",
       "      <td>0.37</td>\n",
       "      <td>0.52</td>\n",
       "      <td>NaN</td>\n",
       "      <td>159</td>\n",
       "      <td>3</td>\n",
       "      <td>0</td>\n",
       "      <td>1.0</td>\n",
       "      <td>0</td>\n",
       "      <td>sales</td>\n",
       "      <td>low</td>\n",
       "    </tr>\n",
       "    <tr>\n",
       "      <th>5</th>\n",
       "      <td>0.41</td>\n",
       "      <td>0.50</td>\n",
       "      <td>2.0</td>\n",
       "      <td>153</td>\n",
       "      <td>3</td>\n",
       "      <td>0</td>\n",
       "      <td>1.0</td>\n",
       "      <td>0</td>\n",
       "      <td>sales</td>\n",
       "      <td>low</td>\n",
       "    </tr>\n",
       "  </tbody>\n",
       "</table>\n",
       "</div>"
      ],
      "text/plain": [
       "   nivel_de_satisfaccion  ultima_encuesta  numero_de_proyectos  \\\n",
       "0                   0.38             0.53                  2.0   \n",
       "1                   0.80             0.86                  5.0   \n",
       "2                   0.11             0.88                  7.0   \n",
       "3                   0.72             0.87                  5.0   \n",
       "4                   0.37             0.52                  NaN   \n",
       "5                   0.41             0.50                  2.0   \n",
       "\n",
       "   media_horas_mes   horas_en_la_empresa  accidente_de_trabajo  \\\n",
       "0               157                    3                     0   \n",
       "1               262                    6                     0   \n",
       "2               272                    4                     0   \n",
       "3               223                    5                     0   \n",
       "4               159                    3                     0   \n",
       "5               153                    3                     0   \n",
       "\n",
       "   deja_la_empresa  promociona    dep salario  \n",
       "0              1.0           0  sales     low  \n",
       "1              1.0           0  sales  medium  \n",
       "2              1.0           0    NaN  medium  \n",
       "3              1.0           0  sales     low  \n",
       "4              1.0           0  sales     low  \n",
       "5              1.0           0  sales     low  "
      ]
     },
     "execution_count": 12,
     "metadata": {},
     "output_type": "execute_result"
    }
   ],
   "source": [
    "tabla = pd.read_csv('./datos/HR_comma.csv')\n",
    "tabla.head(6)    # muestro solo las 6 primeras entradas"
   ]
  },
  {
   "cell_type": "markdown",
   "metadata": {},
   "source": [
    "Podemos preguntar por la forma que tiene el DataFrame:"
   ]
  },
  {
   "cell_type": "code",
   "execution_count": 13,
   "metadata": {
    "collapsed": false
   },
   "outputs": [
    {
     "data": {
      "text/plain": [
       "(14999, 10)"
      ]
     },
     "execution_count": 13,
     "metadata": {},
     "output_type": "execute_result"
    }
   ],
   "source": [
    "tabla.shape       # informa del número de filas y columnas"
   ]
  },
  {
   "cell_type": "markdown",
   "metadata": {},
   "source": [
    "La función __info__ nos proporciona más información. Nombre de las variables, su tipo, el número de valores no nulos, etc."
   ]
  },
  {
   "cell_type": "code",
   "execution_count": 14,
   "metadata": {
    "collapsed": false
   },
   "outputs": [
    {
     "name": "stdout",
     "output_type": "stream",
     "text": [
      "<class 'pandas.core.frame.DataFrame'>\n",
      "RangeIndex: 14999 entries, 0 to 14998\n",
      "Data columns (total 10 columns):\n",
      "nivel_de_satisfaccion    14999 non-null float64\n",
      "ultima_encuesta          14999 non-null float64\n",
      "numero_de_proyectos      14998 non-null float64\n",
      "media_horas_mes          14999 non-null int64\n",
      "horas_en_la_empresa      14999 non-null int64\n",
      "accidente_de_trabajo     14999 non-null int64\n",
      "deja_la_empresa          14998 non-null float64\n",
      "promociona               14999 non-null int64\n",
      "dep                      14998 non-null object\n",
      "salario                  14997 non-null object\n",
      "dtypes: float64(4), int64(4), object(2)\n",
      "memory usage: 1.1+ MB\n"
     ]
    }
   ],
   "source": [
    "tabla.info()"
   ]
  },
  {
   "cell_type": "code",
   "execution_count": 15,
   "metadata": {
    "collapsed": false
   },
   "outputs": [
    {
     "name": "stderr",
     "output_type": "stream",
     "text": [
      "C:\\Users\\Yoli\\Anaconda3\\lib\\site-packages\\numpy\\lib\\function_base.py:3834: RuntimeWarning: Invalid value encountered in percentile\n",
      "  RuntimeWarning)\n"
     ]
    },
    {
     "data": {
      "text/html": [
       "<div>\n",
       "<table border=\"1\" class=\"dataframe\">\n",
       "  <thead>\n",
       "    <tr style=\"text-align: right;\">\n",
       "      <th></th>\n",
       "      <th>nivel_de_satisfaccion</th>\n",
       "      <th>ultima_encuesta</th>\n",
       "      <th>numero_de_proyectos</th>\n",
       "      <th>media_horas_mes</th>\n",
       "      <th>horas_en_la_empresa</th>\n",
       "      <th>accidente_de_trabajo</th>\n",
       "      <th>deja_la_empresa</th>\n",
       "      <th>promociona</th>\n",
       "    </tr>\n",
       "  </thead>\n",
       "  <tbody>\n",
       "    <tr>\n",
       "      <th>count</th>\n",
       "      <td>14999.000000</td>\n",
       "      <td>14999.000000</td>\n",
       "      <td>14998.000000</td>\n",
       "      <td>14999.000000</td>\n",
       "      <td>14999.000000</td>\n",
       "      <td>14999.000000</td>\n",
       "      <td>14998.000000</td>\n",
       "      <td>14999.000000</td>\n",
       "    </tr>\n",
       "    <tr>\n",
       "      <th>mean</th>\n",
       "      <td>0.612834</td>\n",
       "      <td>0.716102</td>\n",
       "      <td>3.803174</td>\n",
       "      <td>201.050337</td>\n",
       "      <td>3.498233</td>\n",
       "      <td>0.144610</td>\n",
       "      <td>0.238032</td>\n",
       "      <td>0.021268</td>\n",
       "    </tr>\n",
       "    <tr>\n",
       "      <th>std</th>\n",
       "      <td>0.248631</td>\n",
       "      <td>0.171169</td>\n",
       "      <td>1.232546</td>\n",
       "      <td>49.943099</td>\n",
       "      <td>1.460136</td>\n",
       "      <td>0.351719</td>\n",
       "      <td>0.425893</td>\n",
       "      <td>0.144281</td>\n",
       "    </tr>\n",
       "    <tr>\n",
       "      <th>min</th>\n",
       "      <td>0.090000</td>\n",
       "      <td>0.360000</td>\n",
       "      <td>2.000000</td>\n",
       "      <td>96.000000</td>\n",
       "      <td>2.000000</td>\n",
       "      <td>0.000000</td>\n",
       "      <td>0.000000</td>\n",
       "      <td>0.000000</td>\n",
       "    </tr>\n",
       "    <tr>\n",
       "      <th>25%</th>\n",
       "      <td>0.440000</td>\n",
       "      <td>0.560000</td>\n",
       "      <td>NaN</td>\n",
       "      <td>156.000000</td>\n",
       "      <td>3.000000</td>\n",
       "      <td>0.000000</td>\n",
       "      <td>NaN</td>\n",
       "      <td>0.000000</td>\n",
       "    </tr>\n",
       "    <tr>\n",
       "      <th>50%</th>\n",
       "      <td>0.640000</td>\n",
       "      <td>0.720000</td>\n",
       "      <td>NaN</td>\n",
       "      <td>200.000000</td>\n",
       "      <td>3.000000</td>\n",
       "      <td>0.000000</td>\n",
       "      <td>NaN</td>\n",
       "      <td>0.000000</td>\n",
       "    </tr>\n",
       "    <tr>\n",
       "      <th>75%</th>\n",
       "      <td>0.820000</td>\n",
       "      <td>0.870000</td>\n",
       "      <td>NaN</td>\n",
       "      <td>245.000000</td>\n",
       "      <td>4.000000</td>\n",
       "      <td>0.000000</td>\n",
       "      <td>NaN</td>\n",
       "      <td>0.000000</td>\n",
       "    </tr>\n",
       "    <tr>\n",
       "      <th>max</th>\n",
       "      <td>1.000000</td>\n",
       "      <td>1.000000</td>\n",
       "      <td>7.000000</td>\n",
       "      <td>310.000000</td>\n",
       "      <td>10.000000</td>\n",
       "      <td>1.000000</td>\n",
       "      <td>1.000000</td>\n",
       "      <td>1.000000</td>\n",
       "    </tr>\n",
       "  </tbody>\n",
       "</table>\n",
       "</div>"
      ],
      "text/plain": [
       "       nivel_de_satisfaccion  ultima_encuesta  numero_de_proyectos  \\\n",
       "count           14999.000000     14999.000000         14998.000000   \n",
       "mean                0.612834         0.716102             3.803174   \n",
       "std                 0.248631         0.171169             1.232546   \n",
       "min                 0.090000         0.360000             2.000000   \n",
       "25%                 0.440000         0.560000                  NaN   \n",
       "50%                 0.640000         0.720000                  NaN   \n",
       "75%                 0.820000         0.870000                  NaN   \n",
       "max                 1.000000         1.000000             7.000000   \n",
       "\n",
       "       media_horas_mes   horas_en_la_empresa  accidente_de_trabajo  \\\n",
       "count      14999.000000         14999.000000          14999.000000   \n",
       "mean         201.050337             3.498233              0.144610   \n",
       "std           49.943099             1.460136              0.351719   \n",
       "min           96.000000             2.000000              0.000000   \n",
       "25%          156.000000             3.000000              0.000000   \n",
       "50%          200.000000             3.000000              0.000000   \n",
       "75%          245.000000             4.000000              0.000000   \n",
       "max          310.000000            10.000000              1.000000   \n",
       "\n",
       "       deja_la_empresa    promociona  \n",
       "count     14998.000000  14999.000000  \n",
       "mean          0.238032      0.021268  \n",
       "std           0.425893      0.144281  \n",
       "min           0.000000      0.000000  \n",
       "25%                NaN      0.000000  \n",
       "50%                NaN      0.000000  \n",
       "75%                NaN      0.000000  \n",
       "max           1.000000      1.000000  "
      ]
     },
     "execution_count": 15,
     "metadata": {},
     "output_type": "execute_result"
    }
   ],
   "source": [
    "tabla.describe()"
   ]
  },
  {
   "cell_type": "markdown",
   "metadata": {},
   "source": [
    "__Ejemplo 2:__\n",
    "\n",
    "Si no nos interesan todas las columnas, podemos indicar mediante una lista las columnas en las que estamos interesados."
   ]
  },
  {
   "cell_type": "code",
   "execution_count": 16,
   "metadata": {
    "collapsed": false
   },
   "outputs": [
    {
     "data": {
      "text/html": [
       "<div>\n",
       "<table border=\"1\" class=\"dataframe\">\n",
       "  <thead>\n",
       "    <tr style=\"text-align: right;\">\n",
       "      <th></th>\n",
       "      <th>nivel_de_satisfaccion</th>\n",
       "      <th>numero_de_proyectos</th>\n",
       "      <th>dep</th>\n",
       "      <th>salario</th>\n",
       "    </tr>\n",
       "  </thead>\n",
       "  <tbody>\n",
       "    <tr>\n",
       "      <th>0</th>\n",
       "      <td>0.38</td>\n",
       "      <td>2.0</td>\n",
       "      <td>sales</td>\n",
       "      <td>low</td>\n",
       "    </tr>\n",
       "    <tr>\n",
       "      <th>1</th>\n",
       "      <td>0.80</td>\n",
       "      <td>5.0</td>\n",
       "      <td>sales</td>\n",
       "      <td>medium</td>\n",
       "    </tr>\n",
       "    <tr>\n",
       "      <th>2</th>\n",
       "      <td>0.11</td>\n",
       "      <td>7.0</td>\n",
       "      <td>NaN</td>\n",
       "      <td>medium</td>\n",
       "    </tr>\n",
       "    <tr>\n",
       "      <th>3</th>\n",
       "      <td>0.72</td>\n",
       "      <td>5.0</td>\n",
       "      <td>sales</td>\n",
       "      <td>low</td>\n",
       "    </tr>\n",
       "    <tr>\n",
       "      <th>4</th>\n",
       "      <td>0.37</td>\n",
       "      <td>NaN</td>\n",
       "      <td>sales</td>\n",
       "      <td>low</td>\n",
       "    </tr>\n",
       "    <tr>\n",
       "      <th>5</th>\n",
       "      <td>0.41</td>\n",
       "      <td>2.0</td>\n",
       "      <td>sales</td>\n",
       "      <td>low</td>\n",
       "    </tr>\n",
       "  </tbody>\n",
       "</table>\n",
       "</div>"
      ],
      "text/plain": [
       "   nivel_de_satisfaccion  numero_de_proyectos    dep salario\n",
       "0                   0.38                  2.0  sales     low\n",
       "1                   0.80                  5.0  sales  medium\n",
       "2                   0.11                  7.0    NaN  medium\n",
       "3                   0.72                  5.0  sales     low\n",
       "4                   0.37                  NaN  sales     low\n",
       "5                   0.41                  2.0  sales     low"
      ]
     },
     "execution_count": 16,
     "metadata": {},
     "output_type": "execute_result"
    }
   ],
   "source": [
    "columnas_carga = ['nivel_de_satisfaccion', 'numero_de_proyectos', 'dep', 'salario' ]\n",
    "tabla = pd.read_csv('./datos/HR_comma.csv',\n",
    "                     usecols = columnas_carga )\n",
    "\n",
    "tabla.head(6)    # muestro solo las 6 primeras entradas"
   ]
  },
  {
   "cell_type": "markdown",
   "metadata": {},
   "source": [
    "__Ejemplo 3:__\n",
    "\n",
    "También nos puede interesar que alguna de las columnas sea el índice de la tabla. Por ejemplo, la columna de departamento."
   ]
  },
  {
   "cell_type": "code",
   "execution_count": 17,
   "metadata": {
    "collapsed": false
   },
   "outputs": [
    {
     "data": {
      "text/html": [
       "<div>\n",
       "<table border=\"1\" class=\"dataframe\">\n",
       "  <thead>\n",
       "    <tr style=\"text-align: right;\">\n",
       "      <th></th>\n",
       "      <th>nivel_de_satisfaccion</th>\n",
       "      <th>numero_de_proyectos</th>\n",
       "      <th>salario</th>\n",
       "    </tr>\n",
       "    <tr>\n",
       "      <th>dep</th>\n",
       "      <th></th>\n",
       "      <th></th>\n",
       "      <th></th>\n",
       "    </tr>\n",
       "  </thead>\n",
       "  <tbody>\n",
       "    <tr>\n",
       "      <th>technical</th>\n",
       "      <td>0.40</td>\n",
       "      <td>2.0</td>\n",
       "      <td>medium</td>\n",
       "    </tr>\n",
       "    <tr>\n",
       "      <th>technical</th>\n",
       "      <td>0.91</td>\n",
       "      <td>5.0</td>\n",
       "      <td>medium</td>\n",
       "    </tr>\n",
       "    <tr>\n",
       "      <th>technical</th>\n",
       "      <td>0.85</td>\n",
       "      <td>4.0</td>\n",
       "      <td>low</td>\n",
       "    </tr>\n",
       "    <tr>\n",
       "      <th>technical</th>\n",
       "      <td>0.90</td>\n",
       "      <td>5.0</td>\n",
       "      <td>low</td>\n",
       "    </tr>\n",
       "    <tr>\n",
       "      <th>technical</th>\n",
       "      <td>0.46</td>\n",
       "      <td>2.0</td>\n",
       "      <td>low</td>\n",
       "    </tr>\n",
       "    <tr>\n",
       "      <th>technical</th>\n",
       "      <td>0.43</td>\n",
       "      <td>2.0</td>\n",
       "      <td>low</td>\n",
       "    </tr>\n",
       "    <tr>\n",
       "      <th>support</th>\n",
       "      <td>0.89</td>\n",
       "      <td>5.0</td>\n",
       "      <td>low</td>\n",
       "    </tr>\n",
       "    <tr>\n",
       "      <th>support</th>\n",
       "      <td>0.09</td>\n",
       "      <td>6.0</td>\n",
       "      <td>low</td>\n",
       "    </tr>\n",
       "    <tr>\n",
       "      <th>support</th>\n",
       "      <td>0.40</td>\n",
       "      <td>2.0</td>\n",
       "      <td>low</td>\n",
       "    </tr>\n",
       "    <tr>\n",
       "      <th>support</th>\n",
       "      <td>0.76</td>\n",
       "      <td>6.0</td>\n",
       "      <td>low</td>\n",
       "    </tr>\n",
       "    <tr>\n",
       "      <th>support</th>\n",
       "      <td>0.40</td>\n",
       "      <td>2.0</td>\n",
       "      <td>low</td>\n",
       "    </tr>\n",
       "    <tr>\n",
       "      <th>support</th>\n",
       "      <td>0.37</td>\n",
       "      <td>2.0</td>\n",
       "      <td>low</td>\n",
       "    </tr>\n",
       "    <tr>\n",
       "      <th>support</th>\n",
       "      <td>0.37</td>\n",
       "      <td>2.0</td>\n",
       "      <td>low</td>\n",
       "    </tr>\n",
       "    <tr>\n",
       "      <th>support</th>\n",
       "      <td>0.11</td>\n",
       "      <td>6.0</td>\n",
       "      <td>low</td>\n",
       "    </tr>\n",
       "    <tr>\n",
       "      <th>support</th>\n",
       "      <td>0.37</td>\n",
       "      <td>2.0</td>\n",
       "      <td>low</td>\n",
       "    </tr>\n",
       "  </tbody>\n",
       "</table>\n",
       "</div>"
      ],
      "text/plain": [
       "           nivel_de_satisfaccion  numero_de_proyectos salario\n",
       "dep                                                          \n",
       "technical                   0.40                  2.0  medium\n",
       "technical                   0.91                  5.0  medium\n",
       "technical                   0.85                  4.0     low\n",
       "technical                   0.90                  5.0     low\n",
       "technical                   0.46                  2.0     low\n",
       "technical                   0.43                  2.0     low\n",
       "support                     0.89                  5.0     low\n",
       "support                     0.09                  6.0     low\n",
       "support                     0.40                  2.0     low\n",
       "support                     0.76                  6.0     low\n",
       "support                     0.40                  2.0     low\n",
       "support                     0.37                  2.0     low\n",
       "support                     0.37                  2.0     low\n",
       "support                     0.11                  6.0     low\n",
       "support                     0.37                  2.0     low"
      ]
     },
     "execution_count": 17,
     "metadata": {},
     "output_type": "execute_result"
    }
   ],
   "source": [
    "columnas_carga = ['nivel_de_satisfaccion', 'numero_de_proyectos', 'dep', 'salario' ]\n",
    "tabla_dep = pd.read_csv('./datos/HR_comma.csv',\n",
    "                     usecols = columnas_carga, \n",
    "                     index_col = [2])\n",
    "\n",
    "tabla_dep.tail(15)    # muestro solo las 15 últimas filas"
   ]
  },
  {
   "cell_type": "markdown",
   "metadata": {},
   "source": [
    "__Ejemplo 4:__"
   ]
  },
  {
   "cell_type": "markdown",
   "metadata": {},
   "source": [
    "MovieLens 10M Dataset recoge datos películas, valoraciones y etiquetas. La información se distribuye en 3 tablas.\n",
    "\n",
    "- ratings.dat (252 MB)) - El fichero recoge 10.000.054  valoraciones  de los usuarios\n",
    "- tags.dat  (3.5 MB) - Contiene 95.580 etiquetas \n",
    "- movies.dat (510 KB) - Datos de 10.681 películas\n",
    "\n",
    "Toda esta información ha sido recogida por el sistema de recomendación online MovieLens y se utiliza con mucha frecuencia en los sistemas de recomendación que aplican algoritmos de aprendizaje.\n",
    "\n",
    "La url para descargar los datos:    https://grouplens.org/datasets/movielens/10m/"
   ]
  },
  {
   "cell_type": "code",
   "execution_count": 18,
   "metadata": {
    "collapsed": true
   },
   "outputs": [],
   "source": [
    "ruta_ratings = './datos/ml-10M/ratings.dat'\n",
    "ruta_movies = './datos/ml-10M/movies.dat'\n",
    "ruta_tags = './datos/ml-10M/tags.dat'"
   ]
  },
  {
   "cell_type": "markdown",
   "metadata": {},
   "source": [
    "Tenemos la posibilidad de cargar solo algunas filas, para ver el aspecto de los datos."
   ]
  },
  {
   "cell_type": "code",
   "execution_count": 19,
   "metadata": {
    "collapsed": false
   },
   "outputs": [],
   "source": [
    "# Parseo de fechas \n",
    "from datetime import datetime\n",
    "dateparse = lambda x: datetime.fromtimestamp(float(x))\n",
    "\n",
    "df_ratings = pd.read_csv(ruta_ratings, sep = '::', header = None,\n",
    "                         names = ['UserID', 'MovieID', 'Starts', 'Date'],\n",
    "                         engine ='python',\n",
    "                         nrows = 3000,\n",
    "                         parse_dates=[3], date_parser=dateparse) "
   ]
  },
  {
   "cell_type": "code",
   "execution_count": 20,
   "metadata": {
    "collapsed": false
   },
   "outputs": [
    {
     "name": "stdout",
     "output_type": "stream",
     "text": [
      "<class 'pandas.core.frame.DataFrame'>\n",
      "RangeIndex: 3000 entries, 0 to 2999\n",
      "Data columns (total 4 columns):\n",
      "UserID     3000 non-null int64\n",
      "MovieID    3000 non-null int64\n",
      "Starts     3000 non-null float64\n",
      "Date       3000 non-null datetime64[ns]\n",
      "dtypes: datetime64[ns](1), float64(1), int64(2)\n",
      "memory usage: 93.8 KB\n"
     ]
    }
   ],
   "source": [
    "df_ratings.info()"
   ]
  },
  {
   "cell_type": "code",
   "execution_count": 21,
   "metadata": {
    "collapsed": false
   },
   "outputs": [
    {
     "data": {
      "text/html": [
       "<div>\n",
       "<table border=\"1\" class=\"dataframe\">\n",
       "  <thead>\n",
       "    <tr style=\"text-align: right;\">\n",
       "      <th></th>\n",
       "      <th>UserID</th>\n",
       "      <th>MovieID</th>\n",
       "      <th>Starts</th>\n",
       "      <th>Date</th>\n",
       "    </tr>\n",
       "  </thead>\n",
       "  <tbody>\n",
       "    <tr>\n",
       "      <th>0</th>\n",
       "      <td>1</td>\n",
       "      <td>122</td>\n",
       "      <td>5.0</td>\n",
       "      <td>1996-08-02 13:24:06</td>\n",
       "    </tr>\n",
       "    <tr>\n",
       "      <th>1</th>\n",
       "      <td>1</td>\n",
       "      <td>185</td>\n",
       "      <td>5.0</td>\n",
       "      <td>1996-08-02 12:58:45</td>\n",
       "    </tr>\n",
       "    <tr>\n",
       "      <th>2</th>\n",
       "      <td>1</td>\n",
       "      <td>231</td>\n",
       "      <td>5.0</td>\n",
       "      <td>1996-08-02 12:56:32</td>\n",
       "    </tr>\n",
       "    <tr>\n",
       "      <th>3</th>\n",
       "      <td>1</td>\n",
       "      <td>292</td>\n",
       "      <td>5.0</td>\n",
       "      <td>1996-08-02 12:57:01</td>\n",
       "    </tr>\n",
       "    <tr>\n",
       "      <th>4</th>\n",
       "      <td>1</td>\n",
       "      <td>316</td>\n",
       "      <td>5.0</td>\n",
       "      <td>1996-08-02 12:56:32</td>\n",
       "    </tr>\n",
       "  </tbody>\n",
       "</table>\n",
       "</div>"
      ],
      "text/plain": [
       "   UserID  MovieID  Starts                Date\n",
       "0       1      122     5.0 1996-08-02 13:24:06\n",
       "1       1      185     5.0 1996-08-02 12:58:45\n",
       "2       1      231     5.0 1996-08-02 12:56:32\n",
       "3       1      292     5.0 1996-08-02 12:57:01\n",
       "4       1      316     5.0 1996-08-02 12:56:32"
      ]
     },
     "execution_count": 21,
     "metadata": {},
     "output_type": "execute_result"
    }
   ],
   "source": [
    "df_ratings.head()"
   ]
  },
  {
   "cell_type": "markdown",
   "metadata": {},
   "source": [
    "__Ejemplo:__"
   ]
  },
  {
   "cell_type": "code",
   "execution_count": 22,
   "metadata": {
    "collapsed": false
   },
   "outputs": [],
   "source": [
    "\n",
    "df_ratings_2 = pd.read_csv(ruta_ratings, sep = '::', header = None,\n",
    "                         names = ['id_usuario', 'id_peli', 'puntuacion', 'Fecha'],\n",
    "                         engine ='python',\n",
    "                         nrows = 3000,\n",
    "                         index_col =['id_usuario', 'id_peli'],\n",
    "                         parse_dates=[3], date_parser=dateparse) "
   ]
  },
  {
   "cell_type": "code",
   "execution_count": 23,
   "metadata": {
    "collapsed": false
   },
   "outputs": [
    {
     "data": {
      "text/html": [
       "<div>\n",
       "<table border=\"1\" class=\"dataframe\">\n",
       "  <thead>\n",
       "    <tr style=\"text-align: right;\">\n",
       "      <th></th>\n",
       "      <th></th>\n",
       "      <th>puntuacion</th>\n",
       "      <th>Fecha</th>\n",
       "    </tr>\n",
       "    <tr>\n",
       "      <th>id_usuario</th>\n",
       "      <th>id_peli</th>\n",
       "      <th></th>\n",
       "      <th></th>\n",
       "    </tr>\n",
       "  </thead>\n",
       "  <tbody>\n",
       "    <tr>\n",
       "      <th rowspan=\"22\" valign=\"top\">1</th>\n",
       "      <th>122</th>\n",
       "      <td>5.0</td>\n",
       "      <td>1996-08-02 13:24:06</td>\n",
       "    </tr>\n",
       "    <tr>\n",
       "      <th>185</th>\n",
       "      <td>5.0</td>\n",
       "      <td>1996-08-02 12:58:45</td>\n",
       "    </tr>\n",
       "    <tr>\n",
       "      <th>231</th>\n",
       "      <td>5.0</td>\n",
       "      <td>1996-08-02 12:56:32</td>\n",
       "    </tr>\n",
       "    <tr>\n",
       "      <th>292</th>\n",
       "      <td>5.0</td>\n",
       "      <td>1996-08-02 12:57:01</td>\n",
       "    </tr>\n",
       "    <tr>\n",
       "      <th>316</th>\n",
       "      <td>5.0</td>\n",
       "      <td>1996-08-02 12:56:32</td>\n",
       "    </tr>\n",
       "    <tr>\n",
       "      <th>329</th>\n",
       "      <td>5.0</td>\n",
       "      <td>1996-08-02 12:56:32</td>\n",
       "    </tr>\n",
       "    <tr>\n",
       "      <th>355</th>\n",
       "      <td>5.0</td>\n",
       "      <td>1996-08-02 13:14:34</td>\n",
       "    </tr>\n",
       "    <tr>\n",
       "      <th>356</th>\n",
       "      <td>5.0</td>\n",
       "      <td>1996-08-02 13:00:53</td>\n",
       "    </tr>\n",
       "    <tr>\n",
       "      <th>362</th>\n",
       "      <td>5.0</td>\n",
       "      <td>1996-08-02 13:21:25</td>\n",
       "    </tr>\n",
       "    <tr>\n",
       "      <th>364</th>\n",
       "      <td>5.0</td>\n",
       "      <td>1996-08-02 13:01:47</td>\n",
       "    </tr>\n",
       "    <tr>\n",
       "      <th>370</th>\n",
       "      <td>5.0</td>\n",
       "      <td>1996-08-02 13:16:36</td>\n",
       "    </tr>\n",
       "    <tr>\n",
       "      <th>377</th>\n",
       "      <td>5.0</td>\n",
       "      <td>1996-08-02 13:03:54</td>\n",
       "    </tr>\n",
       "    <tr>\n",
       "      <th>420</th>\n",
       "      <td>5.0</td>\n",
       "      <td>1996-08-02 13:03:54</td>\n",
       "    </tr>\n",
       "    <tr>\n",
       "      <th>466</th>\n",
       "      <td>5.0</td>\n",
       "      <td>1996-08-02 13:17:59</td>\n",
       "    </tr>\n",
       "    <tr>\n",
       "      <th>480</th>\n",
       "      <td>5.0</td>\n",
       "      <td>1996-08-02 13:00:53</td>\n",
       "    </tr>\n",
       "    <tr>\n",
       "      <th>520</th>\n",
       "      <td>5.0</td>\n",
       "      <td>1996-08-02 13:17:59</td>\n",
       "    </tr>\n",
       "    <tr>\n",
       "      <th>539</th>\n",
       "      <td>5.0</td>\n",
       "      <td>1996-08-02 13:07:48</td>\n",
       "    </tr>\n",
       "    <tr>\n",
       "      <th>586</th>\n",
       "      <td>5.0</td>\n",
       "      <td>1996-08-02 13:07:48</td>\n",
       "    </tr>\n",
       "    <tr>\n",
       "      <th>588</th>\n",
       "      <td>5.0</td>\n",
       "      <td>1996-08-02 12:55:39</td>\n",
       "    </tr>\n",
       "    <tr>\n",
       "      <th>589</th>\n",
       "      <td>5.0</td>\n",
       "      <td>1996-08-02 13:02:58</td>\n",
       "    </tr>\n",
       "    <tr>\n",
       "      <th>594</th>\n",
       "      <td>5.0</td>\n",
       "      <td>1996-08-02 13:17:59</td>\n",
       "    </tr>\n",
       "    <tr>\n",
       "      <th>616</th>\n",
       "      <td>5.0</td>\n",
       "      <td>1996-08-02 13:22:21</td>\n",
       "    </tr>\n",
       "    <tr>\n",
       "      <th rowspan=\"8\" valign=\"top\">2</th>\n",
       "      <th>110</th>\n",
       "      <td>5.0</td>\n",
       "      <td>1997-07-07 05:22:57</td>\n",
       "    </tr>\n",
       "    <tr>\n",
       "      <th>151</th>\n",
       "      <td>3.0</td>\n",
       "      <td>1997-07-07 05:34:10</td>\n",
       "    </tr>\n",
       "    <tr>\n",
       "      <th>260</th>\n",
       "      <td>5.0</td>\n",
       "      <td>1997-07-07 05:02:42</td>\n",
       "    </tr>\n",
       "    <tr>\n",
       "      <th>376</th>\n",
       "      <td>3.0</td>\n",
       "      <td>1997-07-07 05:25:20</td>\n",
       "    </tr>\n",
       "    <tr>\n",
       "      <th>539</th>\n",
       "      <td>3.0</td>\n",
       "      <td>1997-07-07 05:31:02</td>\n",
       "    </tr>\n",
       "    <tr>\n",
       "      <th>590</th>\n",
       "      <td>5.0</td>\n",
       "      <td>1997-07-07 05:20:08</td>\n",
       "    </tr>\n",
       "    <tr>\n",
       "      <th>648</th>\n",
       "      <td>2.0</td>\n",
       "      <td>1997-07-07 05:04:59</td>\n",
       "    </tr>\n",
       "    <tr>\n",
       "      <th>719</th>\n",
       "      <td>3.0</td>\n",
       "      <td>1997-07-07 05:29:51</td>\n",
       "    </tr>\n",
       "    <tr>\n",
       "      <th>...</th>\n",
       "      <th>...</th>\n",
       "      <td>...</td>\n",
       "      <td>...</td>\n",
       "    </tr>\n",
       "    <tr>\n",
       "      <th rowspan=\"30\" valign=\"top\">34</th>\n",
       "      <th>474</th>\n",
       "      <td>4.0</td>\n",
       "      <td>2001-02-18 16:38:43</td>\n",
       "    </tr>\n",
       "    <tr>\n",
       "      <th>479</th>\n",
       "      <td>3.0</td>\n",
       "      <td>2001-02-10 18:29:36</td>\n",
       "    </tr>\n",
       "    <tr>\n",
       "      <th>480</th>\n",
       "      <td>4.0</td>\n",
       "      <td>2001-02-10 18:06:33</td>\n",
       "    </tr>\n",
       "    <tr>\n",
       "      <th>481</th>\n",
       "      <td>2.0</td>\n",
       "      <td>2001-02-10 18:09:35</td>\n",
       "    </tr>\n",
       "    <tr>\n",
       "      <th>485</th>\n",
       "      <td>2.0</td>\n",
       "      <td>2001-02-18 17:15:52</td>\n",
       "    </tr>\n",
       "    <tr>\n",
       "      <th>491</th>\n",
       "      <td>4.0</td>\n",
       "      <td>2001-02-10 18:09:11</td>\n",
       "    </tr>\n",
       "    <tr>\n",
       "      <th>493</th>\n",
       "      <td>2.0</td>\n",
       "      <td>2001-02-07 16:55:28</td>\n",
       "    </tr>\n",
       "    <tr>\n",
       "      <th>500</th>\n",
       "      <td>3.0</td>\n",
       "      <td>2001-02-10 18:11:41</td>\n",
       "    </tr>\n",
       "    <tr>\n",
       "      <th>502</th>\n",
       "      <td>2.0</td>\n",
       "      <td>2001-02-18 17:16:21</td>\n",
       "    </tr>\n",
       "    <tr>\n",
       "      <th>504</th>\n",
       "      <td>2.0</td>\n",
       "      <td>2001-02-18 17:08:42</td>\n",
       "    </tr>\n",
       "    <tr>\n",
       "      <th>505</th>\n",
       "      <td>2.0</td>\n",
       "      <td>2001-02-18 17:15:52</td>\n",
       "    </tr>\n",
       "    <tr>\n",
       "      <th>508</th>\n",
       "      <td>3.0</td>\n",
       "      <td>2001-02-10 18:03:57</td>\n",
       "    </tr>\n",
       "    <tr>\n",
       "      <th>509</th>\n",
       "      <td>2.0</td>\n",
       "      <td>2001-02-18 16:56:38</td>\n",
       "    </tr>\n",
       "    <tr>\n",
       "      <th>511</th>\n",
       "      <td>3.0</td>\n",
       "      <td>2001-02-18 16:51:18</td>\n",
       "    </tr>\n",
       "    <tr>\n",
       "      <th>516</th>\n",
       "      <td>3.0</td>\n",
       "      <td>2001-02-18 16:59:19</td>\n",
       "    </tr>\n",
       "    <tr>\n",
       "      <th>517</th>\n",
       "      <td>2.0</td>\n",
       "      <td>2001-02-18 17:02:13</td>\n",
       "    </tr>\n",
       "    <tr>\n",
       "      <th>520</th>\n",
       "      <td>1.0</td>\n",
       "      <td>2001-02-18 17:01:38</td>\n",
       "    </tr>\n",
       "    <tr>\n",
       "      <th>524</th>\n",
       "      <td>3.0</td>\n",
       "      <td>2001-02-10 18:05:53</td>\n",
       "    </tr>\n",
       "    <tr>\n",
       "      <th>527</th>\n",
       "      <td>5.0</td>\n",
       "      <td>2001-02-07 16:43:01</td>\n",
       "    </tr>\n",
       "    <tr>\n",
       "      <th>528</th>\n",
       "      <td>1.0</td>\n",
       "      <td>2001-02-18 17:10:55</td>\n",
       "    </tr>\n",
       "    <tr>\n",
       "      <th>529</th>\n",
       "      <td>3.0</td>\n",
       "      <td>2001-02-18 16:39:21</td>\n",
       "    </tr>\n",
       "    <tr>\n",
       "      <th>531</th>\n",
       "      <td>3.0</td>\n",
       "      <td>2001-02-18 16:35:32</td>\n",
       "    </tr>\n",
       "    <tr>\n",
       "      <th>539</th>\n",
       "      <td>3.0</td>\n",
       "      <td>2001-02-10 18:12:24</td>\n",
       "    </tr>\n",
       "    <tr>\n",
       "      <th>540</th>\n",
       "      <td>3.0</td>\n",
       "      <td>2001-02-18 17:19:57</td>\n",
       "    </tr>\n",
       "    <tr>\n",
       "      <th>541</th>\n",
       "      <td>3.0</td>\n",
       "      <td>2001-02-07 16:39:55</td>\n",
       "    </tr>\n",
       "    <tr>\n",
       "      <th>542</th>\n",
       "      <td>4.0</td>\n",
       "      <td>2001-02-10 18:32:25</td>\n",
       "    </tr>\n",
       "    <tr>\n",
       "      <th>546</th>\n",
       "      <td>1.0</td>\n",
       "      <td>2001-02-18 17:21:41</td>\n",
       "    </tr>\n",
       "    <tr>\n",
       "      <th>547</th>\n",
       "      <td>3.0</td>\n",
       "      <td>2001-02-18 17:08:02</td>\n",
       "    </tr>\n",
       "    <tr>\n",
       "      <th>551</th>\n",
       "      <td>3.0</td>\n",
       "      <td>2001-02-07 16:57:16</td>\n",
       "    </tr>\n",
       "    <tr>\n",
       "      <th>552</th>\n",
       "      <td>4.0</td>\n",
       "      <td>2001-02-10 18:14:39</td>\n",
       "    </tr>\n",
       "  </tbody>\n",
       "</table>\n",
       "<p>3000 rows × 2 columns</p>\n",
       "</div>"
      ],
      "text/plain": [
       "                    puntuacion               Fecha\n",
       "id_usuario id_peli                                \n",
       "1          122             5.0 1996-08-02 13:24:06\n",
       "           185             5.0 1996-08-02 12:58:45\n",
       "           231             5.0 1996-08-02 12:56:32\n",
       "           292             5.0 1996-08-02 12:57:01\n",
       "           316             5.0 1996-08-02 12:56:32\n",
       "           329             5.0 1996-08-02 12:56:32\n",
       "           355             5.0 1996-08-02 13:14:34\n",
       "           356             5.0 1996-08-02 13:00:53\n",
       "           362             5.0 1996-08-02 13:21:25\n",
       "           364             5.0 1996-08-02 13:01:47\n",
       "           370             5.0 1996-08-02 13:16:36\n",
       "           377             5.0 1996-08-02 13:03:54\n",
       "           420             5.0 1996-08-02 13:03:54\n",
       "           466             5.0 1996-08-02 13:17:59\n",
       "           480             5.0 1996-08-02 13:00:53\n",
       "           520             5.0 1996-08-02 13:17:59\n",
       "           539             5.0 1996-08-02 13:07:48\n",
       "           586             5.0 1996-08-02 13:07:48\n",
       "           588             5.0 1996-08-02 12:55:39\n",
       "           589             5.0 1996-08-02 13:02:58\n",
       "           594             5.0 1996-08-02 13:17:59\n",
       "           616             5.0 1996-08-02 13:22:21\n",
       "2          110             5.0 1997-07-07 05:22:57\n",
       "           151             3.0 1997-07-07 05:34:10\n",
       "           260             5.0 1997-07-07 05:02:42\n",
       "           376             3.0 1997-07-07 05:25:20\n",
       "           539             3.0 1997-07-07 05:31:02\n",
       "           590             5.0 1997-07-07 05:20:08\n",
       "           648             2.0 1997-07-07 05:04:59\n",
       "           719             3.0 1997-07-07 05:29:51\n",
       "...                        ...                 ...\n",
       "34         474             4.0 2001-02-18 16:38:43\n",
       "           479             3.0 2001-02-10 18:29:36\n",
       "           480             4.0 2001-02-10 18:06:33\n",
       "           481             2.0 2001-02-10 18:09:35\n",
       "           485             2.0 2001-02-18 17:15:52\n",
       "           491             4.0 2001-02-10 18:09:11\n",
       "           493             2.0 2001-02-07 16:55:28\n",
       "           500             3.0 2001-02-10 18:11:41\n",
       "           502             2.0 2001-02-18 17:16:21\n",
       "           504             2.0 2001-02-18 17:08:42\n",
       "           505             2.0 2001-02-18 17:15:52\n",
       "           508             3.0 2001-02-10 18:03:57\n",
       "           509             2.0 2001-02-18 16:56:38\n",
       "           511             3.0 2001-02-18 16:51:18\n",
       "           516             3.0 2001-02-18 16:59:19\n",
       "           517             2.0 2001-02-18 17:02:13\n",
       "           520             1.0 2001-02-18 17:01:38\n",
       "           524             3.0 2001-02-10 18:05:53\n",
       "           527             5.0 2001-02-07 16:43:01\n",
       "           528             1.0 2001-02-18 17:10:55\n",
       "           529             3.0 2001-02-18 16:39:21\n",
       "           531             3.0 2001-02-18 16:35:32\n",
       "           539             3.0 2001-02-10 18:12:24\n",
       "           540             3.0 2001-02-18 17:19:57\n",
       "           541             3.0 2001-02-07 16:39:55\n",
       "           542             4.0 2001-02-10 18:32:25\n",
       "           546             1.0 2001-02-18 17:21:41\n",
       "           547             3.0 2001-02-18 17:08:02\n",
       "           551             3.0 2001-02-07 16:57:16\n",
       "           552             4.0 2001-02-10 18:14:39\n",
       "\n",
       "[3000 rows x 2 columns]"
      ]
     },
     "execution_count": 23,
     "metadata": {},
     "output_type": "execute_result"
    }
   ],
   "source": [
    "df_ratings_2"
   ]
  },
  {
   "cell_type": "markdown",
   "metadata": {},
   "source": [
    "## 1.3 Exportando DataFrames"
   ]
  },
  {
   "cell_type": "markdown",
   "metadata": {},
   "source": [
    "Para exportar un DataFrame a un fichero con extensión __csv__  utilizamos la función [__to_csv__](http://pandas.pydata.org/pandas-docs/stable/generated/pandas.DataFrame.to_csv.html). Para exportar un DataFrame a un fichero con extensión __xlsx__ utilizamos la función __to_excel__:\n",
    "* Ambas funciones admiten una gran cantidad de parámetros. Opcionalmente podemos generar un fichero csv/xlsx con cabeceras o sin ellas, con índices o sin ellos."
   ]
  },
  {
   "cell_type": "code",
   "execution_count": 24,
   "metadata": {
    "collapsed": false
   },
   "outputs": [],
   "source": [
    "tabla_dep.to_excel('./datos/HR_coma_sales.xlsx',\n",
    "                      header = True, index = False)"
   ]
  },
  {
   "cell_type": "markdown",
   "metadata": {},
   "source": [
    "## 1.4 Operaciones del álgebra relacional. Función Merge"
   ]
  },
  {
   "cell_type": "code",
   "execution_count": 25,
   "metadata": {
    "collapsed": false
   },
   "outputs": [
    {
     "data": {
      "text/html": [
       "<div>\n",
       "<table border=\"1\" class=\"dataframe\">\n",
       "  <thead>\n",
       "    <tr style=\"text-align: right;\">\n",
       "      <th></th>\n",
       "      <th>UserID</th>\n",
       "      <th>MovieID</th>\n",
       "      <th>Starts</th>\n",
       "      <th>Date</th>\n",
       "    </tr>\n",
       "  </thead>\n",
       "  <tbody>\n",
       "    <tr>\n",
       "      <th>0</th>\n",
       "      <td>1</td>\n",
       "      <td>122</td>\n",
       "      <td>5.0</td>\n",
       "      <td>1996-08-02 13:24:06</td>\n",
       "    </tr>\n",
       "    <tr>\n",
       "      <th>1</th>\n",
       "      <td>1</td>\n",
       "      <td>185</td>\n",
       "      <td>5.0</td>\n",
       "      <td>1996-08-02 12:58:45</td>\n",
       "    </tr>\n",
       "    <tr>\n",
       "      <th>2</th>\n",
       "      <td>1</td>\n",
       "      <td>231</td>\n",
       "      <td>5.0</td>\n",
       "      <td>1996-08-02 12:56:32</td>\n",
       "    </tr>\n",
       "    <tr>\n",
       "      <th>3</th>\n",
       "      <td>1</td>\n",
       "      <td>292</td>\n",
       "      <td>5.0</td>\n",
       "      <td>1996-08-02 12:57:01</td>\n",
       "    </tr>\n",
       "    <tr>\n",
       "      <th>4</th>\n",
       "      <td>1</td>\n",
       "      <td>316</td>\n",
       "      <td>5.0</td>\n",
       "      <td>1996-08-02 12:56:32</td>\n",
       "    </tr>\n",
       "  </tbody>\n",
       "</table>\n",
       "</div>"
      ],
      "text/plain": [
       "   UserID  MovieID  Starts                Date\n",
       "0       1      122     5.0 1996-08-02 13:24:06\n",
       "1       1      185     5.0 1996-08-02 12:58:45\n",
       "2       1      231     5.0 1996-08-02 12:56:32\n",
       "3       1      292     5.0 1996-08-02 12:57:01\n",
       "4       1      316     5.0 1996-08-02 12:56:32"
      ]
     },
     "execution_count": 25,
     "metadata": {},
     "output_type": "execute_result"
    }
   ],
   "source": [
    "df_ratings.head()"
   ]
  },
  {
   "cell_type": "code",
   "execution_count": 26,
   "metadata": {
    "collapsed": false
   },
   "outputs": [
    {
     "data": {
      "text/html": [
       "<div>\n",
       "<table border=\"1\" class=\"dataframe\">\n",
       "  <thead>\n",
       "    <tr style=\"text-align: right;\">\n",
       "      <th></th>\n",
       "      <th>MovieID</th>\n",
       "      <th>Title</th>\n",
       "      <th>Genres</th>\n",
       "    </tr>\n",
       "  </thead>\n",
       "  <tbody>\n",
       "    <tr>\n",
       "      <th>0</th>\n",
       "      <td>1</td>\n",
       "      <td>Toy Story (1995)</td>\n",
       "      <td>Adventure|Animation|Children|Comedy|Fantasy</td>\n",
       "    </tr>\n",
       "    <tr>\n",
       "      <th>1</th>\n",
       "      <td>2</td>\n",
       "      <td>Jumanji (1995)</td>\n",
       "      <td>Adventure|Children|Fantasy</td>\n",
       "    </tr>\n",
       "    <tr>\n",
       "      <th>2</th>\n",
       "      <td>3</td>\n",
       "      <td>Grumpier Old Men (1995)</td>\n",
       "      <td>Comedy|Romance</td>\n",
       "    </tr>\n",
       "    <tr>\n",
       "      <th>3</th>\n",
       "      <td>4</td>\n",
       "      <td>Waiting to Exhale (1995)</td>\n",
       "      <td>Comedy|Drama|Romance</td>\n",
       "    </tr>\n",
       "    <tr>\n",
       "      <th>4</th>\n",
       "      <td>5</td>\n",
       "      <td>Father of the Bride Part II (1995)</td>\n",
       "      <td>Comedy</td>\n",
       "    </tr>\n",
       "  </tbody>\n",
       "</table>\n",
       "</div>"
      ],
      "text/plain": [
       "   MovieID                               Title  \\\n",
       "0        1                    Toy Story (1995)   \n",
       "1        2                      Jumanji (1995)   \n",
       "2        3             Grumpier Old Men (1995)   \n",
       "3        4            Waiting to Exhale (1995)   \n",
       "4        5  Father of the Bride Part II (1995)   \n",
       "\n",
       "                                        Genres  \n",
       "0  Adventure|Animation|Children|Comedy|Fantasy  \n",
       "1                   Adventure|Children|Fantasy  \n",
       "2                               Comedy|Romance  \n",
       "3                         Comedy|Drama|Romance  \n",
       "4                                       Comedy  "
      ]
     },
     "execution_count": 26,
     "metadata": {},
     "output_type": "execute_result"
    }
   ],
   "source": [
    "df_movies = pd.read_csv(ruta_movies, sep = '::', header = None,\n",
    "                         names = [ 'MovieID', 'Title', 'Genres'],\n",
    "                         engine ='python') \n",
    "                                                \n",
    "df_movies.head()"
   ]
  },
  {
   "cell_type": "code",
   "execution_count": 27,
   "metadata": {
    "collapsed": false
   },
   "outputs": [
    {
     "data": {
      "text/html": [
       "<div>\n",
       "<table border=\"1\" class=\"dataframe\">\n",
       "  <thead>\n",
       "    <tr style=\"text-align: right;\">\n",
       "      <th></th>\n",
       "      <th>UserID</th>\n",
       "      <th>MovieID</th>\n",
       "      <th>Starts</th>\n",
       "      <th>Date</th>\n",
       "      <th>Title</th>\n",
       "      <th>Genres</th>\n",
       "    </tr>\n",
       "  </thead>\n",
       "  <tbody>\n",
       "    <tr>\n",
       "      <th>0</th>\n",
       "      <td>1</td>\n",
       "      <td>122</td>\n",
       "      <td>5.0</td>\n",
       "      <td>1996-08-02 13:24:06</td>\n",
       "      <td>Boomerang (1992)</td>\n",
       "      <td>Comedy|Romance</td>\n",
       "    </tr>\n",
       "    <tr>\n",
       "      <th>1</th>\n",
       "      <td>1</td>\n",
       "      <td>185</td>\n",
       "      <td>5.0</td>\n",
       "      <td>1996-08-02 12:58:45</td>\n",
       "      <td>Net, The (1995)</td>\n",
       "      <td>Action|Crime|Thriller</td>\n",
       "    </tr>\n",
       "    <tr>\n",
       "      <th>2</th>\n",
       "      <td>22</td>\n",
       "      <td>185</td>\n",
       "      <td>3.0</td>\n",
       "      <td>1996-08-02 12:55:43</td>\n",
       "      <td>Net, The (1995)</td>\n",
       "      <td>Action|Crime|Thriller</td>\n",
       "    </tr>\n",
       "    <tr>\n",
       "      <th>3</th>\n",
       "      <td>26</td>\n",
       "      <td>185</td>\n",
       "      <td>4.0</td>\n",
       "      <td>1996-10-04 11:23:05</td>\n",
       "      <td>Net, The (1995)</td>\n",
       "      <td>Action|Crime|Thriller</td>\n",
       "    </tr>\n",
       "    <tr>\n",
       "      <th>4</th>\n",
       "      <td>30</td>\n",
       "      <td>185</td>\n",
       "      <td>4.0</td>\n",
       "      <td>1997-10-11 02:15:49</td>\n",
       "      <td>Net, The (1995)</td>\n",
       "      <td>Action|Crime|Thriller</td>\n",
       "    </tr>\n",
       "  </tbody>\n",
       "</table>\n",
       "</div>"
      ],
      "text/plain": [
       "   UserID  MovieID  Starts                Date             Title  \\\n",
       "0       1      122     5.0 1996-08-02 13:24:06  Boomerang (1992)   \n",
       "1       1      185     5.0 1996-08-02 12:58:45   Net, The (1995)   \n",
       "2      22      185     3.0 1996-08-02 12:55:43   Net, The (1995)   \n",
       "3      26      185     4.0 1996-10-04 11:23:05   Net, The (1995)   \n",
       "4      30      185     4.0 1997-10-11 02:15:49   Net, The (1995)   \n",
       "\n",
       "                  Genres  \n",
       "0         Comedy|Romance  \n",
       "1  Action|Crime|Thriller  \n",
       "2  Action|Crime|Thriller  \n",
       "3  Action|Crime|Thriller  \n",
       "4  Action|Crime|Thriller  "
      ]
     },
     "execution_count": 27,
     "metadata": {},
     "output_type": "execute_result"
    }
   ],
   "source": [
    "result = pd.merge(df_ratings, df_movies, on=['MovieID'])               \n",
    "result.head()"
   ]
  },
  {
   "cell_type": "markdown",
   "metadata": {},
   "source": [
    "## 1.5 Acceso a los datos (filas y columnas)"
   ]
  },
  {
   "cell_type": "markdown",
   "metadata": {},
   "source": [
    "Para acceder a las columnas, podemos usar la notación '.' (como si fuera un atributo) o con la notación empleada en los diccionarios, utilizando como clave el nombre de la columna."
   ]
  },
  {
   "cell_type": "code",
   "execution_count": 28,
   "metadata": {
    "collapsed": false
   },
   "outputs": [
    {
     "data": {
      "text/html": [
       "<div>\n",
       "<table border=\"1\" class=\"dataframe\">\n",
       "  <thead>\n",
       "    <tr style=\"text-align: right;\">\n",
       "      <th></th>\n",
       "      <th>nivel_de_satisfaccion</th>\n",
       "      <th>ultima_encuesta</th>\n",
       "      <th>numero_de_proyectos</th>\n",
       "      <th>media_horas_mes</th>\n",
       "      <th>horas_en_la_empresa</th>\n",
       "      <th>accidente_de_trabajo</th>\n",
       "      <th>deja_la_empresa</th>\n",
       "      <th>promociona</th>\n",
       "      <th>dep</th>\n",
       "      <th>salario</th>\n",
       "    </tr>\n",
       "  </thead>\n",
       "  <tbody>\n",
       "    <tr>\n",
       "      <th>0</th>\n",
       "      <td>0.38</td>\n",
       "      <td>0.53</td>\n",
       "      <td>2.0</td>\n",
       "      <td>157</td>\n",
       "      <td>3</td>\n",
       "      <td>0</td>\n",
       "      <td>1.0</td>\n",
       "      <td>0</td>\n",
       "      <td>sales</td>\n",
       "      <td>low</td>\n",
       "    </tr>\n",
       "    <tr>\n",
       "      <th>1</th>\n",
       "      <td>0.80</td>\n",
       "      <td>0.86</td>\n",
       "      <td>5.0</td>\n",
       "      <td>262</td>\n",
       "      <td>6</td>\n",
       "      <td>0</td>\n",
       "      <td>1.0</td>\n",
       "      <td>0</td>\n",
       "      <td>sales</td>\n",
       "      <td>medium</td>\n",
       "    </tr>\n",
       "    <tr>\n",
       "      <th>2</th>\n",
       "      <td>0.11</td>\n",
       "      <td>0.88</td>\n",
       "      <td>7.0</td>\n",
       "      <td>272</td>\n",
       "      <td>4</td>\n",
       "      <td>0</td>\n",
       "      <td>1.0</td>\n",
       "      <td>0</td>\n",
       "      <td>NaN</td>\n",
       "      <td>medium</td>\n",
       "    </tr>\n",
       "    <tr>\n",
       "      <th>3</th>\n",
       "      <td>0.72</td>\n",
       "      <td>0.87</td>\n",
       "      <td>5.0</td>\n",
       "      <td>223</td>\n",
       "      <td>5</td>\n",
       "      <td>0</td>\n",
       "      <td>1.0</td>\n",
       "      <td>0</td>\n",
       "      <td>sales</td>\n",
       "      <td>low</td>\n",
       "    </tr>\n",
       "    <tr>\n",
       "      <th>4</th>\n",
       "      <td>0.37</td>\n",
       "      <td>0.52</td>\n",
       "      <td>NaN</td>\n",
       "      <td>159</td>\n",
       "      <td>3</td>\n",
       "      <td>0</td>\n",
       "      <td>1.0</td>\n",
       "      <td>0</td>\n",
       "      <td>sales</td>\n",
       "      <td>low</td>\n",
       "    </tr>\n",
       "  </tbody>\n",
       "</table>\n",
       "</div>"
      ],
      "text/plain": [
       "   nivel_de_satisfaccion  ultima_encuesta  numero_de_proyectos  \\\n",
       "0                   0.38             0.53                  2.0   \n",
       "1                   0.80             0.86                  5.0   \n",
       "2                   0.11             0.88                  7.0   \n",
       "3                   0.72             0.87                  5.0   \n",
       "4                   0.37             0.52                  NaN   \n",
       "\n",
       "   media_horas_mes   horas_en_la_empresa  accidente_de_trabajo  \\\n",
       "0               157                    3                     0   \n",
       "1               262                    6                     0   \n",
       "2               272                    4                     0   \n",
       "3               223                    5                     0   \n",
       "4               159                    3                     0   \n",
       "\n",
       "   deja_la_empresa  promociona    dep salario  \n",
       "0              1.0           0  sales     low  \n",
       "1              1.0           0  sales  medium  \n",
       "2              1.0           0    NaN  medium  \n",
       "3              1.0           0  sales     low  \n",
       "4              1.0           0  sales     low  "
      ]
     },
     "execution_count": 28,
     "metadata": {},
     "output_type": "execute_result"
    }
   ],
   "source": [
    "tabla = pd.read_csv('./datos/HR_comma.csv')\n",
    "tabla.head()"
   ]
  },
  {
   "cell_type": "code",
   "execution_count": 29,
   "metadata": {
    "collapsed": false
   },
   "outputs": [
    {
     "data": {
      "text/plain": [
       "0           low\n",
       "1        medium\n",
       "2        medium\n",
       "3           low\n",
       "4           low\n",
       "5           low\n",
       "6           low\n",
       "7           low\n",
       "8           low\n",
       "9           low\n",
       "10          low\n",
       "11          NaN\n",
       "12          low\n",
       "13          low\n",
       "14          low\n",
       "15          NaN\n",
       "16          low\n",
       "17          low\n",
       "18          low\n",
       "19          low\n",
       "20          low\n",
       "21          low\n",
       "22          low\n",
       "23          low\n",
       "24          low\n",
       "25          low\n",
       "26          low\n",
       "27          low\n",
       "28          low\n",
       "29          low\n",
       "          ...  \n",
       "14969    medium\n",
       "14970    medium\n",
       "14971    medium\n",
       "14972    medium\n",
       "14973    medium\n",
       "14974    medium\n",
       "14975    medium\n",
       "14976    medium\n",
       "14977    medium\n",
       "14978    medium\n",
       "14979    medium\n",
       "14980      high\n",
       "14981       low\n",
       "14982    medium\n",
       "14983    medium\n",
       "14984    medium\n",
       "14985    medium\n",
       "14986       low\n",
       "14987       low\n",
       "14988       low\n",
       "14989       low\n",
       "14990       low\n",
       "14991       low\n",
       "14992       low\n",
       "14993       low\n",
       "14994       low\n",
       "14995       low\n",
       "14996       low\n",
       "14997       low\n",
       "14998       low\n",
       "Name: salario, dtype: object"
      ]
     },
     "execution_count": 29,
     "metadata": {},
     "output_type": "execute_result"
    }
   ],
   "source": [
    "tabla.salario"
   ]
  },
  {
   "cell_type": "code",
   "execution_count": 30,
   "metadata": {
    "collapsed": false
   },
   "outputs": [
    {
     "data": {
      "text/plain": [
       "0           low\n",
       "1        medium\n",
       "2        medium\n",
       "3           low\n",
       "4           low\n",
       "5           low\n",
       "6           low\n",
       "7           low\n",
       "8           low\n",
       "9           low\n",
       "10          low\n",
       "11          NaN\n",
       "12          low\n",
       "13          low\n",
       "14          low\n",
       "15          NaN\n",
       "16          low\n",
       "17          low\n",
       "18          low\n",
       "19          low\n",
       "20          low\n",
       "21          low\n",
       "22          low\n",
       "23          low\n",
       "24          low\n",
       "25          low\n",
       "26          low\n",
       "27          low\n",
       "28          low\n",
       "29          low\n",
       "          ...  \n",
       "14969    medium\n",
       "14970    medium\n",
       "14971    medium\n",
       "14972    medium\n",
       "14973    medium\n",
       "14974    medium\n",
       "14975    medium\n",
       "14976    medium\n",
       "14977    medium\n",
       "14978    medium\n",
       "14979    medium\n",
       "14980      high\n",
       "14981       low\n",
       "14982    medium\n",
       "14983    medium\n",
       "14984    medium\n",
       "14985    medium\n",
       "14986       low\n",
       "14987       low\n",
       "14988       low\n",
       "14989       low\n",
       "14990       low\n",
       "14991       low\n",
       "14992       low\n",
       "14993       low\n",
       "14994       low\n",
       "14995       low\n",
       "14996       low\n",
       "14997       low\n",
       "14998       low\n",
       "Name: salario, dtype: object"
      ]
     },
     "execution_count": 30,
     "metadata": {},
     "output_type": "execute_result"
    }
   ],
   "source": [
    "tabla[ 'salario' ]    #  Acceso utilizando notación corchetes "
   ]
  },
  {
   "cell_type": "markdown",
   "metadata": {},
   "source": [
    "En Pandas se utiliza la función __loc__ para realizar un accceso a los datos más eficiente que las notaciones anteriores.\n",
    "\n",
    "```\n",
    "loc[filas, columnas]\n",
    "\n",
    "```"
   ]
  },
  {
   "cell_type": "code",
   "execution_count": 31,
   "metadata": {
    "collapsed": false
   },
   "outputs": [
    {
     "data": {
      "text/html": [
       "<div>\n",
       "<table border=\"1\" class=\"dataframe\">\n",
       "  <thead>\n",
       "    <tr style=\"text-align: right;\">\n",
       "      <th></th>\n",
       "      <th>nivel_de_satisfaccion</th>\n",
       "      <th>salario</th>\n",
       "    </tr>\n",
       "  </thead>\n",
       "  <tbody>\n",
       "    <tr>\n",
       "      <th>0</th>\n",
       "      <td>0.38</td>\n",
       "      <td>low</td>\n",
       "    </tr>\n",
       "    <tr>\n",
       "      <th>1</th>\n",
       "      <td>0.80</td>\n",
       "      <td>medium</td>\n",
       "    </tr>\n",
       "    <tr>\n",
       "      <th>2</th>\n",
       "      <td>0.11</td>\n",
       "      <td>medium</td>\n",
       "    </tr>\n",
       "    <tr>\n",
       "      <th>3</th>\n",
       "      <td>0.72</td>\n",
       "      <td>low</td>\n",
       "    </tr>\n",
       "    <tr>\n",
       "      <th>4</th>\n",
       "      <td>0.37</td>\n",
       "      <td>low</td>\n",
       "    </tr>\n",
       "  </tbody>\n",
       "</table>\n",
       "</div>"
      ],
      "text/plain": [
       "   nivel_de_satisfaccion salario\n",
       "0                   0.38     low\n",
       "1                   0.80  medium\n",
       "2                   0.11  medium\n",
       "3                   0.72     low\n",
       "4                   0.37     low"
      ]
     },
     "execution_count": 31,
     "metadata": {},
     "output_type": "execute_result"
    }
   ],
   "source": [
    "#acceso más eficiente\n",
    "resultado = tabla.loc[:, ['nivel_de_satisfaccion','salario']]  \n",
    "resultado.head()"
   ]
  },
  {
   "cell_type": "markdown",
   "metadata": {},
   "source": [
    "Podemos obtener los valores distintos que toma una variable categórica mediante la función __unique()__."
   ]
  },
  {
   "cell_type": "code",
   "execution_count": 32,
   "metadata": {
    "collapsed": false
   },
   "outputs": [
    {
     "data": {
      "text/plain": [
       "array(['low', 'medium', nan, 'high'], dtype=object)"
      ]
     },
     "execution_count": 32,
     "metadata": {},
     "output_type": "execute_result"
    }
   ],
   "source": [
    "tabla.salario.unique()      "
   ]
  },
  {
   "cell_type": "markdown",
   "metadata": {},
   "source": [
    "Si queremos saber el número de empleados para cada uno de los valores de salario, podemos obtenerlo mediante la función __value_counts()__."
   ]
  },
  {
   "cell_type": "code",
   "execution_count": 33,
   "metadata": {
    "collapsed": false
   },
   "outputs": [
    {
     "data": {
      "text/plain": [
       "low       7314\n",
       "medium    6446\n",
       "high      1237\n",
       "Name: salario, dtype: int64"
      ]
     },
     "execution_count": 33,
     "metadata": {},
     "output_type": "execute_result"
    }
   ],
   "source": [
    "tabla.salario.value_counts()"
   ]
  },
  {
   "cell_type": "code",
   "execution_count": 34,
   "metadata": {
    "collapsed": true
   },
   "outputs": [],
   "source": [
    "# Visualizar diagrama de barras\n",
    "import matplotlib as mpl\n",
    "import matplotlib.pyplot as plt\n",
    "\n",
    "%matplotlib inline\n",
    "serie = tabla.salario.value_counts()"
   ]
  },
  {
   "cell_type": "code",
   "execution_count": 35,
   "metadata": {
    "collapsed": false
   },
   "outputs": [
    {
     "data": {
      "image/png": "[encoded data removed]",
      "text/plain": [
       "<matplotlib.figure.Figure at 0x16a31aa5e48>"
      ]
     },
     "metadata": {},
     "output_type": "display_data"
    }
   ],
   "source": [
    "serie.plot(kind='bar');"
   ]
  },
  {
   "cell_type": "markdown",
   "metadata": {},
   "source": [
    "##### 1.5.0.0.1 Ejercicios"
   ]
  },
  {
   "cell_type": "markdown",
   "metadata": {},
   "source": [
    "__* Obtener los departamentos que aparecen en el dataset:__"
   ]
  },
  {
   "cell_type": "code",
   "execution_count": 36,
   "metadata": {
    "collapsed": true
   },
   "outputs": [],
   "source": [
    "# Sol:"
   ]
  },
  {
   "cell_type": "markdown",
   "metadata": {},
   "source": [
    "\n",
    "__* Obtener el departamento que tiene más registros en el dataset:__"
   ]
  },
  {
   "cell_type": "code",
   "execution_count": 37,
   "metadata": {
    "collapsed": true
   },
   "outputs": [],
   "source": [
    "# Sol:"
   ]
  },
  {
   "cell_type": "markdown",
   "metadata": {},
   "source": [
    "## 1.6 Actualización de datos de un DataFrame"
   ]
  },
  {
   "cell_type": "markdown",
   "metadata": {},
   "source": [
    "### 1.6.1 Modificando valores del DataFrame"
   ]
  },
  {
   "cell_type": "markdown",
   "metadata": {},
   "source": [
    "Para actualizar los datos de una columna podemos utilizar un valor concreto:"
   ]
  },
  {
   "cell_type": "code",
   "execution_count": 38,
   "metadata": {
    "collapsed": false
   },
   "outputs": [
    {
     "data": {
      "text/html": [
       "<div>\n",
       "<table border=\"1\" class=\"dataframe\">\n",
       "  <thead>\n",
       "    <tr style=\"text-align: right;\">\n",
       "      <th></th>\n",
       "      <th>nivel_de_satisfaccion</th>\n",
       "      <th>ultima_encuesta</th>\n",
       "      <th>numero_de_proyectos</th>\n",
       "      <th>media_horas_mes</th>\n",
       "      <th>horas_en_la_empresa</th>\n",
       "      <th>accidente_de_trabajo</th>\n",
       "      <th>deja_la_empresa</th>\n",
       "      <th>promociona</th>\n",
       "      <th>dep</th>\n",
       "      <th>salario</th>\n",
       "      <th>sexo</th>\n",
       "    </tr>\n",
       "  </thead>\n",
       "  <tbody>\n",
       "    <tr>\n",
       "      <th>0</th>\n",
       "      <td>0.38</td>\n",
       "      <td>0.53</td>\n",
       "      <td>2.0</td>\n",
       "      <td>157</td>\n",
       "      <td>3</td>\n",
       "      <td>0</td>\n",
       "      <td>1.0</td>\n",
       "      <td>0</td>\n",
       "      <td>sales</td>\n",
       "      <td>low</td>\n",
       "      <td>M</td>\n",
       "    </tr>\n",
       "    <tr>\n",
       "      <th>1</th>\n",
       "      <td>0.80</td>\n",
       "      <td>0.86</td>\n",
       "      <td>5.0</td>\n",
       "      <td>262</td>\n",
       "      <td>6</td>\n",
       "      <td>0</td>\n",
       "      <td>1.0</td>\n",
       "      <td>0</td>\n",
       "      <td>sales</td>\n",
       "      <td>medium</td>\n",
       "      <td>M</td>\n",
       "    </tr>\n",
       "    <tr>\n",
       "      <th>2</th>\n",
       "      <td>0.11</td>\n",
       "      <td>0.88</td>\n",
       "      <td>7.0</td>\n",
       "      <td>272</td>\n",
       "      <td>4</td>\n",
       "      <td>0</td>\n",
       "      <td>1.0</td>\n",
       "      <td>0</td>\n",
       "      <td>NaN</td>\n",
       "      <td>medium</td>\n",
       "      <td>M</td>\n",
       "    </tr>\n",
       "    <tr>\n",
       "      <th>3</th>\n",
       "      <td>0.72</td>\n",
       "      <td>0.87</td>\n",
       "      <td>5.0</td>\n",
       "      <td>223</td>\n",
       "      <td>5</td>\n",
       "      <td>0</td>\n",
       "      <td>1.0</td>\n",
       "      <td>0</td>\n",
       "      <td>sales</td>\n",
       "      <td>low</td>\n",
       "      <td>M</td>\n",
       "    </tr>\n",
       "    <tr>\n",
       "      <th>4</th>\n",
       "      <td>0.37</td>\n",
       "      <td>0.52</td>\n",
       "      <td>NaN</td>\n",
       "      <td>159</td>\n",
       "      <td>3</td>\n",
       "      <td>0</td>\n",
       "      <td>1.0</td>\n",
       "      <td>0</td>\n",
       "      <td>sales</td>\n",
       "      <td>low</td>\n",
       "      <td>M</td>\n",
       "    </tr>\n",
       "  </tbody>\n",
       "</table>\n",
       "</div>"
      ],
      "text/plain": [
       "   nivel_de_satisfaccion  ultima_encuesta  numero_de_proyectos  \\\n",
       "0                   0.38             0.53                  2.0   \n",
       "1                   0.80             0.86                  5.0   \n",
       "2                   0.11             0.88                  7.0   \n",
       "3                   0.72             0.87                  5.0   \n",
       "4                   0.37             0.52                  NaN   \n",
       "\n",
       "   media_horas_mes   horas_en_la_empresa  accidente_de_trabajo  \\\n",
       "0               157                    3                     0   \n",
       "1               262                    6                     0   \n",
       "2               272                    4                     0   \n",
       "3               223                    5                     0   \n",
       "4               159                    3                     0   \n",
       "\n",
       "   deja_la_empresa  promociona    dep salario sexo  \n",
       "0              1.0           0  sales     low    M  \n",
       "1              1.0           0  sales  medium    M  \n",
       "2              1.0           0    NaN  medium    M  \n",
       "3              1.0           0  sales     low    M  \n",
       "4              1.0           0  sales     low    M  "
      ]
     },
     "execution_count": 38,
     "metadata": {},
     "output_type": "execute_result"
    }
   ],
   "source": [
    "# Si no existe la variable `sexo` la crea\n",
    "# Si exite la modifica\n",
    "tabla['sexo'] = 'M'\n",
    "tabla.head()"
   ]
  },
  {
   "cell_type": "markdown",
   "metadata": {},
   "source": [
    "Modifica una columna existente:"
   ]
  },
  {
   "cell_type": "code",
   "execution_count": 39,
   "metadata": {
    "collapsed": false
   },
   "outputs": [
    {
     "data": {
      "text/html": [
       "<div>\n",
       "<table border=\"1\" class=\"dataframe\">\n",
       "  <thead>\n",
       "    <tr style=\"text-align: right;\">\n",
       "      <th></th>\n",
       "      <th>nivel_de_satisfaccion</th>\n",
       "      <th>ultima_encuesta</th>\n",
       "      <th>numero_de_proyectos</th>\n",
       "      <th>media_horas_mes</th>\n",
       "      <th>horas_en_la_empresa</th>\n",
       "      <th>accidente_de_trabajo</th>\n",
       "      <th>deja_la_empresa</th>\n",
       "      <th>promociona</th>\n",
       "      <th>dep</th>\n",
       "      <th>salario</th>\n",
       "      <th>sexo</th>\n",
       "    </tr>\n",
       "  </thead>\n",
       "  <tbody>\n",
       "    <tr>\n",
       "      <th>0</th>\n",
       "      <td>0.38</td>\n",
       "      <td>0.53</td>\n",
       "      <td>3.0</td>\n",
       "      <td>157</td>\n",
       "      <td>3</td>\n",
       "      <td>0</td>\n",
       "      <td>1.0</td>\n",
       "      <td>0</td>\n",
       "      <td>sales</td>\n",
       "      <td>low</td>\n",
       "      <td>M</td>\n",
       "    </tr>\n",
       "    <tr>\n",
       "      <th>1</th>\n",
       "      <td>0.80</td>\n",
       "      <td>0.86</td>\n",
       "      <td>6.0</td>\n",
       "      <td>262</td>\n",
       "      <td>6</td>\n",
       "      <td>0</td>\n",
       "      <td>1.0</td>\n",
       "      <td>0</td>\n",
       "      <td>sales</td>\n",
       "      <td>medium</td>\n",
       "      <td>M</td>\n",
       "    </tr>\n",
       "    <tr>\n",
       "      <th>2</th>\n",
       "      <td>0.11</td>\n",
       "      <td>0.88</td>\n",
       "      <td>8.0</td>\n",
       "      <td>272</td>\n",
       "      <td>4</td>\n",
       "      <td>0</td>\n",
       "      <td>1.0</td>\n",
       "      <td>0</td>\n",
       "      <td>NaN</td>\n",
       "      <td>medium</td>\n",
       "      <td>M</td>\n",
       "    </tr>\n",
       "    <tr>\n",
       "      <th>3</th>\n",
       "      <td>0.72</td>\n",
       "      <td>0.87</td>\n",
       "      <td>6.0</td>\n",
       "      <td>223</td>\n",
       "      <td>5</td>\n",
       "      <td>0</td>\n",
       "      <td>1.0</td>\n",
       "      <td>0</td>\n",
       "      <td>sales</td>\n",
       "      <td>low</td>\n",
       "      <td>M</td>\n",
       "    </tr>\n",
       "    <tr>\n",
       "      <th>4</th>\n",
       "      <td>0.37</td>\n",
       "      <td>0.52</td>\n",
       "      <td>NaN</td>\n",
       "      <td>159</td>\n",
       "      <td>3</td>\n",
       "      <td>0</td>\n",
       "      <td>1.0</td>\n",
       "      <td>0</td>\n",
       "      <td>sales</td>\n",
       "      <td>low</td>\n",
       "      <td>M</td>\n",
       "    </tr>\n",
       "  </tbody>\n",
       "</table>\n",
       "</div>"
      ],
      "text/plain": [
       "   nivel_de_satisfaccion  ultima_encuesta  numero_de_proyectos  \\\n",
       "0                   0.38             0.53                  3.0   \n",
       "1                   0.80             0.86                  6.0   \n",
       "2                   0.11             0.88                  8.0   \n",
       "3                   0.72             0.87                  6.0   \n",
       "4                   0.37             0.52                  NaN   \n",
       "\n",
       "   media_horas_mes   horas_en_la_empresa  accidente_de_trabajo  \\\n",
       "0               157                    3                     0   \n",
       "1               262                    6                     0   \n",
       "2               272                    4                     0   \n",
       "3               223                    5                     0   \n",
       "4               159                    3                     0   \n",
       "\n",
       "   deja_la_empresa  promociona    dep salario sexo  \n",
       "0              1.0           0  sales     low    M  \n",
       "1              1.0           0  sales  medium    M  \n",
       "2              1.0           0    NaN  medium    M  \n",
       "3              1.0           0  sales     low    M  \n",
       "4              1.0           0  sales     low    M  "
      ]
     },
     "execution_count": 39,
     "metadata": {},
     "output_type": "execute_result"
    }
   ],
   "source": [
    "tabla['numero_de_proyectos'] = tabla['numero_de_proyectos'] + 1\n",
    "tabla.head()"
   ]
  },
  {
   "cell_type": "markdown",
   "metadata": {},
   "source": [
    "> Las operaciones sobre DataFrames son vectorizadas, al igual que ocurría con las operaciones sobre los objetos ndarray de NumPy."
   ]
  },
  {
   "cell_type": "markdown",
   "metadata": {},
   "source": [
    "__Ejemplo__:\n",
    "\n",
    "Podemos crear una nueva columna en el DataFrame, cuyos valores se obtengan a partir del `salario`."
   ]
  },
  {
   "cell_type": "code",
   "execution_count": 40,
   "metadata": {
    "collapsed": false
   },
   "outputs": [
    {
     "data": {
      "text/html": [
       "<div>\n",
       "<table border=\"1\" class=\"dataframe\">\n",
       "  <thead>\n",
       "    <tr style=\"text-align: right;\">\n",
       "      <th></th>\n",
       "      <th>nivel_de_satisfaccion</th>\n",
       "      <th>ultima_encuesta</th>\n",
       "      <th>numero_de_proyectos</th>\n",
       "      <th>media_horas_mes</th>\n",
       "      <th>horas_en_la_empresa</th>\n",
       "      <th>accidente_de_trabajo</th>\n",
       "      <th>deja_la_empresa</th>\n",
       "      <th>promociona</th>\n",
       "      <th>dep</th>\n",
       "      <th>salario</th>\n",
       "      <th>sexo</th>\n",
       "      <th>salario €</th>\n",
       "    </tr>\n",
       "  </thead>\n",
       "  <tbody>\n",
       "    <tr>\n",
       "      <th>0</th>\n",
       "      <td>0.38</td>\n",
       "      <td>0.53</td>\n",
       "      <td>3.0</td>\n",
       "      <td>157</td>\n",
       "      <td>3</td>\n",
       "      <td>0</td>\n",
       "      <td>1.0</td>\n",
       "      <td>0</td>\n",
       "      <td>sales</td>\n",
       "      <td>low</td>\n",
       "      <td>M</td>\n",
       "      <td>100.0</td>\n",
       "    </tr>\n",
       "    <tr>\n",
       "      <th>1</th>\n",
       "      <td>0.80</td>\n",
       "      <td>0.86</td>\n",
       "      <td>6.0</td>\n",
       "      <td>262</td>\n",
       "      <td>6</td>\n",
       "      <td>0</td>\n",
       "      <td>1.0</td>\n",
       "      <td>0</td>\n",
       "      <td>sales</td>\n",
       "      <td>medium</td>\n",
       "      <td>M</td>\n",
       "      <td>200.0</td>\n",
       "    </tr>\n",
       "    <tr>\n",
       "      <th>2</th>\n",
       "      <td>0.11</td>\n",
       "      <td>0.88</td>\n",
       "      <td>8.0</td>\n",
       "      <td>272</td>\n",
       "      <td>4</td>\n",
       "      <td>0</td>\n",
       "      <td>1.0</td>\n",
       "      <td>0</td>\n",
       "      <td>NaN</td>\n",
       "      <td>medium</td>\n",
       "      <td>M</td>\n",
       "      <td>200.0</td>\n",
       "    </tr>\n",
       "    <tr>\n",
       "      <th>3</th>\n",
       "      <td>0.72</td>\n",
       "      <td>0.87</td>\n",
       "      <td>6.0</td>\n",
       "      <td>223</td>\n",
       "      <td>5</td>\n",
       "      <td>0</td>\n",
       "      <td>1.0</td>\n",
       "      <td>0</td>\n",
       "      <td>sales</td>\n",
       "      <td>low</td>\n",
       "      <td>M</td>\n",
       "      <td>100.0</td>\n",
       "    </tr>\n",
       "    <tr>\n",
       "      <th>4</th>\n",
       "      <td>0.37</td>\n",
       "      <td>0.52</td>\n",
       "      <td>NaN</td>\n",
       "      <td>159</td>\n",
       "      <td>3</td>\n",
       "      <td>0</td>\n",
       "      <td>1.0</td>\n",
       "      <td>0</td>\n",
       "      <td>sales</td>\n",
       "      <td>low</td>\n",
       "      <td>M</td>\n",
       "      <td>100.0</td>\n",
       "    </tr>\n",
       "  </tbody>\n",
       "</table>\n",
       "</div>"
      ],
      "text/plain": [
       "   nivel_de_satisfaccion  ultima_encuesta  numero_de_proyectos  \\\n",
       "0                   0.38             0.53                  3.0   \n",
       "1                   0.80             0.86                  6.0   \n",
       "2                   0.11             0.88                  8.0   \n",
       "3                   0.72             0.87                  6.0   \n",
       "4                   0.37             0.52                  NaN   \n",
       "\n",
       "   media_horas_mes   horas_en_la_empresa  accidente_de_trabajo  \\\n",
       "0               157                    3                     0   \n",
       "1               262                    6                     0   \n",
       "2               272                    4                     0   \n",
       "3               223                    5                     0   \n",
       "4               159                    3                     0   \n",
       "\n",
       "   deja_la_empresa  promociona    dep salario sexo  salario €  \n",
       "0              1.0           0  sales     low    M      100.0  \n",
       "1              1.0           0  sales  medium    M      200.0  \n",
       "2              1.0           0    NaN  medium    M      200.0  \n",
       "3              1.0           0  sales     low    M      100.0  \n",
       "4              1.0           0  sales     low    M      100.0  "
      ]
     },
     "execution_count": 40,
     "metadata": {},
     "output_type": "execute_result"
    }
   ],
   "source": [
    "def salario2euros(val):\n",
    "    if val == 'medium':\n",
    "        return 200\n",
    "    elif val == 'low':\n",
    "        return 100\n",
    "    elif val == 'high':\n",
    "        return 300\n",
    "    else:\n",
    "        pass\n",
    "\n",
    "tabla['salario €'] = tabla.salario.apply(salario2euros)\n",
    "tabla.head()"
   ]
  },
  {
   "cell_type": "markdown",
   "metadata": {},
   "source": [
    "##### 1.6.1.0.1 Ejercicio"
   ]
  },
  {
   "cell_type": "markdown",
   "metadata": {},
   "source": [
    "__* Crear una nueva columna llamada `dif_satisf` cuyos valores se obtengan a partir de las columnas `nivel_de_satisfaccion` y `ultima_encuesta`.__"
   ]
  },
  {
   "cell_type": "code",
   "execution_count": 41,
   "metadata": {
    "collapsed": true
   },
   "outputs": [],
   "source": [
    "# Solución\n"
   ]
  },
  {
   "cell_type": "markdown",
   "metadata": {},
   "source": [
    "### 1.6.2 Borrando columnas en un DataFrame (__pop__ y __drop__)"
   ]
  },
  {
   "cell_type": "markdown",
   "metadata": {},
   "source": [
    "La función __pop__ borra la columna especificada del DataFrame y guarda la columna borrada en un objeto de tipo __Serie__.\n",
    "- Modifica el DataFrame\n",
    "\n",
    "La función __drop__ permite borrar tanto filas como columnas.\n",
    "- No modifica el DataFrame. Devuelve el resultado en un nuevo DataFrame.\n",
    "- No permite acceder a los elementos borrados."
   ]
  },
  {
   "cell_type": "code",
   "execution_count": 42,
   "metadata": {
    "collapsed": false
   },
   "outputs": [
    {
     "data": {
      "text/plain": [
       "0        M\n",
       "1        M\n",
       "2        M\n",
       "3        M\n",
       "4        M\n",
       "5        M\n",
       "6        M\n",
       "7        M\n",
       "8        M\n",
       "9        M\n",
       "10       M\n",
       "11       M\n",
       "12       M\n",
       "13       M\n",
       "14       M\n",
       "15       M\n",
       "16       M\n",
       "17       M\n",
       "18       M\n",
       "19       M\n",
       "20       M\n",
       "21       M\n",
       "22       M\n",
       "23       M\n",
       "24       M\n",
       "25       M\n",
       "26       M\n",
       "27       M\n",
       "28       M\n",
       "29       M\n",
       "        ..\n",
       "14969    M\n",
       "14970    M\n",
       "14971    M\n",
       "14972    M\n",
       "14973    M\n",
       "14974    M\n",
       "14975    M\n",
       "14976    M\n",
       "14977    M\n",
       "14978    M\n",
       "14979    M\n",
       "14980    M\n",
       "14981    M\n",
       "14982    M\n",
       "14983    M\n",
       "14984    M\n",
       "14985    M\n",
       "14986    M\n",
       "14987    M\n",
       "14988    M\n",
       "14989    M\n",
       "14990    M\n",
       "14991    M\n",
       "14992    M\n",
       "14993    M\n",
       "14994    M\n",
       "14995    M\n",
       "14996    M\n",
       "14997    M\n",
       "14998    M\n",
       "Name: sexo, dtype: object"
      ]
     },
     "execution_count": 42,
     "metadata": {},
     "output_type": "execute_result"
    }
   ],
   "source": [
    "columna_sexo = tabla.pop('sexo')\n",
    "columna_sexo"
   ]
  },
  {
   "cell_type": "code",
   "execution_count": 43,
   "metadata": {
    "collapsed": false
   },
   "outputs": [
    {
     "data": {
      "text/html": [
       "<div>\n",
       "<table border=\"1\" class=\"dataframe\">\n",
       "  <thead>\n",
       "    <tr style=\"text-align: right;\">\n",
       "      <th></th>\n",
       "      <th>nivel_de_satisfaccion</th>\n",
       "      <th>ultima_encuesta</th>\n",
       "      <th>numero_de_proyectos</th>\n",
       "      <th>media_horas_mes</th>\n",
       "      <th>horas_en_la_empresa</th>\n",
       "      <th>accidente_de_trabajo</th>\n",
       "      <th>deja_la_empresa</th>\n",
       "      <th>promociona</th>\n",
       "      <th>dep</th>\n",
       "      <th>salario</th>\n",
       "      <th>salario €</th>\n",
       "    </tr>\n",
       "  </thead>\n",
       "  <tbody>\n",
       "    <tr>\n",
       "      <th>0</th>\n",
       "      <td>0.38</td>\n",
       "      <td>0.53</td>\n",
       "      <td>3.0</td>\n",
       "      <td>157</td>\n",
       "      <td>3</td>\n",
       "      <td>0</td>\n",
       "      <td>1.0</td>\n",
       "      <td>0</td>\n",
       "      <td>sales</td>\n",
       "      <td>low</td>\n",
       "      <td>100.0</td>\n",
       "    </tr>\n",
       "    <tr>\n",
       "      <th>1</th>\n",
       "      <td>0.80</td>\n",
       "      <td>0.86</td>\n",
       "      <td>6.0</td>\n",
       "      <td>262</td>\n",
       "      <td>6</td>\n",
       "      <td>0</td>\n",
       "      <td>1.0</td>\n",
       "      <td>0</td>\n",
       "      <td>sales</td>\n",
       "      <td>medium</td>\n",
       "      <td>200.0</td>\n",
       "    </tr>\n",
       "    <tr>\n",
       "      <th>2</th>\n",
       "      <td>0.11</td>\n",
       "      <td>0.88</td>\n",
       "      <td>8.0</td>\n",
       "      <td>272</td>\n",
       "      <td>4</td>\n",
       "      <td>0</td>\n",
       "      <td>1.0</td>\n",
       "      <td>0</td>\n",
       "      <td>NaN</td>\n",
       "      <td>medium</td>\n",
       "      <td>200.0</td>\n",
       "    </tr>\n",
       "    <tr>\n",
       "      <th>3</th>\n",
       "      <td>0.72</td>\n",
       "      <td>0.87</td>\n",
       "      <td>6.0</td>\n",
       "      <td>223</td>\n",
       "      <td>5</td>\n",
       "      <td>0</td>\n",
       "      <td>1.0</td>\n",
       "      <td>0</td>\n",
       "      <td>sales</td>\n",
       "      <td>low</td>\n",
       "      <td>100.0</td>\n",
       "    </tr>\n",
       "    <tr>\n",
       "      <th>4</th>\n",
       "      <td>0.37</td>\n",
       "      <td>0.52</td>\n",
       "      <td>NaN</td>\n",
       "      <td>159</td>\n",
       "      <td>3</td>\n",
       "      <td>0</td>\n",
       "      <td>1.0</td>\n",
       "      <td>0</td>\n",
       "      <td>sales</td>\n",
       "      <td>low</td>\n",
       "      <td>100.0</td>\n",
       "    </tr>\n",
       "  </tbody>\n",
       "</table>\n",
       "</div>"
      ],
      "text/plain": [
       "   nivel_de_satisfaccion  ultima_encuesta  numero_de_proyectos  \\\n",
       "0                   0.38             0.53                  3.0   \n",
       "1                   0.80             0.86                  6.0   \n",
       "2                   0.11             0.88                  8.0   \n",
       "3                   0.72             0.87                  6.0   \n",
       "4                   0.37             0.52                  NaN   \n",
       "\n",
       "   media_horas_mes   horas_en_la_empresa  accidente_de_trabajo  \\\n",
       "0               157                    3                     0   \n",
       "1               262                    6                     0   \n",
       "2               272                    4                     0   \n",
       "3               223                    5                     0   \n",
       "4               159                    3                     0   \n",
       "\n",
       "   deja_la_empresa  promociona    dep salario  salario €  \n",
       "0              1.0           0  sales     low      100.0  \n",
       "1              1.0           0  sales  medium      200.0  \n",
       "2              1.0           0    NaN  medium      200.0  \n",
       "3              1.0           0  sales     low      100.0  \n",
       "4              1.0           0  sales     low      100.0  "
      ]
     },
     "execution_count": 43,
     "metadata": {},
     "output_type": "execute_result"
    }
   ],
   "source": [
    "tabla.head()     # ha desaparecido la columna 'sexo'"
   ]
  },
  {
   "cell_type": "markdown",
   "metadata": {},
   "source": [
    "También es posible utilizar la función __drop__ para eliminar tanto filas como columnas."
   ]
  },
  {
   "cell_type": "code",
   "execution_count": 44,
   "metadata": {
    "collapsed": false
   },
   "outputs": [
    {
     "data": {
      "text/html": [
       "<div>\n",
       "<table border=\"1\" class=\"dataframe\">\n",
       "  <thead>\n",
       "    <tr style=\"text-align: right;\">\n",
       "      <th></th>\n",
       "      <th>nivel_de_satisfaccion</th>\n",
       "      <th>ultima_encuesta</th>\n",
       "      <th>numero_de_proyectos</th>\n",
       "      <th>media_horas_mes</th>\n",
       "      <th>horas_en_la_empresa</th>\n",
       "      <th>accidente_de_trabajo</th>\n",
       "      <th>deja_la_empresa</th>\n",
       "      <th>promociona</th>\n",
       "      <th>dep</th>\n",
       "      <th>salario</th>\n",
       "      <th>salario €</th>\n",
       "    </tr>\n",
       "  </thead>\n",
       "  <tbody>\n",
       "    <tr>\n",
       "      <th>1</th>\n",
       "      <td>0.80</td>\n",
       "      <td>0.86</td>\n",
       "      <td>6.0</td>\n",
       "      <td>262</td>\n",
       "      <td>6</td>\n",
       "      <td>0</td>\n",
       "      <td>1.0</td>\n",
       "      <td>0</td>\n",
       "      <td>sales</td>\n",
       "      <td>medium</td>\n",
       "      <td>200.0</td>\n",
       "    </tr>\n",
       "    <tr>\n",
       "      <th>2</th>\n",
       "      <td>0.11</td>\n",
       "      <td>0.88</td>\n",
       "      <td>8.0</td>\n",
       "      <td>272</td>\n",
       "      <td>4</td>\n",
       "      <td>0</td>\n",
       "      <td>1.0</td>\n",
       "      <td>0</td>\n",
       "      <td>NaN</td>\n",
       "      <td>medium</td>\n",
       "      <td>200.0</td>\n",
       "    </tr>\n",
       "    <tr>\n",
       "      <th>4</th>\n",
       "      <td>0.37</td>\n",
       "      <td>0.52</td>\n",
       "      <td>NaN</td>\n",
       "      <td>159</td>\n",
       "      <td>3</td>\n",
       "      <td>0</td>\n",
       "      <td>1.0</td>\n",
       "      <td>0</td>\n",
       "      <td>sales</td>\n",
       "      <td>low</td>\n",
       "      <td>100.0</td>\n",
       "    </tr>\n",
       "    <tr>\n",
       "      <th>5</th>\n",
       "      <td>0.41</td>\n",
       "      <td>0.50</td>\n",
       "      <td>3.0</td>\n",
       "      <td>153</td>\n",
       "      <td>3</td>\n",
       "      <td>0</td>\n",
       "      <td>1.0</td>\n",
       "      <td>0</td>\n",
       "      <td>sales</td>\n",
       "      <td>low</td>\n",
       "      <td>100.0</td>\n",
       "    </tr>\n",
       "    <tr>\n",
       "      <th>6</th>\n",
       "      <td>0.10</td>\n",
       "      <td>0.77</td>\n",
       "      <td>7.0</td>\n",
       "      <td>247</td>\n",
       "      <td>4</td>\n",
       "      <td>0</td>\n",
       "      <td>1.0</td>\n",
       "      <td>0</td>\n",
       "      <td>sales</td>\n",
       "      <td>low</td>\n",
       "      <td>100.0</td>\n",
       "    </tr>\n",
       "  </tbody>\n",
       "</table>\n",
       "</div>"
      ],
      "text/plain": [
       "   nivel_de_satisfaccion  ultima_encuesta  numero_de_proyectos  \\\n",
       "1                   0.80             0.86                  6.0   \n",
       "2                   0.11             0.88                  8.0   \n",
       "4                   0.37             0.52                  NaN   \n",
       "5                   0.41             0.50                  3.0   \n",
       "6                   0.10             0.77                  7.0   \n",
       "\n",
       "   media_horas_mes   horas_en_la_empresa  accidente_de_trabajo  \\\n",
       "1               262                    6                     0   \n",
       "2               272                    4                     0   \n",
       "4               159                    3                     0   \n",
       "5               153                    3                     0   \n",
       "6               247                    4                     0   \n",
       "\n",
       "   deja_la_empresa  promociona    dep salario  salario €  \n",
       "1              1.0           0  sales  medium      200.0  \n",
       "2              1.0           0    NaN  medium      200.0  \n",
       "4              1.0           0  sales     low      100.0  \n",
       "5              1.0           0  sales     low      100.0  \n",
       "6              1.0           0  sales     low      100.0  "
      ]
     },
     "execution_count": 44,
     "metadata": {},
     "output_type": "execute_result"
    }
   ],
   "source": [
    "# borramos las filas correspondientes a las etiquetas 0 y 3\n",
    "nuevo_df = tabla.drop([0,3])\n",
    "nuevo_df.head()"
   ]
  },
  {
   "cell_type": "code",
   "execution_count": 45,
   "metadata": {
    "collapsed": false
   },
   "outputs": [
    {
     "data": {
      "text/html": [
       "<div>\n",
       "<table border=\"1\" class=\"dataframe\">\n",
       "  <thead>\n",
       "    <tr style=\"text-align: right;\">\n",
       "      <th></th>\n",
       "      <th>nivel_de_satisfaccion</th>\n",
       "      <th>ultima_encuesta</th>\n",
       "      <th>numero_de_proyectos</th>\n",
       "      <th>media_horas_mes</th>\n",
       "      <th>horas_en_la_empresa</th>\n",
       "      <th>accidente_de_trabajo</th>\n",
       "      <th>deja_la_empresa</th>\n",
       "      <th>promociona</th>\n",
       "      <th>dep</th>\n",
       "      <th>salario</th>\n",
       "      <th>salario €</th>\n",
       "    </tr>\n",
       "  </thead>\n",
       "  <tbody>\n",
       "    <tr>\n",
       "      <th>0</th>\n",
       "      <td>0.38</td>\n",
       "      <td>0.53</td>\n",
       "      <td>3.0</td>\n",
       "      <td>157</td>\n",
       "      <td>3</td>\n",
       "      <td>0</td>\n",
       "      <td>1.0</td>\n",
       "      <td>0</td>\n",
       "      <td>sales</td>\n",
       "      <td>low</td>\n",
       "      <td>100.0</td>\n",
       "    </tr>\n",
       "    <tr>\n",
       "      <th>1</th>\n",
       "      <td>0.80</td>\n",
       "      <td>0.86</td>\n",
       "      <td>6.0</td>\n",
       "      <td>262</td>\n",
       "      <td>6</td>\n",
       "      <td>0</td>\n",
       "      <td>1.0</td>\n",
       "      <td>0</td>\n",
       "      <td>sales</td>\n",
       "      <td>medium</td>\n",
       "      <td>200.0</td>\n",
       "    </tr>\n",
       "    <tr>\n",
       "      <th>2</th>\n",
       "      <td>0.11</td>\n",
       "      <td>0.88</td>\n",
       "      <td>8.0</td>\n",
       "      <td>272</td>\n",
       "      <td>4</td>\n",
       "      <td>0</td>\n",
       "      <td>1.0</td>\n",
       "      <td>0</td>\n",
       "      <td>NaN</td>\n",
       "      <td>medium</td>\n",
       "      <td>200.0</td>\n",
       "    </tr>\n",
       "    <tr>\n",
       "      <th>3</th>\n",
       "      <td>0.72</td>\n",
       "      <td>0.87</td>\n",
       "      <td>6.0</td>\n",
       "      <td>223</td>\n",
       "      <td>5</td>\n",
       "      <td>0</td>\n",
       "      <td>1.0</td>\n",
       "      <td>0</td>\n",
       "      <td>sales</td>\n",
       "      <td>low</td>\n",
       "      <td>100.0</td>\n",
       "    </tr>\n",
       "    <tr>\n",
       "      <th>4</th>\n",
       "      <td>0.37</td>\n",
       "      <td>0.52</td>\n",
       "      <td>NaN</td>\n",
       "      <td>159</td>\n",
       "      <td>3</td>\n",
       "      <td>0</td>\n",
       "      <td>1.0</td>\n",
       "      <td>0</td>\n",
       "      <td>sales</td>\n",
       "      <td>low</td>\n",
       "      <td>100.0</td>\n",
       "    </tr>\n",
       "  </tbody>\n",
       "</table>\n",
       "</div>"
      ],
      "text/plain": [
       "   nivel_de_satisfaccion  ultima_encuesta  numero_de_proyectos  \\\n",
       "0                   0.38             0.53                  3.0   \n",
       "1                   0.80             0.86                  6.0   \n",
       "2                   0.11             0.88                  8.0   \n",
       "3                   0.72             0.87                  6.0   \n",
       "4                   0.37             0.52                  NaN   \n",
       "\n",
       "   media_horas_mes   horas_en_la_empresa  accidente_de_trabajo  \\\n",
       "0               157                    3                     0   \n",
       "1               262                    6                     0   \n",
       "2               272                    4                     0   \n",
       "3               223                    5                     0   \n",
       "4               159                    3                     0   \n",
       "\n",
       "   deja_la_empresa  promociona    dep salario  salario €  \n",
       "0              1.0           0  sales     low      100.0  \n",
       "1              1.0           0  sales  medium      200.0  \n",
       "2              1.0           0    NaN  medium      200.0  \n",
       "3              1.0           0  sales     low      100.0  \n",
       "4              1.0           0  sales     low      100.0  "
      ]
     },
     "execution_count": 45,
     "metadata": {},
     "output_type": "execute_result"
    }
   ],
   "source": [
    "tabla.head()     # ojo, después de borrar, la tabla original no se modofica"
   ]
  },
  {
   "cell_type": "markdown",
   "metadata": {},
   "source": [
    "Para borrar columnas, es necesario indicar en la llamada a la función que queremos actura sobre el eje 1 ( axis = 1 ),  que se corresponde con las columnas."
   ]
  },
  {
   "cell_type": "code",
   "execution_count": 46,
   "metadata": {
    "collapsed": false
   },
   "outputs": [
    {
     "data": {
      "text/html": [
       "<div>\n",
       "<table border=\"1\" class=\"dataframe\">\n",
       "  <thead>\n",
       "    <tr style=\"text-align: right;\">\n",
       "      <th></th>\n",
       "      <th>numero_de_proyectos</th>\n",
       "      <th>media_horas_mes</th>\n",
       "      <th>horas_en_la_empresa</th>\n",
       "      <th>accidente_de_trabajo</th>\n",
       "      <th>deja_la_empresa</th>\n",
       "      <th>promociona</th>\n",
       "      <th>dep</th>\n",
       "      <th>salario</th>\n",
       "      <th>salario €</th>\n",
       "    </tr>\n",
       "  </thead>\n",
       "  <tbody>\n",
       "    <tr>\n",
       "      <th>0</th>\n",
       "      <td>3.0</td>\n",
       "      <td>157</td>\n",
       "      <td>3</td>\n",
       "      <td>0</td>\n",
       "      <td>1.0</td>\n",
       "      <td>0</td>\n",
       "      <td>sales</td>\n",
       "      <td>low</td>\n",
       "      <td>100.0</td>\n",
       "    </tr>\n",
       "    <tr>\n",
       "      <th>1</th>\n",
       "      <td>6.0</td>\n",
       "      <td>262</td>\n",
       "      <td>6</td>\n",
       "      <td>0</td>\n",
       "      <td>1.0</td>\n",
       "      <td>0</td>\n",
       "      <td>sales</td>\n",
       "      <td>medium</td>\n",
       "      <td>200.0</td>\n",
       "    </tr>\n",
       "    <tr>\n",
       "      <th>2</th>\n",
       "      <td>8.0</td>\n",
       "      <td>272</td>\n",
       "      <td>4</td>\n",
       "      <td>0</td>\n",
       "      <td>1.0</td>\n",
       "      <td>0</td>\n",
       "      <td>NaN</td>\n",
       "      <td>medium</td>\n",
       "      <td>200.0</td>\n",
       "    </tr>\n",
       "    <tr>\n",
       "      <th>3</th>\n",
       "      <td>6.0</td>\n",
       "      <td>223</td>\n",
       "      <td>5</td>\n",
       "      <td>0</td>\n",
       "      <td>1.0</td>\n",
       "      <td>0</td>\n",
       "      <td>sales</td>\n",
       "      <td>low</td>\n",
       "      <td>100.0</td>\n",
       "    </tr>\n",
       "    <tr>\n",
       "      <th>4</th>\n",
       "      <td>NaN</td>\n",
       "      <td>159</td>\n",
       "      <td>3</td>\n",
       "      <td>0</td>\n",
       "      <td>1.0</td>\n",
       "      <td>0</td>\n",
       "      <td>sales</td>\n",
       "      <td>low</td>\n",
       "      <td>100.0</td>\n",
       "    </tr>\n",
       "  </tbody>\n",
       "</table>\n",
       "</div>"
      ],
      "text/plain": [
       "   numero_de_proyectos  media_horas_mes   horas_en_la_empresa  \\\n",
       "0                  3.0               157                    3   \n",
       "1                  6.0               262                    6   \n",
       "2                  8.0               272                    4   \n",
       "3                  6.0               223                    5   \n",
       "4                  NaN               159                    3   \n",
       "\n",
       "   accidente_de_trabajo  deja_la_empresa  promociona    dep salario  salario €  \n",
       "0                     0              1.0           0  sales     low      100.0  \n",
       "1                     0              1.0           0  sales  medium      200.0  \n",
       "2                     0              1.0           0    NaN  medium      200.0  \n",
       "3                     0              1.0           0  sales     low      100.0  \n",
       "4                     0              1.0           0  sales     low      100.0  "
      ]
     },
     "execution_count": 46,
     "metadata": {},
     "output_type": "execute_result"
    }
   ],
   "source": [
    "# borramos dos columnas\n",
    "otro = tabla.drop(['nivel_de_satisfaccion', 'ultima_encuesta'], axis = 1)\n",
    "otro.head()"
   ]
  },
  {
   "cell_type": "markdown",
   "metadata": {},
   "source": [
    "### 1.6.3 Insertar datos en un DataFrame"
   ]
  },
  {
   "cell_type": "markdown",
   "metadata": {},
   "source": [
    "Podemos utilizar la función __insert__ para insertar la columna `sexo` que hemos eliminado anteriormente en una determinada posición."
   ]
  },
  {
   "cell_type": "code",
   "execution_count": 47,
   "metadata": {
    "collapsed": false
   },
   "outputs": [
    {
     "data": {
      "text/html": [
       "<div>\n",
       "<table border=\"1\" class=\"dataframe\">\n",
       "  <thead>\n",
       "    <tr style=\"text-align: right;\">\n",
       "      <th></th>\n",
       "      <th>nivel_de_satisfaccion</th>\n",
       "      <th>ultima_encuesta</th>\n",
       "      <th>Sexo_empleado</th>\n",
       "      <th>numero_de_proyectos</th>\n",
       "      <th>media_horas_mes</th>\n",
       "      <th>horas_en_la_empresa</th>\n",
       "      <th>accidente_de_trabajo</th>\n",
       "      <th>deja_la_empresa</th>\n",
       "      <th>promociona</th>\n",
       "      <th>dep</th>\n",
       "      <th>salario</th>\n",
       "      <th>salario €</th>\n",
       "    </tr>\n",
       "  </thead>\n",
       "  <tbody>\n",
       "    <tr>\n",
       "      <th>0</th>\n",
       "      <td>0.38</td>\n",
       "      <td>0.53</td>\n",
       "      <td>M</td>\n",
       "      <td>3.0</td>\n",
       "      <td>157</td>\n",
       "      <td>3</td>\n",
       "      <td>0</td>\n",
       "      <td>1.0</td>\n",
       "      <td>0</td>\n",
       "      <td>sales</td>\n",
       "      <td>low</td>\n",
       "      <td>100.0</td>\n",
       "    </tr>\n",
       "    <tr>\n",
       "      <th>1</th>\n",
       "      <td>0.80</td>\n",
       "      <td>0.86</td>\n",
       "      <td>M</td>\n",
       "      <td>6.0</td>\n",
       "      <td>262</td>\n",
       "      <td>6</td>\n",
       "      <td>0</td>\n",
       "      <td>1.0</td>\n",
       "      <td>0</td>\n",
       "      <td>sales</td>\n",
       "      <td>medium</td>\n",
       "      <td>200.0</td>\n",
       "    </tr>\n",
       "    <tr>\n",
       "      <th>2</th>\n",
       "      <td>0.11</td>\n",
       "      <td>0.88</td>\n",
       "      <td>M</td>\n",
       "      <td>8.0</td>\n",
       "      <td>272</td>\n",
       "      <td>4</td>\n",
       "      <td>0</td>\n",
       "      <td>1.0</td>\n",
       "      <td>0</td>\n",
       "      <td>NaN</td>\n",
       "      <td>medium</td>\n",
       "      <td>200.0</td>\n",
       "    </tr>\n",
       "    <tr>\n",
       "      <th>3</th>\n",
       "      <td>0.72</td>\n",
       "      <td>0.87</td>\n",
       "      <td>M</td>\n",
       "      <td>6.0</td>\n",
       "      <td>223</td>\n",
       "      <td>5</td>\n",
       "      <td>0</td>\n",
       "      <td>1.0</td>\n",
       "      <td>0</td>\n",
       "      <td>sales</td>\n",
       "      <td>low</td>\n",
       "      <td>100.0</td>\n",
       "    </tr>\n",
       "    <tr>\n",
       "      <th>4</th>\n",
       "      <td>0.37</td>\n",
       "      <td>0.52</td>\n",
       "      <td>M</td>\n",
       "      <td>NaN</td>\n",
       "      <td>159</td>\n",
       "      <td>3</td>\n",
       "      <td>0</td>\n",
       "      <td>1.0</td>\n",
       "      <td>0</td>\n",
       "      <td>sales</td>\n",
       "      <td>low</td>\n",
       "      <td>100.0</td>\n",
       "    </tr>\n",
       "  </tbody>\n",
       "</table>\n",
       "</div>"
      ],
      "text/plain": [
       "   nivel_de_satisfaccion  ultima_encuesta Sexo_empleado  numero_de_proyectos  \\\n",
       "0                   0.38             0.53             M                  3.0   \n",
       "1                   0.80             0.86             M                  6.0   \n",
       "2                   0.11             0.88             M                  8.0   \n",
       "3                   0.72             0.87             M                  6.0   \n",
       "4                   0.37             0.52             M                  NaN   \n",
       "\n",
       "   media_horas_mes   horas_en_la_empresa  accidente_de_trabajo  \\\n",
       "0               157                    3                     0   \n",
       "1               262                    6                     0   \n",
       "2               272                    4                     0   \n",
       "3               223                    5                     0   \n",
       "4               159                    3                     0   \n",
       "\n",
       "   deja_la_empresa  promociona    dep salario  salario €  \n",
       "0              1.0           0  sales     low      100.0  \n",
       "1              1.0           0  sales  medium      200.0  \n",
       "2              1.0           0    NaN  medium      200.0  \n",
       "3              1.0           0  sales     low      100.0  \n",
       "4              1.0           0  sales     low      100.0  "
      ]
     },
     "execution_count": 47,
     "metadata": {},
     "output_type": "execute_result"
    }
   ],
   "source": [
    "# inserta la columna en la segunda posición \n",
    "tabla.insert(2, 'Sexo_empleado', columna_sexo)\n",
    "tabla.head()"
   ]
  },
  {
   "cell_type": "markdown",
   "metadata": {},
   "source": [
    "## 1.7 Tratamiento de valores nulos"
   ]
  },
  {
   "cell_type": "markdown",
   "metadata": {},
   "source": [
    "El término valores perdidos (missing values) se refiere a los valores que no aparecen o que se encuentran marcados con un valor por defecto.\n",
    "En pandas estos valores vienen marcados como NaN.\n",
    "\n",
    "Una de las opciones para filtrar estos valores es la función __dropna__."
   ]
  },
  {
   "cell_type": "code",
   "execution_count": 48,
   "metadata": {
    "collapsed": false
   },
   "outputs": [
    {
     "data": {
      "text/html": [
       "<div>\n",
       "<table border=\"1\" class=\"dataframe\">\n",
       "  <thead>\n",
       "    <tr style=\"text-align: right;\">\n",
       "      <th></th>\n",
       "      <th>nivel_de_satisfaccion</th>\n",
       "      <th>ultima_encuesta</th>\n",
       "      <th>Sexo_empleado</th>\n",
       "      <th>numero_de_proyectos</th>\n",
       "      <th>media_horas_mes</th>\n",
       "      <th>horas_en_la_empresa</th>\n",
       "      <th>accidente_de_trabajo</th>\n",
       "      <th>deja_la_empresa</th>\n",
       "      <th>promociona</th>\n",
       "      <th>dep</th>\n",
       "      <th>salario</th>\n",
       "      <th>salario €</th>\n",
       "    </tr>\n",
       "  </thead>\n",
       "  <tbody>\n",
       "    <tr>\n",
       "      <th>0</th>\n",
       "      <td>0.38</td>\n",
       "      <td>0.53</td>\n",
       "      <td>M</td>\n",
       "      <td>3.0</td>\n",
       "      <td>157</td>\n",
       "      <td>3</td>\n",
       "      <td>0</td>\n",
       "      <td>1.0</td>\n",
       "      <td>0</td>\n",
       "      <td>sales</td>\n",
       "      <td>low</td>\n",
       "      <td>100.0</td>\n",
       "    </tr>\n",
       "    <tr>\n",
       "      <th>1</th>\n",
       "      <td>0.80</td>\n",
       "      <td>0.86</td>\n",
       "      <td>M</td>\n",
       "      <td>6.0</td>\n",
       "      <td>262</td>\n",
       "      <td>6</td>\n",
       "      <td>0</td>\n",
       "      <td>1.0</td>\n",
       "      <td>0</td>\n",
       "      <td>sales</td>\n",
       "      <td>medium</td>\n",
       "      <td>200.0</td>\n",
       "    </tr>\n",
       "    <tr>\n",
       "      <th>2</th>\n",
       "      <td>0.11</td>\n",
       "      <td>0.88</td>\n",
       "      <td>M</td>\n",
       "      <td>8.0</td>\n",
       "      <td>272</td>\n",
       "      <td>4</td>\n",
       "      <td>0</td>\n",
       "      <td>1.0</td>\n",
       "      <td>0</td>\n",
       "      <td>NaN</td>\n",
       "      <td>medium</td>\n",
       "      <td>200.0</td>\n",
       "    </tr>\n",
       "    <tr>\n",
       "      <th>3</th>\n",
       "      <td>0.72</td>\n",
       "      <td>0.87</td>\n",
       "      <td>M</td>\n",
       "      <td>6.0</td>\n",
       "      <td>223</td>\n",
       "      <td>5</td>\n",
       "      <td>0</td>\n",
       "      <td>1.0</td>\n",
       "      <td>0</td>\n",
       "      <td>sales</td>\n",
       "      <td>low</td>\n",
       "      <td>100.0</td>\n",
       "    </tr>\n",
       "    <tr>\n",
       "      <th>4</th>\n",
       "      <td>0.37</td>\n",
       "      <td>0.52</td>\n",
       "      <td>M</td>\n",
       "      <td>NaN</td>\n",
       "      <td>159</td>\n",
       "      <td>3</td>\n",
       "      <td>0</td>\n",
       "      <td>1.0</td>\n",
       "      <td>0</td>\n",
       "      <td>sales</td>\n",
       "      <td>low</td>\n",
       "      <td>100.0</td>\n",
       "    </tr>\n",
       "  </tbody>\n",
       "</table>\n",
       "</div>"
      ],
      "text/plain": [
       "   nivel_de_satisfaccion  ultima_encuesta Sexo_empleado  numero_de_proyectos  \\\n",
       "0                   0.38             0.53             M                  3.0   \n",
       "1                   0.80             0.86             M                  6.0   \n",
       "2                   0.11             0.88             M                  8.0   \n",
       "3                   0.72             0.87             M                  6.0   \n",
       "4                   0.37             0.52             M                  NaN   \n",
       "\n",
       "   media_horas_mes   horas_en_la_empresa  accidente_de_trabajo  \\\n",
       "0               157                    3                     0   \n",
       "1               262                    6                     0   \n",
       "2               272                    4                     0   \n",
       "3               223                    5                     0   \n",
       "4               159                    3                     0   \n",
       "\n",
       "   deja_la_empresa  promociona    dep salario  salario €  \n",
       "0              1.0           0  sales     low      100.0  \n",
       "1              1.0           0  sales  medium      200.0  \n",
       "2              1.0           0    NaN  medium      200.0  \n",
       "3              1.0           0  sales     low      100.0  \n",
       "4              1.0           0  sales     low      100.0  "
      ]
     },
     "execution_count": 48,
     "metadata": {},
     "output_type": "execute_result"
    }
   ],
   "source": [
    "tabla.head()"
   ]
  },
  {
   "cell_type": "code",
   "execution_count": 49,
   "metadata": {
    "collapsed": false
   },
   "outputs": [
    {
     "data": {
      "text/html": [
       "<div>\n",
       "<table border=\"1\" class=\"dataframe\">\n",
       "  <thead>\n",
       "    <tr style=\"text-align: right;\">\n",
       "      <th></th>\n",
       "      <th>nivel_de_satisfaccion</th>\n",
       "      <th>ultima_encuesta</th>\n",
       "      <th>Sexo_empleado</th>\n",
       "      <th>numero_de_proyectos</th>\n",
       "      <th>media_horas_mes</th>\n",
       "      <th>horas_en_la_empresa</th>\n",
       "      <th>accidente_de_trabajo</th>\n",
       "      <th>deja_la_empresa</th>\n",
       "      <th>promociona</th>\n",
       "      <th>dep</th>\n",
       "      <th>salario</th>\n",
       "      <th>salario €</th>\n",
       "    </tr>\n",
       "  </thead>\n",
       "  <tbody>\n",
       "    <tr>\n",
       "      <th>0</th>\n",
       "      <td>0.38</td>\n",
       "      <td>0.53</td>\n",
       "      <td>M</td>\n",
       "      <td>3.0</td>\n",
       "      <td>157</td>\n",
       "      <td>3</td>\n",
       "      <td>0</td>\n",
       "      <td>1.0</td>\n",
       "      <td>0</td>\n",
       "      <td>sales</td>\n",
       "      <td>low</td>\n",
       "      <td>100.0</td>\n",
       "    </tr>\n",
       "    <tr>\n",
       "      <th>1</th>\n",
       "      <td>0.80</td>\n",
       "      <td>0.86</td>\n",
       "      <td>M</td>\n",
       "      <td>6.0</td>\n",
       "      <td>262</td>\n",
       "      <td>6</td>\n",
       "      <td>0</td>\n",
       "      <td>1.0</td>\n",
       "      <td>0</td>\n",
       "      <td>sales</td>\n",
       "      <td>medium</td>\n",
       "      <td>200.0</td>\n",
       "    </tr>\n",
       "    <tr>\n",
       "      <th>3</th>\n",
       "      <td>0.72</td>\n",
       "      <td>0.87</td>\n",
       "      <td>M</td>\n",
       "      <td>6.0</td>\n",
       "      <td>223</td>\n",
       "      <td>5</td>\n",
       "      <td>0</td>\n",
       "      <td>1.0</td>\n",
       "      <td>0</td>\n",
       "      <td>sales</td>\n",
       "      <td>low</td>\n",
       "      <td>100.0</td>\n",
       "    </tr>\n",
       "    <tr>\n",
       "      <th>5</th>\n",
       "      <td>0.41</td>\n",
       "      <td>0.50</td>\n",
       "      <td>M</td>\n",
       "      <td>3.0</td>\n",
       "      <td>153</td>\n",
       "      <td>3</td>\n",
       "      <td>0</td>\n",
       "      <td>1.0</td>\n",
       "      <td>0</td>\n",
       "      <td>sales</td>\n",
       "      <td>low</td>\n",
       "      <td>100.0</td>\n",
       "    </tr>\n",
       "    <tr>\n",
       "      <th>6</th>\n",
       "      <td>0.10</td>\n",
       "      <td>0.77</td>\n",
       "      <td>M</td>\n",
       "      <td>7.0</td>\n",
       "      <td>247</td>\n",
       "      <td>4</td>\n",
       "      <td>0</td>\n",
       "      <td>1.0</td>\n",
       "      <td>0</td>\n",
       "      <td>sales</td>\n",
       "      <td>low</td>\n",
       "      <td>100.0</td>\n",
       "    </tr>\n",
       "  </tbody>\n",
       "</table>\n",
       "</div>"
      ],
      "text/plain": [
       "   nivel_de_satisfaccion  ultima_encuesta Sexo_empleado  numero_de_proyectos  \\\n",
       "0                   0.38             0.53             M                  3.0   \n",
       "1                   0.80             0.86             M                  6.0   \n",
       "3                   0.72             0.87             M                  6.0   \n",
       "5                   0.41             0.50             M                  3.0   \n",
       "6                   0.10             0.77             M                  7.0   \n",
       "\n",
       "   media_horas_mes   horas_en_la_empresa  accidente_de_trabajo  \\\n",
       "0               157                    3                     0   \n",
       "1               262                    6                     0   \n",
       "3               223                    5                     0   \n",
       "5               153                    3                     0   \n",
       "6               247                    4                     0   \n",
       "\n",
       "   deja_la_empresa  promociona    dep salario  salario €  \n",
       "0              1.0           0  sales     low      100.0  \n",
       "1              1.0           0  sales  medium      200.0  \n",
       "3              1.0           0  sales     low      100.0  \n",
       "5              1.0           0  sales     low      100.0  \n",
       "6              1.0           0  sales     low      100.0  "
      ]
     },
     "execution_count": 49,
     "metadata": {},
     "output_type": "execute_result"
    }
   ],
   "source": [
    "# devuelve una copia de la tabla sin NaN\n",
    "tabla_sinNAN = tabla.dropna()\n",
    "tabla_sinNAN.head()"
   ]
  },
  {
   "cell_type": "code",
   "execution_count": 50,
   "metadata": {
    "collapsed": false
   },
   "outputs": [
    {
     "data": {
      "text/html": [
       "<div>\n",
       "<table border=\"1\" class=\"dataframe\">\n",
       "  <thead>\n",
       "    <tr style=\"text-align: right;\">\n",
       "      <th></th>\n",
       "      <th>nivel_de_satisfaccion</th>\n",
       "      <th>ultima_encuesta</th>\n",
       "      <th>Sexo_empleado</th>\n",
       "      <th>numero_de_proyectos</th>\n",
       "      <th>media_horas_mes</th>\n",
       "      <th>horas_en_la_empresa</th>\n",
       "      <th>accidente_de_trabajo</th>\n",
       "      <th>deja_la_empresa</th>\n",
       "      <th>promociona</th>\n",
       "      <th>dep</th>\n",
       "      <th>salario</th>\n",
       "      <th>salario €</th>\n",
       "    </tr>\n",
       "  </thead>\n",
       "  <tbody>\n",
       "    <tr>\n",
       "      <th>0</th>\n",
       "      <td>0.38</td>\n",
       "      <td>0.53</td>\n",
       "      <td>M</td>\n",
       "      <td>3.0</td>\n",
       "      <td>157</td>\n",
       "      <td>3</td>\n",
       "      <td>0</td>\n",
       "      <td>1.0</td>\n",
       "      <td>0</td>\n",
       "      <td>sales</td>\n",
       "      <td>low</td>\n",
       "      <td>100.0</td>\n",
       "    </tr>\n",
       "    <tr>\n",
       "      <th>1</th>\n",
       "      <td>0.80</td>\n",
       "      <td>0.86</td>\n",
       "      <td>M</td>\n",
       "      <td>6.0</td>\n",
       "      <td>262</td>\n",
       "      <td>6</td>\n",
       "      <td>0</td>\n",
       "      <td>1.0</td>\n",
       "      <td>0</td>\n",
       "      <td>sales</td>\n",
       "      <td>medium</td>\n",
       "      <td>200.0</td>\n",
       "    </tr>\n",
       "    <tr>\n",
       "      <th>2</th>\n",
       "      <td>0.11</td>\n",
       "      <td>0.88</td>\n",
       "      <td>M</td>\n",
       "      <td>8.0</td>\n",
       "      <td>272</td>\n",
       "      <td>4</td>\n",
       "      <td>0</td>\n",
       "      <td>1.0</td>\n",
       "      <td>0</td>\n",
       "      <td>NaN</td>\n",
       "      <td>medium</td>\n",
       "      <td>200.0</td>\n",
       "    </tr>\n",
       "    <tr>\n",
       "      <th>3</th>\n",
       "      <td>0.72</td>\n",
       "      <td>0.87</td>\n",
       "      <td>M</td>\n",
       "      <td>6.0</td>\n",
       "      <td>223</td>\n",
       "      <td>5</td>\n",
       "      <td>0</td>\n",
       "      <td>1.0</td>\n",
       "      <td>0</td>\n",
       "      <td>sales</td>\n",
       "      <td>low</td>\n",
       "      <td>100.0</td>\n",
       "    </tr>\n",
       "    <tr>\n",
       "      <th>4</th>\n",
       "      <td>0.37</td>\n",
       "      <td>0.52</td>\n",
       "      <td>M</td>\n",
       "      <td>NaN</td>\n",
       "      <td>159</td>\n",
       "      <td>3</td>\n",
       "      <td>0</td>\n",
       "      <td>1.0</td>\n",
       "      <td>0</td>\n",
       "      <td>sales</td>\n",
       "      <td>low</td>\n",
       "      <td>100.0</td>\n",
       "    </tr>\n",
       "  </tbody>\n",
       "</table>\n",
       "</div>"
      ],
      "text/plain": [
       "   nivel_de_satisfaccion  ultima_encuesta Sexo_empleado  numero_de_proyectos  \\\n",
       "0                   0.38             0.53             M                  3.0   \n",
       "1                   0.80             0.86             M                  6.0   \n",
       "2                   0.11             0.88             M                  8.0   \n",
       "3                   0.72             0.87             M                  6.0   \n",
       "4                   0.37             0.52             M                  NaN   \n",
       "\n",
       "   media_horas_mes   horas_en_la_empresa  accidente_de_trabajo  \\\n",
       "0               157                    3                     0   \n",
       "1               262                    6                     0   \n",
       "2               272                    4                     0   \n",
       "3               223                    5                     0   \n",
       "4               159                    3                     0   \n",
       "\n",
       "   deja_la_empresa  promociona    dep salario  salario €  \n",
       "0              1.0           0  sales     low      100.0  \n",
       "1              1.0           0  sales  medium      200.0  \n",
       "2              1.0           0    NaN  medium      200.0  \n",
       "3              1.0           0  sales     low      100.0  \n",
       "4              1.0           0  sales     low      100.0  "
      ]
     },
     "execution_count": 50,
     "metadata": {},
     "output_type": "execute_result"
    }
   ],
   "source": [
    "tabla.head()"
   ]
  },
  {
   "cell_type": "markdown",
   "metadata": {},
   "source": [
    "En los casos en los no deseamos eliminar filas con valores NaN, podemos sustituir los valores NaN por un valor por defecto. Para ello usamos la función __fillna()__.\n",
    "* Si queremos un valor por defecto para cada variable, usaremos un diccionario como parámetro de __fillna__."
   ]
  },
  {
   "cell_type": "code",
   "execution_count": 51,
   "metadata": {
    "collapsed": false
   },
   "outputs": [
    {
     "name": "stdout",
     "output_type": "stream",
     "text": [
      "<class 'pandas.core.frame.DataFrame'>\n",
      "RangeIndex: 14999 entries, 0 to 14998\n",
      "Data columns (total 12 columns):\n",
      "nivel_de_satisfaccion    14999 non-null float64\n",
      "ultima_encuesta          14999 non-null float64\n",
      "Sexo_empleado            14999 non-null object\n",
      "numero_de_proyectos      14998 non-null float64\n",
      "media_horas_mes          14999 non-null int64\n",
      "horas_en_la_empresa      14999 non-null int64\n",
      "accidente_de_trabajo     14999 non-null int64\n",
      "deja_la_empresa          14998 non-null float64\n",
      "promociona               14999 non-null int64\n",
      "dep                      14998 non-null object\n",
      "salario                  14997 non-null object\n",
      "salario €                14997 non-null float64\n",
      "dtypes: float64(5), int64(4), object(3)\n",
      "memory usage: 1.4+ MB\n"
     ]
    }
   ],
   "source": [
    "# Podemos ver las variables que tienen nulos\n",
    "tabla.info()"
   ]
  },
  {
   "cell_type": "code",
   "execution_count": 52,
   "metadata": {
    "collapsed": false
   },
   "outputs": [
    {
     "data": {
      "text/html": [
       "<div>\n",
       "<table border=\"1\" class=\"dataframe\">\n",
       "  <thead>\n",
       "    <tr style=\"text-align: right;\">\n",
       "      <th></th>\n",
       "      <th>nivel_de_satisfaccion</th>\n",
       "      <th>ultima_encuesta</th>\n",
       "      <th>Sexo_empleado</th>\n",
       "      <th>numero_de_proyectos</th>\n",
       "      <th>media_horas_mes</th>\n",
       "      <th>horas_en_la_empresa</th>\n",
       "      <th>accidente_de_trabajo</th>\n",
       "      <th>deja_la_empresa</th>\n",
       "      <th>promociona</th>\n",
       "      <th>dep</th>\n",
       "      <th>salario</th>\n",
       "      <th>salario €</th>\n",
       "    </tr>\n",
       "  </thead>\n",
       "  <tbody>\n",
       "    <tr>\n",
       "      <th>0</th>\n",
       "      <td>0.38</td>\n",
       "      <td>0.53</td>\n",
       "      <td>M</td>\n",
       "      <td>3.0</td>\n",
       "      <td>157</td>\n",
       "      <td>3</td>\n",
       "      <td>0</td>\n",
       "      <td>1.0</td>\n",
       "      <td>0</td>\n",
       "      <td>sales</td>\n",
       "      <td>low</td>\n",
       "      <td>100.0</td>\n",
       "    </tr>\n",
       "    <tr>\n",
       "      <th>1</th>\n",
       "      <td>0.80</td>\n",
       "      <td>0.86</td>\n",
       "      <td>M</td>\n",
       "      <td>6.0</td>\n",
       "      <td>262</td>\n",
       "      <td>6</td>\n",
       "      <td>0</td>\n",
       "      <td>1.0</td>\n",
       "      <td>0</td>\n",
       "      <td>sales</td>\n",
       "      <td>medium</td>\n",
       "      <td>200.0</td>\n",
       "    </tr>\n",
       "    <tr>\n",
       "      <th>2</th>\n",
       "      <td>0.11</td>\n",
       "      <td>0.88</td>\n",
       "      <td>M</td>\n",
       "      <td>8.0</td>\n",
       "      <td>272</td>\n",
       "      <td>4</td>\n",
       "      <td>0</td>\n",
       "      <td>1.0</td>\n",
       "      <td>0</td>\n",
       "      <td>otros</td>\n",
       "      <td>medium</td>\n",
       "      <td>200.0</td>\n",
       "    </tr>\n",
       "    <tr>\n",
       "      <th>3</th>\n",
       "      <td>0.72</td>\n",
       "      <td>0.87</td>\n",
       "      <td>M</td>\n",
       "      <td>6.0</td>\n",
       "      <td>223</td>\n",
       "      <td>5</td>\n",
       "      <td>0</td>\n",
       "      <td>1.0</td>\n",
       "      <td>0</td>\n",
       "      <td>sales</td>\n",
       "      <td>low</td>\n",
       "      <td>100.0</td>\n",
       "    </tr>\n",
       "    <tr>\n",
       "      <th>4</th>\n",
       "      <td>0.37</td>\n",
       "      <td>0.52</td>\n",
       "      <td>M</td>\n",
       "      <td>0.0</td>\n",
       "      <td>159</td>\n",
       "      <td>3</td>\n",
       "      <td>0</td>\n",
       "      <td>1.0</td>\n",
       "      <td>0</td>\n",
       "      <td>sales</td>\n",
       "      <td>low</td>\n",
       "      <td>100.0</td>\n",
       "    </tr>\n",
       "  </tbody>\n",
       "</table>\n",
       "</div>"
      ],
      "text/plain": [
       "   nivel_de_satisfaccion  ultima_encuesta Sexo_empleado  numero_de_proyectos  \\\n",
       "0                   0.38             0.53             M                  3.0   \n",
       "1                   0.80             0.86             M                  6.0   \n",
       "2                   0.11             0.88             M                  8.0   \n",
       "3                   0.72             0.87             M                  6.0   \n",
       "4                   0.37             0.52             M                  0.0   \n",
       "\n",
       "   media_horas_mes   horas_en_la_empresa  accidente_de_trabajo  \\\n",
       "0               157                    3                     0   \n",
       "1               262                    6                     0   \n",
       "2               272                    4                     0   \n",
       "3               223                    5                     0   \n",
       "4               159                    3                     0   \n",
       "\n",
       "   deja_la_empresa  promociona    dep salario  salario €  \n",
       "0              1.0           0  sales     low      100.0  \n",
       "1              1.0           0  sales  medium      200.0  \n",
       "2              1.0           0  otros  medium      200.0  \n",
       "3              1.0           0  sales     low      100.0  \n",
       "4              1.0           0  sales     low      100.0  "
      ]
     },
     "execution_count": 52,
     "metadata": {},
     "output_type": "execute_result"
    }
   ],
   "source": [
    "valores = {'numero_de_proyectos': 0, 'dep' : 'otros'}\n",
    "tabla.fillna(valores).head()"
   ]
  },
  {
   "cell_type": "code",
   "execution_count": 53,
   "metadata": {
    "collapsed": false
   },
   "outputs": [
    {
     "data": {
      "text/html": [
       "<div>\n",
       "<table border=\"1\" class=\"dataframe\">\n",
       "  <thead>\n",
       "    <tr style=\"text-align: right;\">\n",
       "      <th></th>\n",
       "      <th>nivel_de_satisfaccion</th>\n",
       "      <th>ultima_encuesta</th>\n",
       "      <th>Sexo_empleado</th>\n",
       "      <th>numero_de_proyectos</th>\n",
       "      <th>media_horas_mes</th>\n",
       "      <th>horas_en_la_empresa</th>\n",
       "      <th>accidente_de_trabajo</th>\n",
       "      <th>deja_la_empresa</th>\n",
       "      <th>promociona</th>\n",
       "      <th>dep</th>\n",
       "      <th>salario</th>\n",
       "      <th>salario €</th>\n",
       "    </tr>\n",
       "  </thead>\n",
       "  <tbody>\n",
       "    <tr>\n",
       "      <th>0</th>\n",
       "      <td>0.38</td>\n",
       "      <td>0.53</td>\n",
       "      <td>M</td>\n",
       "      <td>3.0</td>\n",
       "      <td>157</td>\n",
       "      <td>3</td>\n",
       "      <td>0</td>\n",
       "      <td>1.0</td>\n",
       "      <td>0</td>\n",
       "      <td>sales</td>\n",
       "      <td>low</td>\n",
       "      <td>100.0</td>\n",
       "    </tr>\n",
       "    <tr>\n",
       "      <th>1</th>\n",
       "      <td>0.80</td>\n",
       "      <td>0.86</td>\n",
       "      <td>M</td>\n",
       "      <td>6.0</td>\n",
       "      <td>262</td>\n",
       "      <td>6</td>\n",
       "      <td>0</td>\n",
       "      <td>1.0</td>\n",
       "      <td>0</td>\n",
       "      <td>sales</td>\n",
       "      <td>medium</td>\n",
       "      <td>200.0</td>\n",
       "    </tr>\n",
       "    <tr>\n",
       "      <th>2</th>\n",
       "      <td>0.11</td>\n",
       "      <td>0.88</td>\n",
       "      <td>M</td>\n",
       "      <td>8.0</td>\n",
       "      <td>272</td>\n",
       "      <td>4</td>\n",
       "      <td>0</td>\n",
       "      <td>1.0</td>\n",
       "      <td>0</td>\n",
       "      <td>NaN</td>\n",
       "      <td>medium</td>\n",
       "      <td>200.0</td>\n",
       "    </tr>\n",
       "    <tr>\n",
       "      <th>3</th>\n",
       "      <td>0.72</td>\n",
       "      <td>0.87</td>\n",
       "      <td>M</td>\n",
       "      <td>6.0</td>\n",
       "      <td>223</td>\n",
       "      <td>5</td>\n",
       "      <td>0</td>\n",
       "      <td>1.0</td>\n",
       "      <td>0</td>\n",
       "      <td>sales</td>\n",
       "      <td>low</td>\n",
       "      <td>100.0</td>\n",
       "    </tr>\n",
       "    <tr>\n",
       "      <th>4</th>\n",
       "      <td>0.37</td>\n",
       "      <td>0.52</td>\n",
       "      <td>M</td>\n",
       "      <td>NaN</td>\n",
       "      <td>159</td>\n",
       "      <td>3</td>\n",
       "      <td>0</td>\n",
       "      <td>1.0</td>\n",
       "      <td>0</td>\n",
       "      <td>sales</td>\n",
       "      <td>low</td>\n",
       "      <td>100.0</td>\n",
       "    </tr>\n",
       "  </tbody>\n",
       "</table>\n",
       "</div>"
      ],
      "text/plain": [
       "   nivel_de_satisfaccion  ultima_encuesta Sexo_empleado  numero_de_proyectos  \\\n",
       "0                   0.38             0.53             M                  3.0   \n",
       "1                   0.80             0.86             M                  6.0   \n",
       "2                   0.11             0.88             M                  8.0   \n",
       "3                   0.72             0.87             M                  6.0   \n",
       "4                   0.37             0.52             M                  NaN   \n",
       "\n",
       "   media_horas_mes   horas_en_la_empresa  accidente_de_trabajo  \\\n",
       "0               157                    3                     0   \n",
       "1               262                    6                     0   \n",
       "2               272                    4                     0   \n",
       "3               223                    5                     0   \n",
       "4               159                    3                     0   \n",
       "\n",
       "   deja_la_empresa  promociona    dep salario  salario €  \n",
       "0              1.0           0  sales     low      100.0  \n",
       "1              1.0           0  sales  medium      200.0  \n",
       "2              1.0           0    NaN  medium      200.0  \n",
       "3              1.0           0  sales     low      100.0  \n",
       "4              1.0           0  sales     low      100.0  "
      ]
     },
     "execution_count": 53,
     "metadata": {},
     "output_type": "execute_result"
    }
   ],
   "source": [
    "tabla.head()     # cuidado: fillna no modifica la tabla"
   ]
  },
  {
   "cell_type": "markdown",
   "metadata": {},
   "source": [
    "## 1.8 Consultas"
   ]
  },
  {
   "cell_type": "markdown",
   "metadata": {},
   "source": [
    "La sección de partes de un DataFrame se realiza mediante máscaras. Veamos algunos ejemplos:"
   ]
  },
  {
   "cell_type": "markdown",
   "metadata": {},
   "source": [
    "* Selección de tuplas con nivel de satisfacción superior a 0.5"
   ]
  },
  {
   "cell_type": "code",
   "execution_count": 54,
   "metadata": {
    "collapsed": false
   },
   "outputs": [
    {
     "data": {
      "text/plain": [
       "0    False\n",
       "1     True\n",
       "2    False\n",
       "3     True\n",
       "4    False\n",
       "Name: nivel_de_satisfaccion, dtype: bool"
      ]
     },
     "execution_count": 54,
     "metadata": {},
     "output_type": "execute_result"
    }
   ],
   "source": [
    "mascara = tabla.nivel_de_satisfaccion  > 0.5\n",
    "mascara.head()"
   ]
  },
  {
   "cell_type": "code",
   "execution_count": 55,
   "metadata": {
    "collapsed": false
   },
   "outputs": [
    {
     "data": {
      "text/html": [
       "<div>\n",
       "<table border=\"1\" class=\"dataframe\">\n",
       "  <thead>\n",
       "    <tr style=\"text-align: right;\">\n",
       "      <th></th>\n",
       "      <th>nivel_de_satisfaccion</th>\n",
       "      <th>ultima_encuesta</th>\n",
       "      <th>Sexo_empleado</th>\n",
       "      <th>numero_de_proyectos</th>\n",
       "      <th>media_horas_mes</th>\n",
       "      <th>horas_en_la_empresa</th>\n",
       "      <th>accidente_de_trabajo</th>\n",
       "      <th>deja_la_empresa</th>\n",
       "      <th>promociona</th>\n",
       "      <th>dep</th>\n",
       "      <th>salario</th>\n",
       "      <th>salario €</th>\n",
       "    </tr>\n",
       "  </thead>\n",
       "  <tbody>\n",
       "    <tr>\n",
       "      <th>1</th>\n",
       "      <td>0.80</td>\n",
       "      <td>0.86</td>\n",
       "      <td>M</td>\n",
       "      <td>6.0</td>\n",
       "      <td>262</td>\n",
       "      <td>6</td>\n",
       "      <td>0</td>\n",
       "      <td>1.0</td>\n",
       "      <td>0</td>\n",
       "      <td>sales</td>\n",
       "      <td>medium</td>\n",
       "      <td>200.0</td>\n",
       "    </tr>\n",
       "    <tr>\n",
       "      <th>3</th>\n",
       "      <td>0.72</td>\n",
       "      <td>0.87</td>\n",
       "      <td>M</td>\n",
       "      <td>6.0</td>\n",
       "      <td>223</td>\n",
       "      <td>5</td>\n",
       "      <td>0</td>\n",
       "      <td>1.0</td>\n",
       "      <td>0</td>\n",
       "      <td>sales</td>\n",
       "      <td>low</td>\n",
       "      <td>100.0</td>\n",
       "    </tr>\n",
       "    <tr>\n",
       "      <th>7</th>\n",
       "      <td>0.92</td>\n",
       "      <td>0.85</td>\n",
       "      <td>M</td>\n",
       "      <td>6.0</td>\n",
       "      <td>259</td>\n",
       "      <td>5</td>\n",
       "      <td>0</td>\n",
       "      <td>1.0</td>\n",
       "      <td>0</td>\n",
       "      <td>sales</td>\n",
       "      <td>low</td>\n",
       "      <td>100.0</td>\n",
       "    </tr>\n",
       "    <tr>\n",
       "      <th>8</th>\n",
       "      <td>0.89</td>\n",
       "      <td>1.00</td>\n",
       "      <td>M</td>\n",
       "      <td>6.0</td>\n",
       "      <td>224</td>\n",
       "      <td>5</td>\n",
       "      <td>0</td>\n",
       "      <td>1.0</td>\n",
       "      <td>0</td>\n",
       "      <td>sales</td>\n",
       "      <td>low</td>\n",
       "      <td>100.0</td>\n",
       "    </tr>\n",
       "    <tr>\n",
       "      <th>12</th>\n",
       "      <td>0.84</td>\n",
       "      <td>0.92</td>\n",
       "      <td>M</td>\n",
       "      <td>5.0</td>\n",
       "      <td>234</td>\n",
       "      <td>5</td>\n",
       "      <td>0</td>\n",
       "      <td>1.0</td>\n",
       "      <td>0</td>\n",
       "      <td>sales</td>\n",
       "      <td>low</td>\n",
       "      <td>100.0</td>\n",
       "    </tr>\n",
       "  </tbody>\n",
       "</table>\n",
       "</div>"
      ],
      "text/plain": [
       "    nivel_de_satisfaccion  ultima_encuesta Sexo_empleado  numero_de_proyectos  \\\n",
       "1                    0.80             0.86             M                  6.0   \n",
       "3                    0.72             0.87             M                  6.0   \n",
       "7                    0.92             0.85             M                  6.0   \n",
       "8                    0.89             1.00             M                  6.0   \n",
       "12                   0.84             0.92             M                  5.0   \n",
       "\n",
       "    media_horas_mes   horas_en_la_empresa  accidente_de_trabajo  \\\n",
       "1                262                    6                     0   \n",
       "3                223                    5                     0   \n",
       "7                259                    5                     0   \n",
       "8                224                    5                     0   \n",
       "12               234                    5                     0   \n",
       "\n",
       "    deja_la_empresa  promociona    dep salario  salario €  \n",
       "1               1.0           0  sales  medium      200.0  \n",
       "3               1.0           0  sales     low      100.0  \n",
       "7               1.0           0  sales     low      100.0  \n",
       "8               1.0           0  sales     low      100.0  \n",
       "12              1.0           0  sales     low      100.0  "
      ]
     },
     "execution_count": 55,
     "metadata": {},
     "output_type": "execute_result"
    }
   ],
   "source": [
    "# selección de tuplas que cumplen la máscara\n",
    "resultado = tabla[mascara]\n",
    "resultado.head()"
   ]
  },
  {
   "cell_type": "code",
   "execution_count": 56,
   "metadata": {
    "collapsed": false
   },
   "outputs": [
    {
     "data": {
      "text/plain": [
       "10187"
      ]
     },
     "execution_count": 56,
     "metadata": {},
     "output_type": "execute_result"
    }
   ],
   "source": [
    "len(resultado)   # número de tuplas devueltas"
   ]
  },
  {
   "cell_type": "markdown",
   "metadata": {},
   "source": [
    "* Selección de tuplas con nivel de satisfacción superior a 0.5 del departamento `hr`"
   ]
  },
  {
   "cell_type": "code",
   "execution_count": 57,
   "metadata": {
    "collapsed": false
   },
   "outputs": [
    {
     "data": {
      "text/html": [
       "<div>\n",
       "<table border=\"1\" class=\"dataframe\">\n",
       "  <thead>\n",
       "    <tr style=\"text-align: right;\">\n",
       "      <th></th>\n",
       "      <th>nivel_de_satisfaccion</th>\n",
       "      <th>ultima_encuesta</th>\n",
       "      <th>Sexo_empleado</th>\n",
       "      <th>numero_de_proyectos</th>\n",
       "      <th>media_horas_mes</th>\n",
       "      <th>horas_en_la_empresa</th>\n",
       "      <th>accidente_de_trabajo</th>\n",
       "      <th>deja_la_empresa</th>\n",
       "      <th>promociona</th>\n",
       "      <th>dep</th>\n",
       "      <th>salario</th>\n",
       "      <th>salario €</th>\n",
       "    </tr>\n",
       "  </thead>\n",
       "  <tbody>\n",
       "    <tr>\n",
       "      <th>34</th>\n",
       "      <td>0.84</td>\n",
       "      <td>0.87</td>\n",
       "      <td>M</td>\n",
       "      <td>5.0</td>\n",
       "      <td>246</td>\n",
       "      <td>6</td>\n",
       "      <td>0</td>\n",
       "      <td>1.0</td>\n",
       "      <td>0</td>\n",
       "      <td>hr</td>\n",
       "      <td>low</td>\n",
       "      <td>100.0</td>\n",
       "    </tr>\n",
       "    <tr>\n",
       "      <th>108</th>\n",
       "      <td>0.71</td>\n",
       "      <td>0.87</td>\n",
       "      <td>M</td>\n",
       "      <td>4.0</td>\n",
       "      <td>177</td>\n",
       "      <td>4</td>\n",
       "      <td>0</td>\n",
       "      <td>1.0</td>\n",
       "      <td>0</td>\n",
       "      <td>hr</td>\n",
       "      <td>medium</td>\n",
       "      <td>200.0</td>\n",
       "    </tr>\n",
       "    <tr>\n",
       "      <th>228</th>\n",
       "      <td>0.85</td>\n",
       "      <td>0.95</td>\n",
       "      <td>M</td>\n",
       "      <td>6.0</td>\n",
       "      <td>236</td>\n",
       "      <td>5</td>\n",
       "      <td>0</td>\n",
       "      <td>1.0</td>\n",
       "      <td>0</td>\n",
       "      <td>hr</td>\n",
       "      <td>low</td>\n",
       "      <td>100.0</td>\n",
       "    </tr>\n",
       "    <tr>\n",
       "      <th>261</th>\n",
       "      <td>0.82</td>\n",
       "      <td>0.97</td>\n",
       "      <td>M</td>\n",
       "      <td>6.0</td>\n",
       "      <td>263</td>\n",
       "      <td>5</td>\n",
       "      <td>0</td>\n",
       "      <td>1.0</td>\n",
       "      <td>0</td>\n",
       "      <td>hr</td>\n",
       "      <td>medium</td>\n",
       "      <td>200.0</td>\n",
       "    </tr>\n",
       "    <tr>\n",
       "      <th>379</th>\n",
       "      <td>0.77</td>\n",
       "      <td>0.93</td>\n",
       "      <td>M</td>\n",
       "      <td>5.0</td>\n",
       "      <td>231</td>\n",
       "      <td>5</td>\n",
       "      <td>0</td>\n",
       "      <td>1.0</td>\n",
       "      <td>0</td>\n",
       "      <td>hr</td>\n",
       "      <td>medium</td>\n",
       "      <td>200.0</td>\n",
       "    </tr>\n",
       "  </tbody>\n",
       "</table>\n",
       "</div>"
      ],
      "text/plain": [
       "     nivel_de_satisfaccion  ultima_encuesta Sexo_empleado  \\\n",
       "34                    0.84             0.87             M   \n",
       "108                   0.71             0.87             M   \n",
       "228                   0.85             0.95             M   \n",
       "261                   0.82             0.97             M   \n",
       "379                   0.77             0.93             M   \n",
       "\n",
       "     numero_de_proyectos  media_horas_mes   horas_en_la_empresa  \\\n",
       "34                   5.0               246                    6   \n",
       "108                  4.0               177                    4   \n",
       "228                  6.0               236                    5   \n",
       "261                  6.0               263                    5   \n",
       "379                  5.0               231                    5   \n",
       "\n",
       "     accidente_de_trabajo  deja_la_empresa  promociona dep salario  salario €  \n",
       "34                      0              1.0           0  hr     low      100.0  \n",
       "108                     0              1.0           0  hr  medium      200.0  \n",
       "228                     0              1.0           0  hr     low      100.0  \n",
       "261                     0              1.0           0  hr  medium      200.0  \n",
       "379                     0              1.0           0  hr  medium      200.0  "
      ]
     },
     "execution_count": 57,
     "metadata": {},
     "output_type": "execute_result"
    }
   ],
   "source": [
    "mascara_sat = tabla.nivel_de_satisfaccion  > 0.5\n",
    "mascara_hr  = tabla.dep == 'hr'\n",
    "resultadoC2 = tabla[mascara_sat & mascara_hr]\n",
    "resultadoC2.head()"
   ]
  },
  {
   "cell_type": "code",
   "execution_count": 58,
   "metadata": {
    "collapsed": false
   },
   "outputs": [
    {
     "data": {
      "text/plain": [
       "474"
      ]
     },
     "execution_count": 58,
     "metadata": {},
     "output_type": "execute_result"
    }
   ],
   "source": [
    "len(resultadoC2)"
   ]
  },
  {
   "cell_type": "markdown",
   "metadata": {},
   "source": [
    "* Selección de tuplas con nivel de satisfacción superior a 0.5 del departamento `hr`. Mostrar los resultado ordenados por nivel de satisfacción"
   ]
  },
  {
   "cell_type": "code",
   "execution_count": 59,
   "metadata": {
    "collapsed": false
   },
   "outputs": [
    {
     "data": {
      "text/html": [
       "<div>\n",
       "<table border=\"1\" class=\"dataframe\">\n",
       "  <thead>\n",
       "    <tr style=\"text-align: right;\">\n",
       "      <th></th>\n",
       "      <th>nivel_de_satisfaccion</th>\n",
       "      <th>ultima_encuesta</th>\n",
       "      <th>Sexo_empleado</th>\n",
       "      <th>numero_de_proyectos</th>\n",
       "      <th>media_horas_mes</th>\n",
       "      <th>horas_en_la_empresa</th>\n",
       "      <th>accidente_de_trabajo</th>\n",
       "      <th>deja_la_empresa</th>\n",
       "      <th>promociona</th>\n",
       "      <th>dep</th>\n",
       "      <th>salario</th>\n",
       "      <th>salario €</th>\n",
       "    </tr>\n",
       "  </thead>\n",
       "  <tbody>\n",
       "    <tr>\n",
       "      <th>9803</th>\n",
       "      <td>0.51</td>\n",
       "      <td>0.58</td>\n",
       "      <td>M</td>\n",
       "      <td>4.0</td>\n",
       "      <td>141</td>\n",
       "      <td>3</td>\n",
       "      <td>0</td>\n",
       "      <td>0.0</td>\n",
       "      <td>0</td>\n",
       "      <td>hr</td>\n",
       "      <td>low</td>\n",
       "      <td>100.0</td>\n",
       "    </tr>\n",
       "    <tr>\n",
       "      <th>3999</th>\n",
       "      <td>0.51</td>\n",
       "      <td>0.95</td>\n",
       "      <td>M</td>\n",
       "      <td>5.0</td>\n",
       "      <td>258</td>\n",
       "      <td>3</td>\n",
       "      <td>0</td>\n",
       "      <td>0.0</td>\n",
       "      <td>0</td>\n",
       "      <td>hr</td>\n",
       "      <td>medium</td>\n",
       "      <td>200.0</td>\n",
       "    </tr>\n",
       "    <tr>\n",
       "      <th>5453</th>\n",
       "      <td>0.51</td>\n",
       "      <td>0.88</td>\n",
       "      <td>M</td>\n",
       "      <td>4.0</td>\n",
       "      <td>202</td>\n",
       "      <td>4</td>\n",
       "      <td>0</td>\n",
       "      <td>0.0</td>\n",
       "      <td>0</td>\n",
       "      <td>hr</td>\n",
       "      <td>low</td>\n",
       "      <td>100.0</td>\n",
       "    </tr>\n",
       "    <tr>\n",
       "      <th>5605</th>\n",
       "      <td>0.51</td>\n",
       "      <td>0.82</td>\n",
       "      <td>M</td>\n",
       "      <td>4.0</td>\n",
       "      <td>206</td>\n",
       "      <td>4</td>\n",
       "      <td>0</td>\n",
       "      <td>0.0</td>\n",
       "      <td>0</td>\n",
       "      <td>hr</td>\n",
       "      <td>medium</td>\n",
       "      <td>200.0</td>\n",
       "    </tr>\n",
       "    <tr>\n",
       "      <th>9880</th>\n",
       "      <td>0.51</td>\n",
       "      <td>0.50</td>\n",
       "      <td>M</td>\n",
       "      <td>5.0</td>\n",
       "      <td>246</td>\n",
       "      <td>3</td>\n",
       "      <td>0</td>\n",
       "      <td>0.0</td>\n",
       "      <td>0</td>\n",
       "      <td>hr</td>\n",
       "      <td>low</td>\n",
       "      <td>100.0</td>\n",
       "    </tr>\n",
       "    <tr>\n",
       "      <th>6444</th>\n",
       "      <td>0.51</td>\n",
       "      <td>0.75</td>\n",
       "      <td>M</td>\n",
       "      <td>5.0</td>\n",
       "      <td>175</td>\n",
       "      <td>2</td>\n",
       "      <td>0</td>\n",
       "      <td>0.0</td>\n",
       "      <td>0</td>\n",
       "      <td>hr</td>\n",
       "      <td>medium</td>\n",
       "      <td>200.0</td>\n",
       "    </tr>\n",
       "    <tr>\n",
       "      <th>7210</th>\n",
       "      <td>0.51</td>\n",
       "      <td>0.89</td>\n",
       "      <td>M</td>\n",
       "      <td>7.0</td>\n",
       "      <td>170</td>\n",
       "      <td>4</td>\n",
       "      <td>0</td>\n",
       "      <td>0.0</td>\n",
       "      <td>0</td>\n",
       "      <td>hr</td>\n",
       "      <td>low</td>\n",
       "      <td>100.0</td>\n",
       "    </tr>\n",
       "    <tr>\n",
       "      <th>7513</th>\n",
       "      <td>0.51</td>\n",
       "      <td>0.51</td>\n",
       "      <td>M</td>\n",
       "      <td>6.0</td>\n",
       "      <td>222</td>\n",
       "      <td>4</td>\n",
       "      <td>0</td>\n",
       "      <td>0.0</td>\n",
       "      <td>0</td>\n",
       "      <td>hr</td>\n",
       "      <td>low</td>\n",
       "      <td>100.0</td>\n",
       "    </tr>\n",
       "    <tr>\n",
       "      <th>7587</th>\n",
       "      <td>0.51</td>\n",
       "      <td>0.87</td>\n",
       "      <td>M</td>\n",
       "      <td>4.0</td>\n",
       "      <td>180</td>\n",
       "      <td>4</td>\n",
       "      <td>0</td>\n",
       "      <td>0.0</td>\n",
       "      <td>0</td>\n",
       "      <td>hr</td>\n",
       "      <td>low</td>\n",
       "      <td>100.0</td>\n",
       "    </tr>\n",
       "    <tr>\n",
       "      <th>2779</th>\n",
       "      <td>0.51</td>\n",
       "      <td>0.81</td>\n",
       "      <td>M</td>\n",
       "      <td>4.0</td>\n",
       "      <td>143</td>\n",
       "      <td>2</td>\n",
       "      <td>0</td>\n",
       "      <td>0.0</td>\n",
       "      <td>0</td>\n",
       "      <td>hr</td>\n",
       "      <td>low</td>\n",
       "      <td>100.0</td>\n",
       "    </tr>\n",
       "    <tr>\n",
       "      <th>7817</th>\n",
       "      <td>0.51</td>\n",
       "      <td>0.53</td>\n",
       "      <td>M</td>\n",
       "      <td>4.0</td>\n",
       "      <td>237</td>\n",
       "      <td>3</td>\n",
       "      <td>0</td>\n",
       "      <td>0.0</td>\n",
       "      <td>0</td>\n",
       "      <td>hr</td>\n",
       "      <td>medium</td>\n",
       "      <td>200.0</td>\n",
       "    </tr>\n",
       "    <tr>\n",
       "      <th>6904</th>\n",
       "      <td>0.52</td>\n",
       "      <td>0.62</td>\n",
       "      <td>M</td>\n",
       "      <td>4.0</td>\n",
       "      <td>160</td>\n",
       "      <td>2</td>\n",
       "      <td>0</td>\n",
       "      <td>0.0</td>\n",
       "      <td>0</td>\n",
       "      <td>hr</td>\n",
       "      <td>medium</td>\n",
       "      <td>200.0</td>\n",
       "    </tr>\n",
       "    <tr>\n",
       "      <th>7438</th>\n",
       "      <td>0.52</td>\n",
       "      <td>0.70</td>\n",
       "      <td>M</td>\n",
       "      <td>5.0</td>\n",
       "      <td>219</td>\n",
       "      <td>3</td>\n",
       "      <td>0</td>\n",
       "      <td>0.0</td>\n",
       "      <td>0</td>\n",
       "      <td>hr</td>\n",
       "      <td>medium</td>\n",
       "      <td>200.0</td>\n",
       "    </tr>\n",
       "    <tr>\n",
       "      <th>8812</th>\n",
       "      <td>0.52</td>\n",
       "      <td>0.92</td>\n",
       "      <td>M</td>\n",
       "      <td>6.0</td>\n",
       "      <td>280</td>\n",
       "      <td>6</td>\n",
       "      <td>1</td>\n",
       "      <td>0.0</td>\n",
       "      <td>0</td>\n",
       "      <td>hr</td>\n",
       "      <td>high</td>\n",
       "      <td>300.0</td>\n",
       "    </tr>\n",
       "    <tr>\n",
       "      <th>4461</th>\n",
       "      <td>0.52</td>\n",
       "      <td>0.63</td>\n",
       "      <td>M</td>\n",
       "      <td>4.0</td>\n",
       "      <td>225</td>\n",
       "      <td>3</td>\n",
       "      <td>0</td>\n",
       "      <td>0.0</td>\n",
       "      <td>0</td>\n",
       "      <td>hr</td>\n",
       "      <td>medium</td>\n",
       "      <td>200.0</td>\n",
       "    </tr>\n",
       "    <tr>\n",
       "      <th>7741</th>\n",
       "      <td>0.52</td>\n",
       "      <td>0.96</td>\n",
       "      <td>M</td>\n",
       "      <td>5.0</td>\n",
       "      <td>125</td>\n",
       "      <td>3</td>\n",
       "      <td>0</td>\n",
       "      <td>0.0</td>\n",
       "      <td>0</td>\n",
       "      <td>hr</td>\n",
       "      <td>low</td>\n",
       "      <td>100.0</td>\n",
       "    </tr>\n",
       "    <tr>\n",
       "      <th>5450</th>\n",
       "      <td>0.52</td>\n",
       "      <td>0.90</td>\n",
       "      <td>M</td>\n",
       "      <td>5.0</td>\n",
       "      <td>285</td>\n",
       "      <td>2</td>\n",
       "      <td>0</td>\n",
       "      <td>0.0</td>\n",
       "      <td>0</td>\n",
       "      <td>hr</td>\n",
       "      <td>low</td>\n",
       "      <td>100.0</td>\n",
       "    </tr>\n",
       "    <tr>\n",
       "      <th>12490</th>\n",
       "      <td>0.53</td>\n",
       "      <td>0.56</td>\n",
       "      <td>M</td>\n",
       "      <td>5.0</td>\n",
       "      <td>281</td>\n",
       "      <td>6</td>\n",
       "      <td>0</td>\n",
       "      <td>1.0</td>\n",
       "      <td>0</td>\n",
       "      <td>hr</td>\n",
       "      <td>medium</td>\n",
       "      <td>200.0</td>\n",
       "    </tr>\n",
       "    <tr>\n",
       "      <th>3313</th>\n",
       "      <td>0.53</td>\n",
       "      <td>0.73</td>\n",
       "      <td>M</td>\n",
       "      <td>5.0</td>\n",
       "      <td>227</td>\n",
       "      <td>3</td>\n",
       "      <td>0</td>\n",
       "      <td>0.0</td>\n",
       "      <td>0</td>\n",
       "      <td>hr</td>\n",
       "      <td>medium</td>\n",
       "      <td>200.0</td>\n",
       "    </tr>\n",
       "    <tr>\n",
       "      <th>2471</th>\n",
       "      <td>0.53</td>\n",
       "      <td>0.69</td>\n",
       "      <td>M</td>\n",
       "      <td>5.0</td>\n",
       "      <td>216</td>\n",
       "      <td>2</td>\n",
       "      <td>0</td>\n",
       "      <td>0.0</td>\n",
       "      <td>0</td>\n",
       "      <td>hr</td>\n",
       "      <td>low</td>\n",
       "      <td>100.0</td>\n",
       "    </tr>\n",
       "    <tr>\n",
       "      <th>8355</th>\n",
       "      <td>0.53</td>\n",
       "      <td>0.78</td>\n",
       "      <td>M</td>\n",
       "      <td>6.0</td>\n",
       "      <td>275</td>\n",
       "      <td>5</td>\n",
       "      <td>0</td>\n",
       "      <td>0.0</td>\n",
       "      <td>0</td>\n",
       "      <td>hr</td>\n",
       "      <td>low</td>\n",
       "      <td>100.0</td>\n",
       "    </tr>\n",
       "    <tr>\n",
       "      <th>2245</th>\n",
       "      <td>0.53</td>\n",
       "      <td>0.75</td>\n",
       "      <td>M</td>\n",
       "      <td>7.0</td>\n",
       "      <td>192</td>\n",
       "      <td>6</td>\n",
       "      <td>0</td>\n",
       "      <td>0.0</td>\n",
       "      <td>0</td>\n",
       "      <td>hr</td>\n",
       "      <td>medium</td>\n",
       "      <td>200.0</td>\n",
       "    </tr>\n",
       "    <tr>\n",
       "      <th>4690</th>\n",
       "      <td>0.53</td>\n",
       "      <td>0.76</td>\n",
       "      <td>M</td>\n",
       "      <td>3.0</td>\n",
       "      <td>204</td>\n",
       "      <td>4</td>\n",
       "      <td>0</td>\n",
       "      <td>0.0</td>\n",
       "      <td>0</td>\n",
       "      <td>hr</td>\n",
       "      <td>high</td>\n",
       "      <td>300.0</td>\n",
       "    </tr>\n",
       "    <tr>\n",
       "      <th>5220</th>\n",
       "      <td>0.53</td>\n",
       "      <td>0.50</td>\n",
       "      <td>M</td>\n",
       "      <td>5.0</td>\n",
       "      <td>185</td>\n",
       "      <td>3</td>\n",
       "      <td>0</td>\n",
       "      <td>0.0</td>\n",
       "      <td>0</td>\n",
       "      <td>hr</td>\n",
       "      <td>low</td>\n",
       "      <td>100.0</td>\n",
       "    </tr>\n",
       "    <tr>\n",
       "      <th>490</th>\n",
       "      <td>0.53</td>\n",
       "      <td>0.56</td>\n",
       "      <td>M</td>\n",
       "      <td>5.0</td>\n",
       "      <td>281</td>\n",
       "      <td>6</td>\n",
       "      <td>0</td>\n",
       "      <td>1.0</td>\n",
       "      <td>0</td>\n",
       "      <td>hr</td>\n",
       "      <td>medium</td>\n",
       "      <td>200.0</td>\n",
       "    </tr>\n",
       "    <tr>\n",
       "      <th>5833</th>\n",
       "      <td>0.53</td>\n",
       "      <td>0.59</td>\n",
       "      <td>M</td>\n",
       "      <td>3.0</td>\n",
       "      <td>201</td>\n",
       "      <td>3</td>\n",
       "      <td>1</td>\n",
       "      <td>0.0</td>\n",
       "      <td>0</td>\n",
       "      <td>hr</td>\n",
       "      <td>medium</td>\n",
       "      <td>200.0</td>\n",
       "    </tr>\n",
       "    <tr>\n",
       "      <th>7588</th>\n",
       "      <td>0.53</td>\n",
       "      <td>0.55</td>\n",
       "      <td>M</td>\n",
       "      <td>6.0</td>\n",
       "      <td>224</td>\n",
       "      <td>2</td>\n",
       "      <td>1</td>\n",
       "      <td>0.0</td>\n",
       "      <td>0</td>\n",
       "      <td>hr</td>\n",
       "      <td>low</td>\n",
       "      <td>100.0</td>\n",
       "    </tr>\n",
       "    <tr>\n",
       "      <th>9652</th>\n",
       "      <td>0.53</td>\n",
       "      <td>0.64</td>\n",
       "      <td>M</td>\n",
       "      <td>3.0</td>\n",
       "      <td>109</td>\n",
       "      <td>3</td>\n",
       "      <td>0</td>\n",
       "      <td>0.0</td>\n",
       "      <td>0</td>\n",
       "      <td>hr</td>\n",
       "      <td>medium</td>\n",
       "      <td>200.0</td>\n",
       "    </tr>\n",
       "    <tr>\n",
       "      <th>6138</th>\n",
       "      <td>0.53</td>\n",
       "      <td>0.84</td>\n",
       "      <td>M</td>\n",
       "      <td>5.0</td>\n",
       "      <td>219</td>\n",
       "      <td>2</td>\n",
       "      <td>0</td>\n",
       "      <td>0.0</td>\n",
       "      <td>0</td>\n",
       "      <td>hr</td>\n",
       "      <td>high</td>\n",
       "      <td>300.0</td>\n",
       "    </tr>\n",
       "    <tr>\n",
       "      <th>14701</th>\n",
       "      <td>0.53</td>\n",
       "      <td>0.56</td>\n",
       "      <td>M</td>\n",
       "      <td>5.0</td>\n",
       "      <td>281</td>\n",
       "      <td>6</td>\n",
       "      <td>0</td>\n",
       "      <td>1.0</td>\n",
       "      <td>0</td>\n",
       "      <td>hr</td>\n",
       "      <td>medium</td>\n",
       "      <td>200.0</td>\n",
       "    </tr>\n",
       "    <tr>\n",
       "      <th>...</th>\n",
       "      <td>...</td>\n",
       "      <td>...</td>\n",
       "      <td>...</td>\n",
       "      <td>...</td>\n",
       "      <td>...</td>\n",
       "      <td>...</td>\n",
       "      <td>...</td>\n",
       "      <td>...</td>\n",
       "      <td>...</td>\n",
       "      <td>...</td>\n",
       "      <td>...</td>\n",
       "      <td>...</td>\n",
       "    </tr>\n",
       "    <tr>\n",
       "      <th>7361</th>\n",
       "      <td>0.97</td>\n",
       "      <td>0.95</td>\n",
       "      <td>M</td>\n",
       "      <td>4.0</td>\n",
       "      <td>257</td>\n",
       "      <td>2</td>\n",
       "      <td>0</td>\n",
       "      <td>0.0</td>\n",
       "      <td>0</td>\n",
       "      <td>hr</td>\n",
       "      <td>medium</td>\n",
       "      <td>200.0</td>\n",
       "    </tr>\n",
       "    <tr>\n",
       "      <th>4765</th>\n",
       "      <td>0.98</td>\n",
       "      <td>0.91</td>\n",
       "      <td>M</td>\n",
       "      <td>5.0</td>\n",
       "      <td>273</td>\n",
       "      <td>2</td>\n",
       "      <td>0</td>\n",
       "      <td>0.0</td>\n",
       "      <td>0</td>\n",
       "      <td>hr</td>\n",
       "      <td>low</td>\n",
       "      <td>100.0</td>\n",
       "    </tr>\n",
       "    <tr>\n",
       "      <th>5760</th>\n",
       "      <td>0.98</td>\n",
       "      <td>0.78</td>\n",
       "      <td>M</td>\n",
       "      <td>4.0</td>\n",
       "      <td>197</td>\n",
       "      <td>2</td>\n",
       "      <td>0</td>\n",
       "      <td>0.0</td>\n",
       "      <td>0</td>\n",
       "      <td>hr</td>\n",
       "      <td>low</td>\n",
       "      <td>100.0</td>\n",
       "    </tr>\n",
       "    <tr>\n",
       "      <th>5987</th>\n",
       "      <td>0.98</td>\n",
       "      <td>0.87</td>\n",
       "      <td>M</td>\n",
       "      <td>4.0</td>\n",
       "      <td>246</td>\n",
       "      <td>3</td>\n",
       "      <td>0</td>\n",
       "      <td>0.0</td>\n",
       "      <td>0</td>\n",
       "      <td>hr</td>\n",
       "      <td>high</td>\n",
       "      <td>300.0</td>\n",
       "    </tr>\n",
       "    <tr>\n",
       "      <th>10716</th>\n",
       "      <td>0.98</td>\n",
       "      <td>0.91</td>\n",
       "      <td>M</td>\n",
       "      <td>4.0</td>\n",
       "      <td>165</td>\n",
       "      <td>2</td>\n",
       "      <td>1</td>\n",
       "      <td>0.0</td>\n",
       "      <td>0</td>\n",
       "      <td>hr</td>\n",
       "      <td>medium</td>\n",
       "      <td>200.0</td>\n",
       "    </tr>\n",
       "    <tr>\n",
       "      <th>7437</th>\n",
       "      <td>0.98</td>\n",
       "      <td>0.80</td>\n",
       "      <td>M</td>\n",
       "      <td>4.0</td>\n",
       "      <td>166</td>\n",
       "      <td>2</td>\n",
       "      <td>0</td>\n",
       "      <td>0.0</td>\n",
       "      <td>0</td>\n",
       "      <td>hr</td>\n",
       "      <td>medium</td>\n",
       "      <td>200.0</td>\n",
       "    </tr>\n",
       "    <tr>\n",
       "      <th>5143</th>\n",
       "      <td>0.98</td>\n",
       "      <td>0.61</td>\n",
       "      <td>M</td>\n",
       "      <td>4.0</td>\n",
       "      <td>226</td>\n",
       "      <td>2</td>\n",
       "      <td>0</td>\n",
       "      <td>0.0</td>\n",
       "      <td>0</td>\n",
       "      <td>hr</td>\n",
       "      <td>low</td>\n",
       "      <td>100.0</td>\n",
       "    </tr>\n",
       "    <tr>\n",
       "      <th>6140</th>\n",
       "      <td>0.98</td>\n",
       "      <td>0.77</td>\n",
       "      <td>M</td>\n",
       "      <td>5.0</td>\n",
       "      <td>184</td>\n",
       "      <td>3</td>\n",
       "      <td>0</td>\n",
       "      <td>0.0</td>\n",
       "      <td>0</td>\n",
       "      <td>hr</td>\n",
       "      <td>medium</td>\n",
       "      <td>200.0</td>\n",
       "    </tr>\n",
       "    <tr>\n",
       "      <th>8962</th>\n",
       "      <td>0.98</td>\n",
       "      <td>0.63</td>\n",
       "      <td>M</td>\n",
       "      <td>5.0</td>\n",
       "      <td>232</td>\n",
       "      <td>2</td>\n",
       "      <td>0</td>\n",
       "      <td>0.0</td>\n",
       "      <td>0</td>\n",
       "      <td>hr</td>\n",
       "      <td>medium</td>\n",
       "      <td>200.0</td>\n",
       "    </tr>\n",
       "    <tr>\n",
       "      <th>3923</th>\n",
       "      <td>0.98</td>\n",
       "      <td>0.66</td>\n",
       "      <td>M</td>\n",
       "      <td>4.0</td>\n",
       "      <td>154</td>\n",
       "      <td>2</td>\n",
       "      <td>0</td>\n",
       "      <td>0.0</td>\n",
       "      <td>0</td>\n",
       "      <td>hr</td>\n",
       "      <td>medium</td>\n",
       "      <td>200.0</td>\n",
       "    </tr>\n",
       "    <tr>\n",
       "      <th>8430</th>\n",
       "      <td>0.98</td>\n",
       "      <td>0.72</td>\n",
       "      <td>M</td>\n",
       "      <td>4.0</td>\n",
       "      <td>262</td>\n",
       "      <td>4</td>\n",
       "      <td>0</td>\n",
       "      <td>0.0</td>\n",
       "      <td>0</td>\n",
       "      <td>hr</td>\n",
       "      <td>low</td>\n",
       "      <td>100.0</td>\n",
       "    </tr>\n",
       "    <tr>\n",
       "      <th>6594</th>\n",
       "      <td>0.98</td>\n",
       "      <td>0.98</td>\n",
       "      <td>M</td>\n",
       "      <td>5.0</td>\n",
       "      <td>259</td>\n",
       "      <td>2</td>\n",
       "      <td>0</td>\n",
       "      <td>0.0</td>\n",
       "      <td>0</td>\n",
       "      <td>hr</td>\n",
       "      <td>high</td>\n",
       "      <td>300.0</td>\n",
       "    </tr>\n",
       "    <tr>\n",
       "      <th>3467</th>\n",
       "      <td>0.98</td>\n",
       "      <td>0.68</td>\n",
       "      <td>M</td>\n",
       "      <td>4.0</td>\n",
       "      <td>203</td>\n",
       "      <td>3</td>\n",
       "      <td>0</td>\n",
       "      <td>0.0</td>\n",
       "      <td>0</td>\n",
       "      <td>hr</td>\n",
       "      <td>medium</td>\n",
       "      <td>200.0</td>\n",
       "    </tr>\n",
       "    <tr>\n",
       "      <th>3391</th>\n",
       "      <td>0.98</td>\n",
       "      <td>0.59</td>\n",
       "      <td>M</td>\n",
       "      <td>5.0</td>\n",
       "      <td>149</td>\n",
       "      <td>2</td>\n",
       "      <td>0</td>\n",
       "      <td>0.0</td>\n",
       "      <td>0</td>\n",
       "      <td>hr</td>\n",
       "      <td>medium</td>\n",
       "      <td>200.0</td>\n",
       "    </tr>\n",
       "    <tr>\n",
       "      <th>12927</th>\n",
       "      <td>0.98</td>\n",
       "      <td>0.91</td>\n",
       "      <td>M</td>\n",
       "      <td>4.0</td>\n",
       "      <td>165</td>\n",
       "      <td>2</td>\n",
       "      <td>1</td>\n",
       "      <td>0.0</td>\n",
       "      <td>0</td>\n",
       "      <td>hr</td>\n",
       "      <td>medium</td>\n",
       "      <td>200.0</td>\n",
       "    </tr>\n",
       "    <tr>\n",
       "      <th>6748</th>\n",
       "      <td>0.98</td>\n",
       "      <td>0.74</td>\n",
       "      <td>M</td>\n",
       "      <td>5.0</td>\n",
       "      <td>139</td>\n",
       "      <td>3</td>\n",
       "      <td>0</td>\n",
       "      <td>0.0</td>\n",
       "      <td>0</td>\n",
       "      <td>hr</td>\n",
       "      <td>medium</td>\n",
       "      <td>200.0</td>\n",
       "    </tr>\n",
       "    <tr>\n",
       "      <th>4154</th>\n",
       "      <td>0.98</td>\n",
       "      <td>0.66</td>\n",
       "      <td>M</td>\n",
       "      <td>4.0</td>\n",
       "      <td>150</td>\n",
       "      <td>3</td>\n",
       "      <td>0</td>\n",
       "      <td>0.0</td>\n",
       "      <td>0</td>\n",
       "      <td>hr</td>\n",
       "      <td>medium</td>\n",
       "      <td>200.0</td>\n",
       "    </tr>\n",
       "    <tr>\n",
       "      <th>7815</th>\n",
       "      <td>0.98</td>\n",
       "      <td>0.69</td>\n",
       "      <td>M</td>\n",
       "      <td>4.0</td>\n",
       "      <td>274</td>\n",
       "      <td>3</td>\n",
       "      <td>0</td>\n",
       "      <td>0.0</td>\n",
       "      <td>0</td>\n",
       "      <td>hr</td>\n",
       "      <td>low</td>\n",
       "      <td>100.0</td>\n",
       "    </tr>\n",
       "    <tr>\n",
       "      <th>4916</th>\n",
       "      <td>0.99</td>\n",
       "      <td>0.52</td>\n",
       "      <td>M</td>\n",
       "      <td>5.0</td>\n",
       "      <td>167</td>\n",
       "      <td>3</td>\n",
       "      <td>0</td>\n",
       "      <td>0.0</td>\n",
       "      <td>0</td>\n",
       "      <td>hr</td>\n",
       "      <td>low</td>\n",
       "      <td>100.0</td>\n",
       "    </tr>\n",
       "    <tr>\n",
       "      <th>2319</th>\n",
       "      <td>0.99</td>\n",
       "      <td>0.79</td>\n",
       "      <td>M</td>\n",
       "      <td>5.0</td>\n",
       "      <td>192</td>\n",
       "      <td>3</td>\n",
       "      <td>0</td>\n",
       "      <td>0.0</td>\n",
       "      <td>0</td>\n",
       "      <td>hr</td>\n",
       "      <td>low</td>\n",
       "      <td>100.0</td>\n",
       "    </tr>\n",
       "    <tr>\n",
       "      <th>9115</th>\n",
       "      <td>0.99</td>\n",
       "      <td>0.64</td>\n",
       "      <td>M</td>\n",
       "      <td>4.0</td>\n",
       "      <td>183</td>\n",
       "      <td>3</td>\n",
       "      <td>0</td>\n",
       "      <td>0.0</td>\n",
       "      <td>0</td>\n",
       "      <td>hr</td>\n",
       "      <td>medium</td>\n",
       "      <td>200.0</td>\n",
       "    </tr>\n",
       "    <tr>\n",
       "      <th>9343</th>\n",
       "      <td>0.99</td>\n",
       "      <td>0.92</td>\n",
       "      <td>M</td>\n",
       "      <td>6.0</td>\n",
       "      <td>213</td>\n",
       "      <td>2</td>\n",
       "      <td>0</td>\n",
       "      <td>0.0</td>\n",
       "      <td>0</td>\n",
       "      <td>hr</td>\n",
       "      <td>high</td>\n",
       "      <td>300.0</td>\n",
       "    </tr>\n",
       "    <tr>\n",
       "      <th>3619</th>\n",
       "      <td>0.99</td>\n",
       "      <td>0.49</td>\n",
       "      <td>M</td>\n",
       "      <td>5.0</td>\n",
       "      <td>270</td>\n",
       "      <td>2</td>\n",
       "      <td>0</td>\n",
       "      <td>0.0</td>\n",
       "      <td>0</td>\n",
       "      <td>hr</td>\n",
       "      <td>low</td>\n",
       "      <td>100.0</td>\n",
       "    </tr>\n",
       "    <tr>\n",
       "      <th>6063</th>\n",
       "      <td>0.99</td>\n",
       "      <td>0.77</td>\n",
       "      <td>M</td>\n",
       "      <td>4.0</td>\n",
       "      <td>190</td>\n",
       "      <td>4</td>\n",
       "      <td>0</td>\n",
       "      <td>0.0</td>\n",
       "      <td>0</td>\n",
       "      <td>hr</td>\n",
       "      <td>medium</td>\n",
       "      <td>200.0</td>\n",
       "    </tr>\n",
       "    <tr>\n",
       "      <th>8887</th>\n",
       "      <td>0.99</td>\n",
       "      <td>0.54</td>\n",
       "      <td>M</td>\n",
       "      <td>5.0</td>\n",
       "      <td>196</td>\n",
       "      <td>4</td>\n",
       "      <td>1</td>\n",
       "      <td>0.0</td>\n",
       "      <td>0</td>\n",
       "      <td>hr</td>\n",
       "      <td>high</td>\n",
       "      <td>300.0</td>\n",
       "    </tr>\n",
       "    <tr>\n",
       "      <th>2321</th>\n",
       "      <td>1.00</td>\n",
       "      <td>0.65</td>\n",
       "      <td>M</td>\n",
       "      <td>5.0</td>\n",
       "      <td>202</td>\n",
       "      <td>4</td>\n",
       "      <td>1</td>\n",
       "      <td>0.0</td>\n",
       "      <td>0</td>\n",
       "      <td>hr</td>\n",
       "      <td>low</td>\n",
       "      <td>100.0</td>\n",
       "    </tr>\n",
       "    <tr>\n",
       "      <th>6901</th>\n",
       "      <td>1.00</td>\n",
       "      <td>0.52</td>\n",
       "      <td>M</td>\n",
       "      <td>5.0</td>\n",
       "      <td>171</td>\n",
       "      <td>4</td>\n",
       "      <td>0</td>\n",
       "      <td>0.0</td>\n",
       "      <td>0</td>\n",
       "      <td>hr</td>\n",
       "      <td>medium</td>\n",
       "      <td>200.0</td>\n",
       "    </tr>\n",
       "    <tr>\n",
       "      <th>3468</th>\n",
       "      <td>1.00</td>\n",
       "      <td>0.79</td>\n",
       "      <td>M</td>\n",
       "      <td>6.0</td>\n",
       "      <td>152</td>\n",
       "      <td>4</td>\n",
       "      <td>0</td>\n",
       "      <td>0.0</td>\n",
       "      <td>0</td>\n",
       "      <td>hr</td>\n",
       "      <td>medium</td>\n",
       "      <td>200.0</td>\n",
       "    </tr>\n",
       "    <tr>\n",
       "      <th>4078</th>\n",
       "      <td>1.00</td>\n",
       "      <td>0.85</td>\n",
       "      <td>M</td>\n",
       "      <td>4.0</td>\n",
       "      <td>202</td>\n",
       "      <td>2</td>\n",
       "      <td>0</td>\n",
       "      <td>0.0</td>\n",
       "      <td>0</td>\n",
       "      <td>hr</td>\n",
       "      <td>medium</td>\n",
       "      <td>200.0</td>\n",
       "    </tr>\n",
       "    <tr>\n",
       "      <th>3161</th>\n",
       "      <td>1.00</td>\n",
       "      <td>0.59</td>\n",
       "      <td>M</td>\n",
       "      <td>5.0</td>\n",
       "      <td>174</td>\n",
       "      <td>3</td>\n",
       "      <td>0</td>\n",
       "      <td>0.0</td>\n",
       "      <td>0</td>\n",
       "      <td>hr</td>\n",
       "      <td>low</td>\n",
       "      <td>100.0</td>\n",
       "    </tr>\n",
       "  </tbody>\n",
       "</table>\n",
       "<p>474 rows × 12 columns</p>\n",
       "</div>"
      ],
      "text/plain": [
       "       nivel_de_satisfaccion  ultima_encuesta Sexo_empleado  \\\n",
       "9803                    0.51             0.58             M   \n",
       "3999                    0.51             0.95             M   \n",
       "5453                    0.51             0.88             M   \n",
       "5605                    0.51             0.82             M   \n",
       "9880                    0.51             0.50             M   \n",
       "6444                    0.51             0.75             M   \n",
       "7210                    0.51             0.89             M   \n",
       "7513                    0.51             0.51             M   \n",
       "7587                    0.51             0.87             M   \n",
       "2779                    0.51             0.81             M   \n",
       "7817                    0.51             0.53             M   \n",
       "6904                    0.52             0.62             M   \n",
       "7438                    0.52             0.70             M   \n",
       "8812                    0.52             0.92             M   \n",
       "4461                    0.52             0.63             M   \n",
       "7741                    0.52             0.96             M   \n",
       "5450                    0.52             0.90             M   \n",
       "12490                   0.53             0.56             M   \n",
       "3313                    0.53             0.73             M   \n",
       "2471                    0.53             0.69             M   \n",
       "8355                    0.53             0.78             M   \n",
       "2245                    0.53             0.75             M   \n",
       "4690                    0.53             0.76             M   \n",
       "5220                    0.53             0.50             M   \n",
       "490                     0.53             0.56             M   \n",
       "5833                    0.53             0.59             M   \n",
       "7588                    0.53             0.55             M   \n",
       "9652                    0.53             0.64             M   \n",
       "6138                    0.53             0.84             M   \n",
       "14701                   0.53             0.56             M   \n",
       "...                      ...              ...           ...   \n",
       "7361                    0.97             0.95             M   \n",
       "4765                    0.98             0.91             M   \n",
       "5760                    0.98             0.78             M   \n",
       "5987                    0.98             0.87             M   \n",
       "10716                   0.98             0.91             M   \n",
       "7437                    0.98             0.80             M   \n",
       "5143                    0.98             0.61             M   \n",
       "6140                    0.98             0.77             M   \n",
       "8962                    0.98             0.63             M   \n",
       "3923                    0.98             0.66             M   \n",
       "8430                    0.98             0.72             M   \n",
       "6594                    0.98             0.98             M   \n",
       "3467                    0.98             0.68             M   \n",
       "3391                    0.98             0.59             M   \n",
       "12927                   0.98             0.91             M   \n",
       "6748                    0.98             0.74             M   \n",
       "4154                    0.98             0.66             M   \n",
       "7815                    0.98             0.69             M   \n",
       "4916                    0.99             0.52             M   \n",
       "2319                    0.99             0.79             M   \n",
       "9115                    0.99             0.64             M   \n",
       "9343                    0.99             0.92             M   \n",
       "3619                    0.99             0.49             M   \n",
       "6063                    0.99             0.77             M   \n",
       "8887                    0.99             0.54             M   \n",
       "2321                    1.00             0.65             M   \n",
       "6901                    1.00             0.52             M   \n",
       "3468                    1.00             0.79             M   \n",
       "4078                    1.00             0.85             M   \n",
       "3161                    1.00             0.59             M   \n",
       "\n",
       "       numero_de_proyectos  media_horas_mes   horas_en_la_empresa  \\\n",
       "9803                   4.0               141                    3   \n",
       "3999                   5.0               258                    3   \n",
       "5453                   4.0               202                    4   \n",
       "5605                   4.0               206                    4   \n",
       "9880                   5.0               246                    3   \n",
       "6444                   5.0               175                    2   \n",
       "7210                   7.0               170                    4   \n",
       "7513                   6.0               222                    4   \n",
       "7587                   4.0               180                    4   \n",
       "2779                   4.0               143                    2   \n",
       "7817                   4.0               237                    3   \n",
       "6904                   4.0               160                    2   \n",
       "7438                   5.0               219                    3   \n",
       "8812                   6.0               280                    6   \n",
       "4461                   4.0               225                    3   \n",
       "7741                   5.0               125                    3   \n",
       "5450                   5.0               285                    2   \n",
       "12490                  5.0               281                    6   \n",
       "3313                   5.0               227                    3   \n",
       "2471                   5.0               216                    2   \n",
       "8355                   6.0               275                    5   \n",
       "2245                   7.0               192                    6   \n",
       "4690                   3.0               204                    4   \n",
       "5220                   5.0               185                    3   \n",
       "490                    5.0               281                    6   \n",
       "5833                   3.0               201                    3   \n",
       "7588                   6.0               224                    2   \n",
       "9652                   3.0               109                    3   \n",
       "6138                   5.0               219                    2   \n",
       "14701                  5.0               281                    6   \n",
       "...                    ...               ...                  ...   \n",
       "7361                   4.0               257                    2   \n",
       "4765                   5.0               273                    2   \n",
       "5760                   4.0               197                    2   \n",
       "5987                   4.0               246                    3   \n",
       "10716                  4.0               165                    2   \n",
       "7437                   4.0               166                    2   \n",
       "5143                   4.0               226                    2   \n",
       "6140                   5.0               184                    3   \n",
       "8962                   5.0               232                    2   \n",
       "3923                   4.0               154                    2   \n",
       "8430                   4.0               262                    4   \n",
       "6594                   5.0               259                    2   \n",
       "3467                   4.0               203                    3   \n",
       "3391                   5.0               149                    2   \n",
       "12927                  4.0               165                    2   \n",
       "6748                   5.0               139                    3   \n",
       "4154                   4.0               150                    3   \n",
       "7815                   4.0               274                    3   \n",
       "4916                   5.0               167                    3   \n",
       "2319                   5.0               192                    3   \n",
       "9115                   4.0               183                    3   \n",
       "9343                   6.0               213                    2   \n",
       "3619                   5.0               270                    2   \n",
       "6063                   4.0               190                    4   \n",
       "8887                   5.0               196                    4   \n",
       "2321                   5.0               202                    4   \n",
       "6901                   5.0               171                    4   \n",
       "3468                   6.0               152                    4   \n",
       "4078                   4.0               202                    2   \n",
       "3161                   5.0               174                    3   \n",
       "\n",
       "       accidente_de_trabajo  deja_la_empresa  promociona dep salario  \\\n",
       "9803                      0              0.0           0  hr     low   \n",
       "3999                      0              0.0           0  hr  medium   \n",
       "5453                      0              0.0           0  hr     low   \n",
       "5605                      0              0.0           0  hr  medium   \n",
       "9880                      0              0.0           0  hr     low   \n",
       "6444                      0              0.0           0  hr  medium   \n",
       "7210                      0              0.0           0  hr     low   \n",
       "7513                      0              0.0           0  hr     low   \n",
       "7587                      0              0.0           0  hr     low   \n",
       "2779                      0              0.0           0  hr     low   \n",
       "7817                      0              0.0           0  hr  medium   \n",
       "6904                      0              0.0           0  hr  medium   \n",
       "7438                      0              0.0           0  hr  medium   \n",
       "8812                      1              0.0           0  hr    high   \n",
       "4461                      0              0.0           0  hr  medium   \n",
       "7741                      0              0.0           0  hr     low   \n",
       "5450                      0              0.0           0  hr     low   \n",
       "12490                     0              1.0           0  hr  medium   \n",
       "3313                      0              0.0           0  hr  medium   \n",
       "2471                      0              0.0           0  hr     low   \n",
       "8355                      0              0.0           0  hr     low   \n",
       "2245                      0              0.0           0  hr  medium   \n",
       "4690                      0              0.0           0  hr    high   \n",
       "5220                      0              0.0           0  hr     low   \n",
       "490                       0              1.0           0  hr  medium   \n",
       "5833                      1              0.0           0  hr  medium   \n",
       "7588                      1              0.0           0  hr     low   \n",
       "9652                      0              0.0           0  hr  medium   \n",
       "6138                      0              0.0           0  hr    high   \n",
       "14701                     0              1.0           0  hr  medium   \n",
       "...                     ...              ...         ...  ..     ...   \n",
       "7361                      0              0.0           0  hr  medium   \n",
       "4765                      0              0.0           0  hr     low   \n",
       "5760                      0              0.0           0  hr     low   \n",
       "5987                      0              0.0           0  hr    high   \n",
       "10716                     1              0.0           0  hr  medium   \n",
       "7437                      0              0.0           0  hr  medium   \n",
       "5143                      0              0.0           0  hr     low   \n",
       "6140                      0              0.0           0  hr  medium   \n",
       "8962                      0              0.0           0  hr  medium   \n",
       "3923                      0              0.0           0  hr  medium   \n",
       "8430                      0              0.0           0  hr     low   \n",
       "6594                      0              0.0           0  hr    high   \n",
       "3467                      0              0.0           0  hr  medium   \n",
       "3391                      0              0.0           0  hr  medium   \n",
       "12927                     1              0.0           0  hr  medium   \n",
       "6748                      0              0.0           0  hr  medium   \n",
       "4154                      0              0.0           0  hr  medium   \n",
       "7815                      0              0.0           0  hr     low   \n",
       "4916                      0              0.0           0  hr     low   \n",
       "2319                      0              0.0           0  hr     low   \n",
       "9115                      0              0.0           0  hr  medium   \n",
       "9343                      0              0.0           0  hr    high   \n",
       "3619                      0              0.0           0  hr     low   \n",
       "6063                      0              0.0           0  hr  medium   \n",
       "8887                      1              0.0           0  hr    high   \n",
       "2321                      1              0.0           0  hr     low   \n",
       "6901                      0              0.0           0  hr  medium   \n",
       "3468                      0              0.0           0  hr  medium   \n",
       "4078                      0              0.0           0  hr  medium   \n",
       "3161                      0              0.0           0  hr     low   \n",
       "\n",
       "       salario €  \n",
       "9803       100.0  \n",
       "3999       200.0  \n",
       "5453       100.0  \n",
       "5605       200.0  \n",
       "9880       100.0  \n",
       "6444       200.0  \n",
       "7210       100.0  \n",
       "7513       100.0  \n",
       "7587       100.0  \n",
       "2779       100.0  \n",
       "7817       200.0  \n",
       "6904       200.0  \n",
       "7438       200.0  \n",
       "8812       300.0  \n",
       "4461       200.0  \n",
       "7741       100.0  \n",
       "5450       100.0  \n",
       "12490      200.0  \n",
       "3313       200.0  \n",
       "2471       100.0  \n",
       "8355       100.0  \n",
       "2245       200.0  \n",
       "4690       300.0  \n",
       "5220       100.0  \n",
       "490        200.0  \n",
       "5833       200.0  \n",
       "7588       100.0  \n",
       "9652       200.0  \n",
       "6138       300.0  \n",
       "14701      200.0  \n",
       "...          ...  \n",
       "7361       200.0  \n",
       "4765       100.0  \n",
       "5760       100.0  \n",
       "5987       300.0  \n",
       "10716      200.0  \n",
       "7437       200.0  \n",
       "5143       100.0  \n",
       "6140       200.0  \n",
       "8962       200.0  \n",
       "3923       200.0  \n",
       "8430       100.0  \n",
       "6594       300.0  \n",
       "3467       200.0  \n",
       "3391       200.0  \n",
       "12927      200.0  \n",
       "6748       200.0  \n",
       "4154       200.0  \n",
       "7815       100.0  \n",
       "4916       100.0  \n",
       "2319       100.0  \n",
       "9115       200.0  \n",
       "9343       300.0  \n",
       "3619       100.0  \n",
       "6063       200.0  \n",
       "8887       300.0  \n",
       "2321       100.0  \n",
       "6901       200.0  \n",
       "3468       200.0  \n",
       "4078       200.0  \n",
       "3161       100.0  \n",
       "\n",
       "[474 rows x 12 columns]"
      ]
     },
     "execution_count": 59,
     "metadata": {},
     "output_type": "execute_result"
    }
   ],
   "source": [
    "resultadoC2.sort_values(by = 'nivel_de_satisfaccion')"
   ]
  },
  {
   "cell_type": "markdown",
   "metadata": {},
   "source": [
    "##### 1.8.0.0.1 Ejercicios"
   ]
  },
  {
   "cell_type": "markdown",
   "metadata": {},
   "source": [
    "__* Selección de tuplas asociadas a empleados que han dejado la empresa y que tuvieron promoción en los últimos 5 años:__"
   ]
  },
  {
   "cell_type": "code",
   "execution_count": 60,
   "metadata": {
    "collapsed": false
   },
   "outputs": [],
   "source": [
    "# Solución\n"
   ]
  },
  {
   "cell_type": "markdown",
   "metadata": {},
   "source": [
    "##### 1.8.0.0.2 Ejercicios"
   ]
  },
  {
   "cell_type": "markdown",
   "metadata": {},
   "source": [
    "__* Selección de los géneros de las películas__:\n",
    "* `Waiting to Exhale (1995)`\n",
    "* `Lovers, The (Amants, Les) (1958)`"
   ]
  },
  {
   "cell_type": "code",
   "execution_count": 61,
   "metadata": {
    "collapsed": false
   },
   "outputs": [],
   "source": [
    "# Solución\n"
   ]
  },
  {
   "cell_type": "markdown",
   "metadata": {},
   "source": [
    "## 1.9 Grupos y funciones de agrupación"
   ]
  },
  {
   "cell_type": "markdown",
   "metadata": {},
   "source": [
    "Después de cargar los datos y procesarlos (limpiar y preparar) una de las tareas más habituales es agrupar los datos en base a alguna variable cualitativa, para posteriormente realizar alguna operación sobre cada uno de los grupos obtenidos.\n",
    "\n",
    "Pandas proporciona la operación __groupby__ para este fin. La operación __groupgy__ se define como la unión de tres procesos (dividir-aplicar-combinar los resultados)."
   ]
  },
  {
   "cell_type": "markdown",
   "metadata": {},
   "source": [
    "__Ejemplo:__\n",
    "\n",
    "El fichero [tips.csv](./datos/tips.csv) recoge los datos referentes a las reservas de un restaurante. Muestra los datos del precio de la factura, la propina, sexo de la persona que hizo la reserva, el día, el número de comensales, etc."
   ]
  },
  {
   "cell_type": "code",
   "execution_count": 62,
   "metadata": {
    "collapsed": false
   },
   "outputs": [
    {
     "data": {
      "text/html": [
       "<div>\n",
       "<table border=\"1\" class=\"dataframe\">\n",
       "  <thead>\n",
       "    <tr style=\"text-align: right;\">\n",
       "      <th></th>\n",
       "      <th>Importe_Factura</th>\n",
       "      <th>Propina</th>\n",
       "      <th>Sexo</th>\n",
       "      <th>Fumador</th>\n",
       "      <th>Dia</th>\n",
       "      <th>Tipo</th>\n",
       "      <th>Comensales</th>\n",
       "    </tr>\n",
       "  </thead>\n",
       "  <tbody>\n",
       "    <tr>\n",
       "      <th>0</th>\n",
       "      <td>16.99</td>\n",
       "      <td>1.01</td>\n",
       "      <td>Female</td>\n",
       "      <td>No</td>\n",
       "      <td>Sun</td>\n",
       "      <td>Dinner</td>\n",
       "      <td>2</td>\n",
       "    </tr>\n",
       "    <tr>\n",
       "      <th>1</th>\n",
       "      <td>10.34</td>\n",
       "      <td>1.66</td>\n",
       "      <td>Male</td>\n",
       "      <td>No</td>\n",
       "      <td>Sun</td>\n",
       "      <td>Dinner</td>\n",
       "      <td>3</td>\n",
       "    </tr>\n",
       "    <tr>\n",
       "      <th>2</th>\n",
       "      <td>21.01</td>\n",
       "      <td>3.50</td>\n",
       "      <td>Male</td>\n",
       "      <td>No</td>\n",
       "      <td>Sun</td>\n",
       "      <td>Dinner</td>\n",
       "      <td>3</td>\n",
       "    </tr>\n",
       "    <tr>\n",
       "      <th>3</th>\n",
       "      <td>23.68</td>\n",
       "      <td>3.31</td>\n",
       "      <td>Male</td>\n",
       "      <td>No</td>\n",
       "      <td>Sun</td>\n",
       "      <td>Dinner</td>\n",
       "      <td>2</td>\n",
       "    </tr>\n",
       "    <tr>\n",
       "      <th>4</th>\n",
       "      <td>24.59</td>\n",
       "      <td>3.61</td>\n",
       "      <td>Female</td>\n",
       "      <td>No</td>\n",
       "      <td>Sun</td>\n",
       "      <td>Dinner</td>\n",
       "      <td>4</td>\n",
       "    </tr>\n",
       "  </tbody>\n",
       "</table>\n",
       "</div>"
      ],
      "text/plain": [
       "   Importe_Factura  Propina    Sexo Fumador  Dia    Tipo  Comensales\n",
       "0            16.99     1.01  Female      No  Sun  Dinner           2\n",
       "1            10.34     1.66    Male      No  Sun  Dinner           3\n",
       "2            21.01     3.50    Male      No  Sun  Dinner           3\n",
       "3            23.68     3.31    Male      No  Sun  Dinner           2\n",
       "4            24.59     3.61  Female      No  Sun  Dinner           4"
      ]
     },
     "execution_count": 62,
     "metadata": {},
     "output_type": "execute_result"
    }
   ],
   "source": [
    "tips = pd.read_csv('./datos/tips.csv',\n",
    "                   skiprows = 1,\n",
    "                   names = ['Importe_Factura', 'Propina', 'Sexo', 'Fumador', 'Dia',\n",
    "                              'Tipo', 'Comensales']\n",
    "                          )\n",
    "tips.head()"
   ]
  },
  {
   "cell_type": "markdown",
   "metadata": {},
   "source": [
    "Deseamos conocer la media del importe de factura dependiendo del sexo y de si el cliente en fumador o no."
   ]
  },
  {
   "cell_type": "code",
   "execution_count": 63,
   "metadata": {
    "collapsed": false
   },
   "outputs": [
    {
     "data": {
      "text/html": [
       "<div>\n",
       "<table border=\"1\" class=\"dataframe\">\n",
       "  <thead>\n",
       "    <tr style=\"text-align: right;\">\n",
       "      <th></th>\n",
       "      <th></th>\n",
       "      <th>Importe_Factura</th>\n",
       "      <th>Propina</th>\n",
       "      <th>Comensales</th>\n",
       "    </tr>\n",
       "    <tr>\n",
       "      <th>Sexo</th>\n",
       "      <th>Fumador</th>\n",
       "      <th></th>\n",
       "      <th></th>\n",
       "      <th></th>\n",
       "    </tr>\n",
       "  </thead>\n",
       "  <tbody>\n",
       "    <tr>\n",
       "      <th rowspan=\"2\" valign=\"top\">Female</th>\n",
       "      <th>No</th>\n",
       "      <td>18.105185</td>\n",
       "      <td>2.773519</td>\n",
       "      <td>2.592593</td>\n",
       "    </tr>\n",
       "    <tr>\n",
       "      <th>Yes</th>\n",
       "      <td>17.977879</td>\n",
       "      <td>2.931515</td>\n",
       "      <td>2.242424</td>\n",
       "    </tr>\n",
       "    <tr>\n",
       "      <th rowspan=\"2\" valign=\"top\">Male</th>\n",
       "      <th>No</th>\n",
       "      <td>19.791237</td>\n",
       "      <td>3.113402</td>\n",
       "      <td>2.711340</td>\n",
       "    </tr>\n",
       "    <tr>\n",
       "      <th>Yes</th>\n",
       "      <td>22.284500</td>\n",
       "      <td>3.051167</td>\n",
       "      <td>2.500000</td>\n",
       "    </tr>\n",
       "  </tbody>\n",
       "</table>\n",
       "</div>"
      ],
      "text/plain": [
       "                Importe_Factura   Propina  Comensales\n",
       "Sexo   Fumador                                       \n",
       "Female No             18.105185  2.773519    2.592593\n",
       "       Yes            17.977879  2.931515    2.242424\n",
       "Male   No             19.791237  3.113402    2.711340\n",
       "       Yes            22.284500  3.051167    2.500000"
      ]
     },
     "execution_count": 63,
     "metadata": {},
     "output_type": "execute_result"
    }
   ],
   "source": [
    "tips_g = tips.groupby(['Sexo','Fumador']).mean()\n",
    "tips_g"
   ]
  },
  {
   "cell_type": "code",
   "execution_count": 64,
   "metadata": {
    "collapsed": false
   },
   "outputs": [
    {
     "data": {
      "text/plain": [
       "<matplotlib.axes._subplots.AxesSubplot at 0x16a31ef4320>"
      ]
     },
     "execution_count": 64,
     "metadata": {},
     "output_type": "execute_result"
    },
    {
     "data": {
      "image/png": "[encoded data removed]",
      "text/plain": [
       "<matplotlib.figure.Figure at 0x16a31ef59e8>"
      ]
     },
     "metadata": {},
     "output_type": "display_data"
    }
   ],
   "source": [
    "tips_g.plot(kind = 'bar')"
   ]
  },
  {
   "cell_type": "markdown",
   "metadata": {},
   "source": [
    "##### 1.9.0.0.1 Ejercicios"
   ]
  },
  {
   "cell_type": "markdown",
   "metadata": {},
   "source": [
    "__* ¿Qué valores posibles toman las variable `Tipo` y `Dia`?__"
   ]
  },
  {
   "cell_type": "code",
   "execution_count": 65,
   "metadata": {
    "collapsed": false
   },
   "outputs": [],
   "source": [
    "# Sol\n"
   ]
  },
  {
   "cell_type": "markdown",
   "metadata": {},
   "source": [
    "__* Calcular el total facturado por tipo y día de la semana:__"
   ]
  },
  {
   "cell_type": "code",
   "execution_count": 66,
   "metadata": {
    "collapsed": false
   },
   "outputs": [],
   "source": [
    "# Sol\n"
   ]
  },
  {
   "cell_type": "markdown",
   "metadata": {},
   "source": [
    "__Ejemplo:__\n",
    "    \n",
    "Agrupando con funciones:    "
   ]
  },
  {
   "cell_type": "code",
   "execution_count": 67,
   "metadata": {
    "collapsed": false
   },
   "outputs": [
    {
     "data": {
      "text/html": [
       "<div>\n",
       "<table border=\"1\" class=\"dataframe\">\n",
       "  <thead>\n",
       "    <tr style=\"text-align: right;\">\n",
       "      <th></th>\n",
       "      <th>UserID</th>\n",
       "      <th>MovieID</th>\n",
       "      <th>Tag</th>\n",
       "    </tr>\n",
       "    <tr>\n",
       "      <th>Timestamp</th>\n",
       "      <th></th>\n",
       "      <th></th>\n",
       "      <th></th>\n",
       "    </tr>\n",
       "  </thead>\n",
       "  <tbody>\n",
       "    <tr>\n",
       "      <th>2008-07-04 17:17:10</th>\n",
       "      <td>15</td>\n",
       "      <td>4973</td>\n",
       "      <td>excellent!</td>\n",
       "    </tr>\n",
       "    <tr>\n",
       "      <th>2007-08-28 03:17:47</th>\n",
       "      <td>20</td>\n",
       "      <td>1747</td>\n",
       "      <td>politics</td>\n",
       "    </tr>\n",
       "    <tr>\n",
       "      <th>2007-08-28 03:17:47</th>\n",
       "      <td>20</td>\n",
       "      <td>1747</td>\n",
       "      <td>satire</td>\n",
       "    </tr>\n",
       "    <tr>\n",
       "      <th>2007-08-28 03:17:15</th>\n",
       "      <td>20</td>\n",
       "      <td>2424</td>\n",
       "      <td>chick flick 212</td>\n",
       "    </tr>\n",
       "    <tr>\n",
       "      <th>2007-08-28 03:17:15</th>\n",
       "      <td>20</td>\n",
       "      <td>2424</td>\n",
       "      <td>hanks</td>\n",
       "    </tr>\n",
       "  </tbody>\n",
       "</table>\n",
       "</div>"
      ],
      "text/plain": [
       "                     UserID  MovieID              Tag\n",
       "Timestamp                                            \n",
       "2008-07-04 17:17:10      15     4973       excellent!\n",
       "2007-08-28 03:17:47      20     1747         politics\n",
       "2007-08-28 03:17:47      20     1747           satire\n",
       "2007-08-28 03:17:15      20     2424  chick flick 212\n",
       "2007-08-28 03:17:15      20     2424            hanks"
      ]
     },
     "execution_count": 67,
     "metadata": {},
     "output_type": "execute_result"
    }
   ],
   "source": [
    "df_tags = pd.read_csv(ruta_tags, sep = '::', header = None,\n",
    "                        engine ='python',\n",
    "                        names = ['UserID','MovieID','Tag','Timestamp'], \n",
    "                        parse_dates=[3], date_parser=dateparse, \n",
    "                        index_col = [3])\n",
    "df_tags.head()"
   ]
  },
  {
   "cell_type": "code",
   "execution_count": 68,
   "metadata": {
    "collapsed": false
   },
   "outputs": [
    {
     "data": {
      "text/plain": [
       "0    13515\n",
       "1    14709\n",
       "2    13133\n",
       "3    11700\n",
       "4    14477\n",
       "5    14176\n",
       "6    13870\n",
       "Name: UserID, dtype: int64"
      ]
     },
     "execution_count": 68,
     "metadata": {},
     "output_type": "execute_result"
    }
   ],
   "source": [
    "from datetime import datetime, date, time\n",
    "\n",
    "def calcular_dia(f):\n",
    "    return f.weekday()    # devuelve el día de la semana\n",
    "\n",
    "# calculamos el número de tags realizados en cada día de la semana\n",
    "# agrupar + aplicar + combinar\n",
    "df_tags.groupby(calcular_dia).UserID.count() "
   ]
  },
  {
   "cell_type": "markdown",
   "metadata": {},
   "source": [
    "## 1.10 Primeros estadísticos"
   ]
  },
  {
   "cell_type": "markdown",
   "metadata": {},
   "source": [
    "La librería __Pandas__ ofrece una colección de operaciones estadísticas basadas en las mismas operaciones  de la librería Numpy. En el caso de pandas, todas ellas ignoran los valores NaN.\n",
    "\n",
    ">  ![loc](./images/statics.png \"funciones estadísticas\") "
   ]
  },
  {
   "cell_type": "code",
   "execution_count": 69,
   "metadata": {
    "collapsed": false
   },
   "outputs": [
    {
     "data": {
      "text/plain": [
       "nivel_de_satisfaccion      0.612834\n",
       "ultima_encuesta            0.716102\n",
       "numero_de_proyectos        4.803174\n",
       "media_horas_mes          201.050337\n",
       "horas_en_la_empresa        3.498233\n",
       "accidente_de_trabajo       0.144610\n",
       "deja_la_empresa            0.238032\n",
       "promociona                 0.021268\n",
       "salario €                159.478562\n",
       "dtype: float64"
      ]
     },
     "execution_count": 69,
     "metadata": {},
     "output_type": "execute_result"
    }
   ],
   "source": [
    "tabla.mean()"
   ]
  },
  {
   "cell_type": "code",
   "execution_count": 70,
   "metadata": {
    "collapsed": false
   },
   "outputs": [
    {
     "data": {
      "text/plain": [
       "3570.0"
      ]
     },
     "execution_count": 70,
     "metadata": {},
     "output_type": "execute_result"
    }
   ],
   "source": [
    "# número de empleados que han dejado la empresa\n",
    "tabla['deja_la_empresa'].sum()"
   ]
  },
  {
   "cell_type": "code",
   "execution_count": 71,
   "metadata": {
    "collapsed": false
   },
   "outputs": [
    {
     "data": {
      "text/plain": [
       "0.2486306510611418"
      ]
     },
     "execution_count": 71,
     "metadata": {},
     "output_type": "execute_result"
    }
   ],
   "source": [
    "# desviación\n",
    "tabla['nivel_de_satisfaccion'].std()"
   ]
  },
  {
   "cell_type": "markdown",
   "metadata": {},
   "source": [
    "##### 1.10.0.0.1 Ejercicio"
   ]
  },
  {
   "cell_type": "markdown",
   "metadata": {},
   "source": [
    "__* Calcula el mínimo nivel de satisfacción de los empleado de salario high:__"
   ]
  },
  {
   "cell_type": "code",
   "execution_count": 72,
   "metadata": {
    "collapsed": false
   },
   "outputs": [],
   "source": [
    "# Solucion\n"
   ]
  },
  {
   "cell_type": "markdown",
   "metadata": {},
   "source": [
    "### 1.10.1 Matriz de correlación"
   ]
  },
  {
   "cell_type": "markdown",
   "metadata": {},
   "source": [
    "Cargamos de nuevo la tabla:"
   ]
  },
  {
   "cell_type": "code",
   "execution_count": 73,
   "metadata": {
    "collapsed": false
   },
   "outputs": [
    {
     "data": {
      "text/html": [
       "<div>\n",
       "<table border=\"1\" class=\"dataframe\">\n",
       "  <thead>\n",
       "    <tr style=\"text-align: right;\">\n",
       "      <th></th>\n",
       "      <th>nivel_de_satisfaccion</th>\n",
       "      <th>ultima_encuesta</th>\n",
       "      <th>numero_de_proyectos</th>\n",
       "      <th>media_horas_mes</th>\n",
       "      <th>horas_en_la_empresa</th>\n",
       "      <th>accidente_de_trabajo</th>\n",
       "      <th>deja_la_empresa</th>\n",
       "      <th>promociona</th>\n",
       "      <th>dep</th>\n",
       "      <th>salario</th>\n",
       "    </tr>\n",
       "  </thead>\n",
       "  <tbody>\n",
       "    <tr>\n",
       "      <th>0</th>\n",
       "      <td>0.38</td>\n",
       "      <td>0.53</td>\n",
       "      <td>2.0</td>\n",
       "      <td>157</td>\n",
       "      <td>3</td>\n",
       "      <td>0</td>\n",
       "      <td>1.0</td>\n",
       "      <td>0</td>\n",
       "      <td>sales</td>\n",
       "      <td>low</td>\n",
       "    </tr>\n",
       "    <tr>\n",
       "      <th>1</th>\n",
       "      <td>0.80</td>\n",
       "      <td>0.86</td>\n",
       "      <td>5.0</td>\n",
       "      <td>262</td>\n",
       "      <td>6</td>\n",
       "      <td>0</td>\n",
       "      <td>1.0</td>\n",
       "      <td>0</td>\n",
       "      <td>sales</td>\n",
       "      <td>medium</td>\n",
       "    </tr>\n",
       "    <tr>\n",
       "      <th>2</th>\n",
       "      <td>0.11</td>\n",
       "      <td>0.88</td>\n",
       "      <td>7.0</td>\n",
       "      <td>272</td>\n",
       "      <td>4</td>\n",
       "      <td>0</td>\n",
       "      <td>1.0</td>\n",
       "      <td>0</td>\n",
       "      <td>NaN</td>\n",
       "      <td>medium</td>\n",
       "    </tr>\n",
       "  </tbody>\n",
       "</table>\n",
       "</div>"
      ],
      "text/plain": [
       "   nivel_de_satisfaccion  ultima_encuesta  numero_de_proyectos  \\\n",
       "0                   0.38             0.53                  2.0   \n",
       "1                   0.80             0.86                  5.0   \n",
       "2                   0.11             0.88                  7.0   \n",
       "\n",
       "   media_horas_mes   horas_en_la_empresa  accidente_de_trabajo  \\\n",
       "0               157                    3                     0   \n",
       "1               262                    6                     0   \n",
       "2               272                    4                     0   \n",
       "\n",
       "   deja_la_empresa  promociona    dep salario  \n",
       "0              1.0           0  sales     low  \n",
       "1              1.0           0  sales  medium  \n",
       "2              1.0           0    NaN  medium  "
      ]
     },
     "execution_count": 73,
     "metadata": {},
     "output_type": "execute_result"
    }
   ],
   "source": [
    "tabla = pd.read_csv('./datos/HR_comma.csv')\n",
    "tabla.head(3)    # muestro solo las 6 primeras entradas"
   ]
  },
  {
   "cell_type": "code",
   "execution_count": 74,
   "metadata": {
    "collapsed": false
   },
   "outputs": [
    {
     "data": {
      "text/html": [
       "<div>\n",
       "<table border=\"1\" class=\"dataframe\">\n",
       "  <thead>\n",
       "    <tr style=\"text-align: right;\">\n",
       "      <th></th>\n",
       "      <th>nivel_de_satisfaccion</th>\n",
       "      <th>ultima_encuesta</th>\n",
       "      <th>numero_de_proyectos</th>\n",
       "      <th>media_horas_mes</th>\n",
       "      <th>horas_en_la_empresa</th>\n",
       "      <th>accidente_de_trabajo</th>\n",
       "      <th>deja_la_empresa</th>\n",
       "      <th>promociona</th>\n",
       "    </tr>\n",
       "  </thead>\n",
       "  <tbody>\n",
       "    <tr>\n",
       "      <th>nivel_de_satisfaccion</th>\n",
       "      <td>1.000000</td>\n",
       "      <td>0.105021</td>\n",
       "      <td>-0.143080</td>\n",
       "      <td>-0.020048</td>\n",
       "      <td>-0.100866</td>\n",
       "      <td>0.058697</td>\n",
       "      <td>-0.388316</td>\n",
       "      <td>0.025605</td>\n",
       "    </tr>\n",
       "    <tr>\n",
       "      <th>ultima_encuesta</th>\n",
       "      <td>0.105021</td>\n",
       "      <td>1.000000</td>\n",
       "      <td>0.349261</td>\n",
       "      <td>0.339742</td>\n",
       "      <td>0.131591</td>\n",
       "      <td>-0.007104</td>\n",
       "      <td>0.006684</td>\n",
       "      <td>-0.008684</td>\n",
       "    </tr>\n",
       "    <tr>\n",
       "      <th>numero_de_proyectos</th>\n",
       "      <td>-0.143080</td>\n",
       "      <td>0.349261</td>\n",
       "      <td>1.000000</td>\n",
       "      <td>0.417168</td>\n",
       "      <td>0.196767</td>\n",
       "      <td>-0.004781</td>\n",
       "      <td>0.024145</td>\n",
       "      <td>-0.006079</td>\n",
       "    </tr>\n",
       "    <tr>\n",
       "      <th>media_horas_mes</th>\n",
       "      <td>-0.020048</td>\n",
       "      <td>0.339742</td>\n",
       "      <td>0.417168</td>\n",
       "      <td>1.000000</td>\n",
       "      <td>0.127755</td>\n",
       "      <td>-0.010143</td>\n",
       "      <td>0.071427</td>\n",
       "      <td>-0.003544</td>\n",
       "    </tr>\n",
       "    <tr>\n",
       "      <th>horas_en_la_empresa</th>\n",
       "      <td>-0.100866</td>\n",
       "      <td>0.131591</td>\n",
       "      <td>0.196767</td>\n",
       "      <td>0.127755</td>\n",
       "      <td>1.000000</td>\n",
       "      <td>0.002120</td>\n",
       "      <td>0.144879</td>\n",
       "      <td>0.067433</td>\n",
       "    </tr>\n",
       "    <tr>\n",
       "      <th>accidente_de_trabajo</th>\n",
       "      <td>0.058697</td>\n",
       "      <td>-0.007104</td>\n",
       "      <td>-0.004781</td>\n",
       "      <td>-0.010143</td>\n",
       "      <td>0.002120</td>\n",
       "      <td>1.000000</td>\n",
       "      <td>-0.154590</td>\n",
       "      <td>0.039245</td>\n",
       "    </tr>\n",
       "    <tr>\n",
       "      <th>deja_la_empresa</th>\n",
       "      <td>-0.388316</td>\n",
       "      <td>0.006684</td>\n",
       "      <td>0.024145</td>\n",
       "      <td>0.071427</td>\n",
       "      <td>0.144879</td>\n",
       "      <td>-0.154590</td>\n",
       "      <td>1.000000</td>\n",
       "      <td>-0.061777</td>\n",
       "    </tr>\n",
       "    <tr>\n",
       "      <th>promociona</th>\n",
       "      <td>0.025605</td>\n",
       "      <td>-0.008684</td>\n",
       "      <td>-0.006079</td>\n",
       "      <td>-0.003544</td>\n",
       "      <td>0.067433</td>\n",
       "      <td>0.039245</td>\n",
       "      <td>-0.061777</td>\n",
       "      <td>1.000000</td>\n",
       "    </tr>\n",
       "  </tbody>\n",
       "</table>\n",
       "</div>"
      ],
      "text/plain": [
       "                       nivel_de_satisfaccion  ultima_encuesta  \\\n",
       "nivel_de_satisfaccion               1.000000         0.105021   \n",
       "ultima_encuesta                     0.105021         1.000000   \n",
       "numero_de_proyectos                -0.143080         0.349261   \n",
       "media_horas_mes                    -0.020048         0.339742   \n",
       "horas_en_la_empresa                -0.100866         0.131591   \n",
       "accidente_de_trabajo                0.058697        -0.007104   \n",
       "deja_la_empresa                    -0.388316         0.006684   \n",
       "promociona                          0.025605        -0.008684   \n",
       "\n",
       "                       numero_de_proyectos  media_horas_mes   \\\n",
       "nivel_de_satisfaccion            -0.143080         -0.020048   \n",
       "ultima_encuesta                   0.349261          0.339742   \n",
       "numero_de_proyectos               1.000000          0.417168   \n",
       "media_horas_mes                   0.417168          1.000000   \n",
       "horas_en_la_empresa               0.196767          0.127755   \n",
       "accidente_de_trabajo             -0.004781         -0.010143   \n",
       "deja_la_empresa                   0.024145          0.071427   \n",
       "promociona                       -0.006079         -0.003544   \n",
       "\n",
       "                       horas_en_la_empresa  accidente_de_trabajo  \\\n",
       "nivel_de_satisfaccion            -0.100866              0.058697   \n",
       "ultima_encuesta                   0.131591             -0.007104   \n",
       "numero_de_proyectos               0.196767             -0.004781   \n",
       "media_horas_mes                   0.127755             -0.010143   \n",
       "horas_en_la_empresa               1.000000              0.002120   \n",
       "accidente_de_trabajo              0.002120              1.000000   \n",
       "deja_la_empresa                   0.144879             -0.154590   \n",
       "promociona                        0.067433              0.039245   \n",
       "\n",
       "                       deja_la_empresa  promociona  \n",
       "nivel_de_satisfaccion        -0.388316    0.025605  \n",
       "ultima_encuesta               0.006684   -0.008684  \n",
       "numero_de_proyectos           0.024145   -0.006079  \n",
       "media_horas_mes               0.071427   -0.003544  \n",
       "horas_en_la_empresa           0.144879    0.067433  \n",
       "accidente_de_trabajo         -0.154590    0.039245  \n",
       "deja_la_empresa               1.000000   -0.061777  \n",
       "promociona                   -0.061777    1.000000  "
      ]
     },
     "execution_count": 74,
     "metadata": {},
     "output_type": "execute_result"
    }
   ],
   "source": [
    "# Matriz de correlación\n",
    "corrmat = tabla.corr()\n",
    "corrmat"
   ]
  },
  {
   "cell_type": "code",
   "execution_count": 75,
   "metadata": {
    "collapsed": false
   },
   "outputs": [
    {
     "data": {
      "text/plain": [
       "<matplotlib.text.Text at 0x16a32224550>"
      ]
     },
     "execution_count": 75,
     "metadata": {},
     "output_type": "execute_result"
    },
    {
     "data": {
      "image/png": "[encoded data removed]",
      "text/plain": [
       "<matplotlib.figure.Figure at 0x16a349bf710>"
      ]
     },
     "metadata": {},
     "output_type": "display_data"
    }
   ],
   "source": [
    "import seaborn as sns    # visualización\n",
    "\n",
    "f, ax = plt.subplots(figsize=(4, 3))\n",
    "\n",
    "# mapa de calor \n",
    "sns.heatmap(corrmat, vmax=.8, square=True);\n",
    "ax.set_title('Correlación entre las variables')"
   ]
  },
  {
   "cell_type": "markdown",
   "metadata": {},
   "source": [
    "Podemos visualizar la matriz de correlación por salarios. Para ello lo que hacemos es dividir los datos en tres partes:\n",
    "* los datos de los empleados con salario `low`\n",
    "* los datos de los empleados con salario `medium`\n",
    "* los datos de los empleados con salario `high`"
   ]
  },
  {
   "cell_type": "code",
   "execution_count": 76,
   "metadata": {
    "collapsed": false
   },
   "outputs": [
    {
     "data": {
      "text/plain": [
       "7314"
      ]
     },
     "execution_count": 76,
     "metadata": {},
     "output_type": "execute_result"
    }
   ],
   "source": [
    "# datos de los empleados con salario `low`\n",
    "mascara_low = tabla['salario'] == 'low'\n",
    "mascara_low\n",
    "salario_low = tabla[mascara_low]\n",
    "len(salario_low)"
   ]
  },
  {
   "cell_type": "code",
   "execution_count": 77,
   "metadata": {
    "collapsed": false
   },
   "outputs": [
    {
     "data": {
      "text/plain": [
       "6446"
      ]
     },
     "execution_count": 77,
     "metadata": {},
     "output_type": "execute_result"
    }
   ],
   "source": [
    "# datos de los empleados con salario `medium`\n",
    "mascara_medium = tabla['salario'] == 'medium'\n",
    "mascara_medium\n",
    "salario_medium = tabla[mascara_medium]\n",
    "len(salario_medium)"
   ]
  },
  {
   "cell_type": "code",
   "execution_count": 78,
   "metadata": {
    "collapsed": false
   },
   "outputs": [
    {
     "data": {
      "text/plain": [
       "1237"
      ]
     },
     "execution_count": 78,
     "metadata": {},
     "output_type": "execute_result"
    }
   ],
   "source": [
    "# datos de los empleados con salario `high`\n",
    "mascara_high = tabla['salario'] == 'high'\n",
    "mascara_high\n",
    "salario_high = tabla[mascara_high]\n",
    "len(salario_high)"
   ]
  },
  {
   "cell_type": "code",
   "execution_count": 79,
   "metadata": {
    "collapsed": true
   },
   "outputs": [],
   "source": [
    "corrmat_low = salario_low.corr()\n",
    "corrmat_medium = salario_medium.corr()\n",
    "corrmat_high = salario_high.corr()"
   ]
  },
  {
   "cell_type": "code",
   "execution_count": 80,
   "metadata": {
    "collapsed": false
   },
   "outputs": [
    {
     "data": {
      "image/png": "[encoded data removed]",
      "text/plain": [
       "<matplotlib.figure.Figure at 0x16a3224d198>"
      ]
     },
     "metadata": {},
     "output_type": "display_data"
    }
   ],
   "source": [
    "# mapa de calor \n",
    "f, ax = plt.subplots(figsize=(7, 2.5))\n",
    "ax = sns.heatmap(corrmat_low, vmax=.7, square=False, annot=True, fmt='.1f');\n",
    "ax.set_title('Correlación - Empleados con salario \"low\"');"
   ]
  },
  {
   "cell_type": "code",
   "execution_count": 81,
   "metadata": {
    "collapsed": false
   },
   "outputs": [
    {
     "data": {
      "image/png": "[encoded data removed]",
      "text/plain": [
       "<matplotlib.figure.Figure at 0x16a322e4630>"
      ]
     },
     "metadata": {},
     "output_type": "display_data"
    }
   ],
   "source": [
    "# mapa de calor \n",
    "f, ax = plt.subplots(figsize=(7, 2.5))\n",
    "ax = sns.heatmap(corrmat_high, vmax=.7, square=False, annot=True, fmt='.2f')\n",
    "ax.set_title('Correlación - Empleados con salario \"high\"');"
   ]
  },
  {
   "cell_type": "markdown",
   "metadata": {},
   "source": [
    "# 2. Scikit-learn"
   ]
  },
  {
   "cell_type": "markdown",
   "metadata": {},
   "source": [
    "__Scikit-learn__ es una librería que incluye la implementación de un gran número de algoritmos de apredizaje, siendo básica para trabajar con __ML__.\n",
    "\n",
    "La podemos utilizar para realizar _clasificaciones_, _extraccion de características_, _regresiones_, _agrupaciones_, _reducción de dimensiones_, _selección de modelos_ o _preprocesamiento_.\n",
    "\n",
    "Esta librería también nos facilita las tareas de evaluación, diagnostico y validaciones cruzadas ya que nos proporciona varios métodos de fábrica para poder realizar estas tareas de forma muy simple."
   ]
  },
  {
   "cell_type": "markdown",
   "metadata": {},
   "source": [
    "__¿Se puede predecir la característica `deja_la_empresa` a partir del resto de los datos?__\n",
    "\n",
    "`deja_la_empres` = 1"
   ]
  },
  {
   "cell_type": "code",
   "execution_count": 82,
   "metadata": {
    "collapsed": false
   },
   "outputs": [
    {
     "name": "stderr",
     "output_type": "stream",
     "text": [
      "C:\\Users\\Yoli\\Anaconda3\\lib\\site-packages\\sklearn\\cross_validation.py:44: DeprecationWarning: This module was deprecated in version 0.18 in favor of the model_selection module into which all the refactored classes and functions are moved. Also note that the interface of the new CV iterators are different from that of this module. This module will be removed in 0.20.\n",
      "  \"This module will be removed in 0.20.\", DeprecationWarning)\n"
     ]
    }
   ],
   "source": [
    "\n",
    "from sklearn.preprocessing import LabelEncoder\n",
    "# from   sklearn.model_selection import train_test_split \n",
    "# sustituye a cross_validation en la versión 0.20\n",
    "from sklearn.cross_validation import train_test_split         \n",
    "# importando el modelo de regresión logística\n",
    "\n",
    "\n",
    "#from sklearn.calibration import CalibratedClassifierCV\n",
    "#from sklearn.feature_selection import SelectFromModel;"
   ]
  },
  {
   "cell_type": "markdown",
   "metadata": {},
   "source": [
    "Lo primero que hacemos es convertir las variables categóricas en variables indicadoras. Lo hacemos mediante la función __get_dummies()__."
   ]
  },
  {
   "cell_type": "code",
   "execution_count": 83,
   "metadata": {
    "collapsed": false
   },
   "outputs": [
    {
     "data": {
      "text/html": [
       "<div>\n",
       "<table border=\"1\" class=\"dataframe\">\n",
       "  <thead>\n",
       "    <tr style=\"text-align: right;\">\n",
       "      <th></th>\n",
       "      <th>nivel_de_satisfaccion</th>\n",
       "      <th>ultima_encuesta</th>\n",
       "      <th>numero_de_proyectos</th>\n",
       "      <th>media_horas_mes</th>\n",
       "      <th>horas_en_la_empresa</th>\n",
       "      <th>accidente_de_trabajo</th>\n",
       "      <th>deja_la_empresa</th>\n",
       "      <th>promociona</th>\n",
       "      <th>dep_IT</th>\n",
       "      <th>dep_RandD</th>\n",
       "      <th>...</th>\n",
       "      <th>dep_hr</th>\n",
       "      <th>dep_management</th>\n",
       "      <th>dep_marketing</th>\n",
       "      <th>dep_product_mng</th>\n",
       "      <th>dep_sales</th>\n",
       "      <th>dep_support</th>\n",
       "      <th>dep_technical</th>\n",
       "      <th>salario_high</th>\n",
       "      <th>salario_low</th>\n",
       "      <th>salario_medium</th>\n",
       "    </tr>\n",
       "  </thead>\n",
       "  <tbody>\n",
       "    <tr>\n",
       "      <th>0</th>\n",
       "      <td>0.38</td>\n",
       "      <td>0.53</td>\n",
       "      <td>2.0</td>\n",
       "      <td>157</td>\n",
       "      <td>3</td>\n",
       "      <td>0</td>\n",
       "      <td>1.0</td>\n",
       "      <td>0</td>\n",
       "      <td>0.0</td>\n",
       "      <td>0.0</td>\n",
       "      <td>...</td>\n",
       "      <td>0.0</td>\n",
       "      <td>0.0</td>\n",
       "      <td>0.0</td>\n",
       "      <td>0.0</td>\n",
       "      <td>1.0</td>\n",
       "      <td>0.0</td>\n",
       "      <td>0.0</td>\n",
       "      <td>0.0</td>\n",
       "      <td>1.0</td>\n",
       "      <td>0.0</td>\n",
       "    </tr>\n",
       "    <tr>\n",
       "      <th>1</th>\n",
       "      <td>0.80</td>\n",
       "      <td>0.86</td>\n",
       "      <td>5.0</td>\n",
       "      <td>262</td>\n",
       "      <td>6</td>\n",
       "      <td>0</td>\n",
       "      <td>1.0</td>\n",
       "      <td>0</td>\n",
       "      <td>0.0</td>\n",
       "      <td>0.0</td>\n",
       "      <td>...</td>\n",
       "      <td>0.0</td>\n",
       "      <td>0.0</td>\n",
       "      <td>0.0</td>\n",
       "      <td>0.0</td>\n",
       "      <td>1.0</td>\n",
       "      <td>0.0</td>\n",
       "      <td>0.0</td>\n",
       "      <td>0.0</td>\n",
       "      <td>0.0</td>\n",
       "      <td>1.0</td>\n",
       "    </tr>\n",
       "    <tr>\n",
       "      <th>3</th>\n",
       "      <td>0.72</td>\n",
       "      <td>0.87</td>\n",
       "      <td>5.0</td>\n",
       "      <td>223</td>\n",
       "      <td>5</td>\n",
       "      <td>0</td>\n",
       "      <td>1.0</td>\n",
       "      <td>0</td>\n",
       "      <td>0.0</td>\n",
       "      <td>0.0</td>\n",
       "      <td>...</td>\n",
       "      <td>0.0</td>\n",
       "      <td>0.0</td>\n",
       "      <td>0.0</td>\n",
       "      <td>0.0</td>\n",
       "      <td>1.0</td>\n",
       "      <td>0.0</td>\n",
       "      <td>0.0</td>\n",
       "      <td>0.0</td>\n",
       "      <td>1.0</td>\n",
       "      <td>0.0</td>\n",
       "    </tr>\n",
       "    <tr>\n",
       "      <th>5</th>\n",
       "      <td>0.41</td>\n",
       "      <td>0.50</td>\n",
       "      <td>2.0</td>\n",
       "      <td>153</td>\n",
       "      <td>3</td>\n",
       "      <td>0</td>\n",
       "      <td>1.0</td>\n",
       "      <td>0</td>\n",
       "      <td>0.0</td>\n",
       "      <td>0.0</td>\n",
       "      <td>...</td>\n",
       "      <td>0.0</td>\n",
       "      <td>0.0</td>\n",
       "      <td>0.0</td>\n",
       "      <td>0.0</td>\n",
       "      <td>1.0</td>\n",
       "      <td>0.0</td>\n",
       "      <td>0.0</td>\n",
       "      <td>0.0</td>\n",
       "      <td>1.0</td>\n",
       "      <td>0.0</td>\n",
       "    </tr>\n",
       "    <tr>\n",
       "      <th>6</th>\n",
       "      <td>0.10</td>\n",
       "      <td>0.77</td>\n",
       "      <td>6.0</td>\n",
       "      <td>247</td>\n",
       "      <td>4</td>\n",
       "      <td>0</td>\n",
       "      <td>1.0</td>\n",
       "      <td>0</td>\n",
       "      <td>0.0</td>\n",
       "      <td>0.0</td>\n",
       "      <td>...</td>\n",
       "      <td>0.0</td>\n",
       "      <td>0.0</td>\n",
       "      <td>0.0</td>\n",
       "      <td>0.0</td>\n",
       "      <td>1.0</td>\n",
       "      <td>0.0</td>\n",
       "      <td>0.0</td>\n",
       "      <td>0.0</td>\n",
       "      <td>1.0</td>\n",
       "      <td>0.0</td>\n",
       "    </tr>\n",
       "  </tbody>\n",
       "</table>\n",
       "<p>5 rows × 21 columns</p>\n",
       "</div>"
      ],
      "text/plain": [
       "   nivel_de_satisfaccion  ultima_encuesta  numero_de_proyectos  \\\n",
       "0                   0.38             0.53                  2.0   \n",
       "1                   0.80             0.86                  5.0   \n",
       "3                   0.72             0.87                  5.0   \n",
       "5                   0.41             0.50                  2.0   \n",
       "6                   0.10             0.77                  6.0   \n",
       "\n",
       "   media_horas_mes   horas_en_la_empresa  accidente_de_trabajo  \\\n",
       "0               157                    3                     0   \n",
       "1               262                    6                     0   \n",
       "3               223                    5                     0   \n",
       "5               153                    3                     0   \n",
       "6               247                    4                     0   \n",
       "\n",
       "   deja_la_empresa  promociona  dep_IT  dep_RandD       ...        dep_hr  \\\n",
       "0              1.0           0     0.0        0.0       ...           0.0   \n",
       "1              1.0           0     0.0        0.0       ...           0.0   \n",
       "3              1.0           0     0.0        0.0       ...           0.0   \n",
       "5              1.0           0     0.0        0.0       ...           0.0   \n",
       "6              1.0           0     0.0        0.0       ...           0.0   \n",
       "\n",
       "   dep_management  dep_marketing  dep_product_mng  dep_sales  dep_support  \\\n",
       "0             0.0            0.0              0.0        1.0          0.0   \n",
       "1             0.0            0.0              0.0        1.0          0.0   \n",
       "3             0.0            0.0              0.0        1.0          0.0   \n",
       "5             0.0            0.0              0.0        1.0          0.0   \n",
       "6             0.0            0.0              0.0        1.0          0.0   \n",
       "\n",
       "   dep_technical  salario_high  salario_low  salario_medium  \n",
       "0            0.0           0.0          1.0             0.0  \n",
       "1            0.0           0.0          0.0             1.0  \n",
       "3            0.0           0.0          1.0             0.0  \n",
       "5            0.0           0.0          1.0             0.0  \n",
       "6            0.0           0.0          1.0             0.0  \n",
       "\n",
       "[5 rows x 21 columns]"
      ]
     },
     "execution_count": 83,
     "metadata": {},
     "output_type": "execute_result"
    }
   ],
   "source": [
    "tabla = pd.read_csv('./datos/HR_comma.csv')\n",
    "tabla = tabla.dropna()                             # borramos las observaciones con NaN\n",
    "\n",
    "# variables categóricas en variables indicadoras\n",
    "tabla_copy = pd.get_dummies(tabla)                 # guardamos el resultado en una copia\n",
    "tabla_copy.head()"
   ]
  },
  {
   "cell_type": "code",
   "execution_count": 84,
   "metadata": {
    "collapsed": false
   },
   "outputs": [
    {
     "name": "stdout",
     "output_type": "stream",
     "text": [
      "<class 'pandas.core.frame.DataFrame'>\n",
      "Int64Index: 14994 entries, 0 to 14998\n",
      "Data columns (total 21 columns):\n",
      "nivel_de_satisfaccion    14994 non-null float64\n",
      "ultima_encuesta          14994 non-null float64\n",
      "numero_de_proyectos      14994 non-null float64\n",
      "media_horas_mes          14994 non-null int64\n",
      "horas_en_la_empresa      14994 non-null int64\n",
      "accidente_de_trabajo     14994 non-null int64\n",
      "deja_la_empresa          14994 non-null float64\n",
      "promociona               14994 non-null int64\n",
      "dep_IT                   14994 non-null float64\n",
      "dep_RandD                14994 non-null float64\n",
      "dep_accounting           14994 non-null float64\n",
      "dep_hr                   14994 non-null float64\n",
      "dep_management           14994 non-null float64\n",
      "dep_marketing            14994 non-null float64\n",
      "dep_product_mng          14994 non-null float64\n",
      "dep_sales                14994 non-null float64\n",
      "dep_support              14994 non-null float64\n",
      "dep_technical            14994 non-null float64\n",
      "salario_high             14994 non-null float64\n",
      "salario_low              14994 non-null float64\n",
      "salario_medium           14994 non-null float64\n",
      "dtypes: float64(17), int64(4)\n",
      "memory usage: 2.5 MB\n"
     ]
    }
   ],
   "source": [
    "tabla_copy.info()      # No hay NaN en la tabla"
   ]
  },
  {
   "cell_type": "markdown",
   "metadata": {},
   "source": [
    "A continuación, construimos la matriz de variables independientes `X` y la varaible dependiente `y`."
   ]
  },
  {
   "cell_type": "code",
   "execution_count": 85,
   "metadata": {
    "collapsed": false
   },
   "outputs": [],
   "source": [
    "# y = variable dependiente\n",
    "y = tabla_copy.pop('deja_la_empresa')\n",
    "# X = matriz de variables independientes\n",
    "X = tabla_copy"
   ]
  },
  {
   "cell_type": "code",
   "execution_count": 86,
   "metadata": {
    "collapsed": false
   },
   "outputs": [
    {
     "data": {
      "text/plain": [
       "(array([ 1.,  0.]), 14994)"
      ]
     },
     "execution_count": 86,
     "metadata": {},
     "output_type": "execute_result"
    }
   ],
   "source": [
    "y.unique(), len(y)         # valores distintos de la variable y"
   ]
  },
  {
   "cell_type": "code",
   "execution_count": 87,
   "metadata": {
    "collapsed": false
   },
   "outputs": [
    {
     "data": {
      "text/html": [
       "<div>\n",
       "<table border=\"1\" class=\"dataframe\">\n",
       "  <thead>\n",
       "    <tr style=\"text-align: right;\">\n",
       "      <th></th>\n",
       "      <th>nivel_de_satisfaccion</th>\n",
       "      <th>ultima_encuesta</th>\n",
       "      <th>numero_de_proyectos</th>\n",
       "      <th>media_horas_mes</th>\n",
       "      <th>horas_en_la_empresa</th>\n",
       "      <th>accidente_de_trabajo</th>\n",
       "      <th>promociona</th>\n",
       "      <th>dep_IT</th>\n",
       "      <th>dep_RandD</th>\n",
       "      <th>dep_accounting</th>\n",
       "      <th>dep_hr</th>\n",
       "      <th>dep_management</th>\n",
       "      <th>dep_marketing</th>\n",
       "      <th>dep_product_mng</th>\n",
       "      <th>dep_sales</th>\n",
       "      <th>dep_support</th>\n",
       "      <th>dep_technical</th>\n",
       "      <th>salario_high</th>\n",
       "      <th>salario_low</th>\n",
       "      <th>salario_medium</th>\n",
       "    </tr>\n",
       "  </thead>\n",
       "  <tbody>\n",
       "    <tr>\n",
       "      <th>0</th>\n",
       "      <td>0.38</td>\n",
       "      <td>0.53</td>\n",
       "      <td>2.0</td>\n",
       "      <td>157</td>\n",
       "      <td>3</td>\n",
       "      <td>0</td>\n",
       "      <td>0</td>\n",
       "      <td>0.0</td>\n",
       "      <td>0.0</td>\n",
       "      <td>0.0</td>\n",
       "      <td>0.0</td>\n",
       "      <td>0.0</td>\n",
       "      <td>0.0</td>\n",
       "      <td>0.0</td>\n",
       "      <td>1.0</td>\n",
       "      <td>0.0</td>\n",
       "      <td>0.0</td>\n",
       "      <td>0.0</td>\n",
       "      <td>1.0</td>\n",
       "      <td>0.0</td>\n",
       "    </tr>\n",
       "    <tr>\n",
       "      <th>1</th>\n",
       "      <td>0.80</td>\n",
       "      <td>0.86</td>\n",
       "      <td>5.0</td>\n",
       "      <td>262</td>\n",
       "      <td>6</td>\n",
       "      <td>0</td>\n",
       "      <td>0</td>\n",
       "      <td>0.0</td>\n",
       "      <td>0.0</td>\n",
       "      <td>0.0</td>\n",
       "      <td>0.0</td>\n",
       "      <td>0.0</td>\n",
       "      <td>0.0</td>\n",
       "      <td>0.0</td>\n",
       "      <td>1.0</td>\n",
       "      <td>0.0</td>\n",
       "      <td>0.0</td>\n",
       "      <td>0.0</td>\n",
       "      <td>0.0</td>\n",
       "      <td>1.0</td>\n",
       "    </tr>\n",
       "    <tr>\n",
       "      <th>3</th>\n",
       "      <td>0.72</td>\n",
       "      <td>0.87</td>\n",
       "      <td>5.0</td>\n",
       "      <td>223</td>\n",
       "      <td>5</td>\n",
       "      <td>0</td>\n",
       "      <td>0</td>\n",
       "      <td>0.0</td>\n",
       "      <td>0.0</td>\n",
       "      <td>0.0</td>\n",
       "      <td>0.0</td>\n",
       "      <td>0.0</td>\n",
       "      <td>0.0</td>\n",
       "      <td>0.0</td>\n",
       "      <td>1.0</td>\n",
       "      <td>0.0</td>\n",
       "      <td>0.0</td>\n",
       "      <td>0.0</td>\n",
       "      <td>1.0</td>\n",
       "      <td>0.0</td>\n",
       "    </tr>\n",
       "    <tr>\n",
       "      <th>5</th>\n",
       "      <td>0.41</td>\n",
       "      <td>0.50</td>\n",
       "      <td>2.0</td>\n",
       "      <td>153</td>\n",
       "      <td>3</td>\n",
       "      <td>0</td>\n",
       "      <td>0</td>\n",
       "      <td>0.0</td>\n",
       "      <td>0.0</td>\n",
       "      <td>0.0</td>\n",
       "      <td>0.0</td>\n",
       "      <td>0.0</td>\n",
       "      <td>0.0</td>\n",
       "      <td>0.0</td>\n",
       "      <td>1.0</td>\n",
       "      <td>0.0</td>\n",
       "      <td>0.0</td>\n",
       "      <td>0.0</td>\n",
       "      <td>1.0</td>\n",
       "      <td>0.0</td>\n",
       "    </tr>\n",
       "    <tr>\n",
       "      <th>6</th>\n",
       "      <td>0.10</td>\n",
       "      <td>0.77</td>\n",
       "      <td>6.0</td>\n",
       "      <td>247</td>\n",
       "      <td>4</td>\n",
       "      <td>0</td>\n",
       "      <td>0</td>\n",
       "      <td>0.0</td>\n",
       "      <td>0.0</td>\n",
       "      <td>0.0</td>\n",
       "      <td>0.0</td>\n",
       "      <td>0.0</td>\n",
       "      <td>0.0</td>\n",
       "      <td>0.0</td>\n",
       "      <td>1.0</td>\n",
       "      <td>0.0</td>\n",
       "      <td>0.0</td>\n",
       "      <td>0.0</td>\n",
       "      <td>1.0</td>\n",
       "      <td>0.0</td>\n",
       "    </tr>\n",
       "  </tbody>\n",
       "</table>\n",
       "</div>"
      ],
      "text/plain": [
       "   nivel_de_satisfaccion  ultima_encuesta  numero_de_proyectos  \\\n",
       "0                   0.38             0.53                  2.0   \n",
       "1                   0.80             0.86                  5.0   \n",
       "3                   0.72             0.87                  5.0   \n",
       "5                   0.41             0.50                  2.0   \n",
       "6                   0.10             0.77                  6.0   \n",
       "\n",
       "   media_horas_mes   horas_en_la_empresa  accidente_de_trabajo  promociona  \\\n",
       "0               157                    3                     0           0   \n",
       "1               262                    6                     0           0   \n",
       "3               223                    5                     0           0   \n",
       "5               153                    3                     0           0   \n",
       "6               247                    4                     0           0   \n",
       "\n",
       "   dep_IT  dep_RandD  dep_accounting  dep_hr  dep_management  dep_marketing  \\\n",
       "0     0.0        0.0             0.0     0.0             0.0            0.0   \n",
       "1     0.0        0.0             0.0     0.0             0.0            0.0   \n",
       "3     0.0        0.0             0.0     0.0             0.0            0.0   \n",
       "5     0.0        0.0             0.0     0.0             0.0            0.0   \n",
       "6     0.0        0.0             0.0     0.0             0.0            0.0   \n",
       "\n",
       "   dep_product_mng  dep_sales  dep_support  dep_technical  salario_high  \\\n",
       "0              0.0        1.0          0.0            0.0           0.0   \n",
       "1              0.0        1.0          0.0            0.0           0.0   \n",
       "3              0.0        1.0          0.0            0.0           0.0   \n",
       "5              0.0        1.0          0.0            0.0           0.0   \n",
       "6              0.0        1.0          0.0            0.0           0.0   \n",
       "\n",
       "   salario_low  salario_medium  \n",
       "0          1.0             0.0  \n",
       "1          0.0             1.0  \n",
       "3          1.0             0.0  \n",
       "5          1.0             0.0  \n",
       "6          1.0             0.0  "
      ]
     },
     "execution_count": 87,
     "metadata": {},
     "output_type": "execute_result"
    }
   ],
   "source": [
    "X.head()"
   ]
  },
  {
   "cell_type": "code",
   "execution_count": 88,
   "metadata": {
    "collapsed": false
   },
   "outputs": [
    {
     "data": {
      "text/plain": [
       "14994"
      ]
     },
     "execution_count": 88,
     "metadata": {},
     "output_type": "execute_result"
    }
   ],
   "source": [
    "len(X)"
   ]
  },
  {
   "cell_type": "markdown",
   "metadata": {},
   "source": [
    "Para aplicar el modelo de regresión logística, el tipo de los datos (y, X) ha de ser array de NumPy."
   ]
  },
  {
   "cell_type": "code",
   "execution_count": 89,
   "metadata": {
    "collapsed": false
   },
   "outputs": [
    {
     "data": {
      "text/plain": [
       "(pandas.core.series.Series, pandas.core.frame.DataFrame)"
      ]
     },
     "execution_count": 89,
     "metadata": {},
     "output_type": "execute_result"
    }
   ],
   "source": [
    "type(y), type(X)"
   ]
  },
  {
   "cell_type": "markdown",
   "metadata": {},
   "source": [
    "Nos quedamos con los valores de la Serie y del DataFrame"
   ]
  },
  {
   "cell_type": "code",
   "execution_count": 90,
   "metadata": {
    "collapsed": true
   },
   "outputs": [],
   "source": [
    "y = y.values\n",
    "X = X.values"
   ]
  },
  {
   "cell_type": "code",
   "execution_count": 91,
   "metadata": {
    "collapsed": false
   },
   "outputs": [
    {
     "data": {
      "text/plain": [
       "(numpy.ndarray, numpy.ndarray)"
      ]
     },
     "execution_count": 91,
     "metadata": {},
     "output_type": "execute_result"
    }
   ],
   "source": [
    "type(y), type(X)"
   ]
  },
  {
   "cell_type": "markdown",
   "metadata": {},
   "source": [
    "Dividimos los datasets en entrenamiento y evaluación:"
   ]
  },
  {
   "cell_type": "code",
   "execution_count": 92,
   "metadata": {
    "collapsed": false
   },
   "outputs": [
    {
     "data": {
      "text/plain": [
       "(2999, 0.20001333866880086, 11995, 0.7999866613311991)"
      ]
     },
     "execution_count": 92,
     "metadata": {},
     "output_type": "execute_result"
    }
   ],
   "source": [
    "# Xtrain con el 80% de los datos\n",
    "# Xtest  con el 20 de los datos\n",
    "Xtrain, Xtest, ytrain, ytest = train_test_split(X, y, test_size=0.20)\n",
    "len(Xtest), len(Xtest)/len(X),len(Xtrain), len(Xtrain)/len(X)"
   ]
  },
  {
   "cell_type": "markdown",
   "metadata": {},
   "source": [
    "## 2.1 Modelo de regresión logística"
   ]
  },
  {
   "cell_type": "markdown",
   "metadata": {},
   "source": [
    "Creamos el modelo de regresión logística"
   ]
  },
  {
   "cell_type": "code",
   "execution_count": 93,
   "metadata": {
    "collapsed": false
   },
   "outputs": [],
   "source": [
    "from sklearn.linear_model import LogisticRegression\n",
    "\n",
    "# Creando el modelo\n",
    "modelo_rl = LogisticRegression()    \n",
    "# Ajustando el modelo\n",
    "modelo_rl.fit(Xtrain, ytrain)\n",
    "\n",
    "# Realizando las predicciones\n",
    "y_predic_test = modelo_rl.predict(Xtest) \n"
   ]
  },
  {
   "cell_type": "markdown",
   "metadata": {},
   "source": [
    "Podemos preguntar por la bondad del ajuste con la función __score__. Como podemos ver a continuación, el ajuste es mejor "
   ]
  },
  {
   "cell_type": "code",
   "execution_count": 94,
   "metadata": {
    "collapsed": false
   },
   "outputs": [
    {
     "name": "stdout",
     "output_type": "stream",
     "text": [
      "Bondad del ajuste con RL:  0.775925308436\n"
     ]
    }
   ],
   "source": [
    "# calculamos las bondad del ajuste para los datos de test y de entrenamiento\n",
    "ajuste_test = modelo_rl.score(Xtest, ytest)      #coef de determinación o bondad del ajuste\n",
    "print('Bondad del ajuste con RL: ', ajuste_test)"
   ]
  },
  {
   "cell_type": "markdown",
   "metadata": {},
   "source": [
    "## 2.2 Predicción con Arboles de decisión"
   ]
  },
  {
   "cell_type": "code",
   "execution_count": 95,
   "metadata": {
    "collapsed": false
   },
   "outputs": [],
   "source": [
    "# Importando el arbol de decisión\n",
    "from sklearn.tree import DecisionTreeClassifier\n",
    "\n",
    "# Creando el modelo. Árboles con profundidad 3\n",
    "modelo_ad = DecisionTreeClassifier(max_depth = 3 )     # Creando el modelo\n",
    "# Ajustando el modelo\n",
    "modelo_ad.fit(Xtrain, ytrain);\n"
   ]
  },
  {
   "cell_type": "code",
   "execution_count": 96,
   "metadata": {
    "collapsed": false
   },
   "outputs": [
    {
     "name": "stdout",
     "output_type": "stream",
     "text": [
      "Bondad del ajuste con Árbol de decisión:  0.944314771591\n"
     ]
    }
   ],
   "source": [
    "# calculamos las bondad del ajuste para los datos de test y de entrenamiento\n",
    "ajuste_test = modelo_ad.score(Xtest, ytest)      #coef de determinación o bondad del ajuste\n",
    "print('Bondad del ajuste con Árbol de decisión: ', ajuste_test)"
   ]
  },
  {
   "cell_type": "markdown",
   "metadata": {},
   "source": [
    "## 2.3 Predicción con Random Forest"
   ]
  },
  {
   "cell_type": "markdown",
   "metadata": {},
   "source": [
    "Uno de los métodos más populares usados por los científicos de datos es el algoritmo __Random Forest__, uno de los mejores algoritmos de clasificación, capaz de organizar grandes cantidades de datos con exactitud."
   ]
  },
  {
   "cell_type": "code",
   "execution_count": 97,
   "metadata": {
    "collapsed": false
   },
   "outputs": [],
   "source": [
    "# Importando el random forest\n",
    "from sklearn.ensemble import RandomForestClassifier\n",
    "\n",
    "# Creando el modelo\n",
    "modelo_rf = RandomForestClassifier()\n",
    "# Ajustando el modelo\n",
    "modelo_rf.fit(Xtrain, ytrain)\n",
    "\n",
    "# Realizando las predicciones\n",
    "y_predic_test = modelo_rf.predict(Xtest)\n"
   ]
  },
  {
   "cell_type": "code",
   "execution_count": 98,
   "metadata": {
    "collapsed": false
   },
   "outputs": [
    {
     "name": "stdout",
     "output_type": "stream",
     "text": [
      "Bondad del ajuste con Random Forest:  0.984994998333\n"
     ]
    }
   ],
   "source": [
    "# calculamos las bondad del ajuste para los datos de test y de entrenamiento\n",
    "ajuste_test = modelo_rf.score(Xtest, ytest)      #coef de determinación o bondad del ajuste\n",
    "print('Bondad del ajuste con Random Forest: ', ajuste_test)"
   ]
  },
  {
   "cell_type": "markdown",
   "metadata": {},
   "source": [
    "Parece que el modelo Random forest ofrece mejores resultados. Además podemos conocer las características que más influyen en el modelo. \n",
    "En nuestro ejemplo tenemos 20 características: "
   ]
  },
  {
   "cell_type": "code",
   "execution_count": 99,
   "metadata": {
    "collapsed": false
   },
   "outputs": [
    {
     "data": {
      "text/plain": [
       "(14994, 20)"
      ]
     },
     "execution_count": 99,
     "metadata": {},
     "output_type": "execute_result"
    }
   ],
   "source": [
    "tabla_copy.shape"
   ]
  },
  {
   "cell_type": "code",
   "execution_count": 100,
   "metadata": {
    "collapsed": false
   },
   "outputs": [
    {
     "data": {
      "text/plain": [
       "array(['nivel_de_satisfaccion', 'ultima_encuesta', 'numero_de_proyectos',\n",
       "       'media_horas_mes ', 'horas_en_la_empresa', 'accidente_de_trabajo',\n",
       "       'promociona', 'dep_IT', 'dep_RandD', 'dep_accounting', 'dep_hr',\n",
       "       'dep_management', 'dep_marketing', 'dep_product_mng', 'dep_sales',\n",
       "       'dep_support', 'dep_technical', 'salario_high', 'salario_low',\n",
       "       'salario_medium'], dtype=object)"
      ]
     },
     "execution_count": 100,
     "metadata": {},
     "output_type": "execute_result"
    }
   ],
   "source": [
    "# nombres de las características\n",
    "caracteristicas = tabla_copy.columns.values      \n",
    "caracteristicas"
   ]
  },
  {
   "cell_type": "code",
   "execution_count": 101,
   "metadata": {
    "collapsed": false
   },
   "outputs": [
    {
     "data": {
      "text/plain": [
       "array([ 0.2938847 ,  0.12487373,  0.2143827 ,  0.13535913,  0.18487826,\n",
       "        0.01139828,  0.00189067,  0.00176634,  0.00148452,  0.00187211,\n",
       "        0.00117287,  0.00181626,  0.00058182,  0.00101234,  0.00323338,\n",
       "        0.00314527,  0.00418639,  0.00406356,  0.00547498,  0.00352268])"
      ]
     },
     "execution_count": 101,
     "metadata": {},
     "output_type": "execute_result"
    }
   ],
   "source": [
    "# estimación de la importancia de las características\n",
    "# el valor más alto corresponde a la característica más importante\n",
    "estimacion = modelo_rf.feature_importances_\n",
    "estimacion"
   ]
  },
  {
   "cell_type": "markdown",
   "metadata": {},
   "source": [
    "Emparejamos cada característica con su estimación:"
   ]
  },
  {
   "cell_type": "code",
   "execution_count": 102,
   "metadata": {
    "collapsed": false
   },
   "outputs": [
    {
     "data": {
      "text/html": [
       "<div>\n",
       "<table border=\"1\" class=\"dataframe\">\n",
       "  <thead>\n",
       "    <tr style=\"text-align: right;\">\n",
       "      <th></th>\n",
       "      <th>valor</th>\n",
       "    </tr>\n",
       "  </thead>\n",
       "  <tbody>\n",
       "    <tr>\n",
       "      <th>accidente_de_trabajo</th>\n",
       "      <td>0.011398</td>\n",
       "    </tr>\n",
       "    <tr>\n",
       "      <th>dep_IT</th>\n",
       "      <td>0.001766</td>\n",
       "    </tr>\n",
       "    <tr>\n",
       "      <th>dep_RandD</th>\n",
       "      <td>0.001485</td>\n",
       "    </tr>\n",
       "    <tr>\n",
       "      <th>dep_accounting</th>\n",
       "      <td>0.001872</td>\n",
       "    </tr>\n",
       "    <tr>\n",
       "      <th>dep_hr</th>\n",
       "      <td>0.001173</td>\n",
       "    </tr>\n",
       "    <tr>\n",
       "      <th>dep_management</th>\n",
       "      <td>0.001816</td>\n",
       "    </tr>\n",
       "    <tr>\n",
       "      <th>dep_marketing</th>\n",
       "      <td>0.000582</td>\n",
       "    </tr>\n",
       "    <tr>\n",
       "      <th>dep_product_mng</th>\n",
       "      <td>0.001012</td>\n",
       "    </tr>\n",
       "    <tr>\n",
       "      <th>dep_sales</th>\n",
       "      <td>0.003233</td>\n",
       "    </tr>\n",
       "    <tr>\n",
       "      <th>dep_support</th>\n",
       "      <td>0.003145</td>\n",
       "    </tr>\n",
       "    <tr>\n",
       "      <th>dep_technical</th>\n",
       "      <td>0.004186</td>\n",
       "    </tr>\n",
       "    <tr>\n",
       "      <th>horas_en_la_empresa</th>\n",
       "      <td>0.184878</td>\n",
       "    </tr>\n",
       "    <tr>\n",
       "      <th>media_horas_mes</th>\n",
       "      <td>0.135359</td>\n",
       "    </tr>\n",
       "    <tr>\n",
       "      <th>nivel_de_satisfaccion</th>\n",
       "      <td>0.293885</td>\n",
       "    </tr>\n",
       "    <tr>\n",
       "      <th>numero_de_proyectos</th>\n",
       "      <td>0.214383</td>\n",
       "    </tr>\n",
       "    <tr>\n",
       "      <th>promociona</th>\n",
       "      <td>0.001891</td>\n",
       "    </tr>\n",
       "    <tr>\n",
       "      <th>salario_high</th>\n",
       "      <td>0.004064</td>\n",
       "    </tr>\n",
       "    <tr>\n",
       "      <th>salario_low</th>\n",
       "      <td>0.005475</td>\n",
       "    </tr>\n",
       "    <tr>\n",
       "      <th>salario_medium</th>\n",
       "      <td>0.003523</td>\n",
       "    </tr>\n",
       "    <tr>\n",
       "      <th>ultima_encuesta</th>\n",
       "      <td>0.124874</td>\n",
       "    </tr>\n",
       "  </tbody>\n",
       "</table>\n",
       "</div>"
      ],
      "text/plain": [
       "                          valor\n",
       "accidente_de_trabajo   0.011398\n",
       "dep_IT                 0.001766\n",
       "dep_RandD              0.001485\n",
       "dep_accounting         0.001872\n",
       "dep_hr                 0.001173\n",
       "dep_management         0.001816\n",
       "dep_marketing          0.000582\n",
       "dep_product_mng        0.001012\n",
       "dep_sales              0.003233\n",
       "dep_support            0.003145\n",
       "dep_technical          0.004186\n",
       "horas_en_la_empresa    0.184878\n",
       "media_horas_mes        0.135359\n",
       "nivel_de_satisfaccion  0.293885\n",
       "numero_de_proyectos    0.214383\n",
       "promociona             0.001891\n",
       "salario_high           0.004064\n",
       "salario_low            0.005475\n",
       "salario_medium         0.003523\n",
       "ultima_encuesta        0.124874"
      ]
     },
     "execution_count": 102,
     "metadata": {},
     "output_type": "execute_result"
    }
   ],
   "source": [
    "estimaciones = dict(zip(caracteristicas, estimacion))\n",
    "estimaciones\n",
    "valores = pd.DataFrame(estimaciones, index = ['valor'])\n",
    "valores = valores.T\n",
    "valores"
   ]
  },
  {
   "cell_type": "code",
   "execution_count": 103,
   "metadata": {
    "collapsed": false
   },
   "outputs": [
    {
     "data": {
      "text/plain": [
       "<matplotlib.figure.Figure at 0x16a324a09e8>"
      ]
     },
     "metadata": {},
     "output_type": "display_data"
    },
    {
     "data": {
      "image/png": "[encoded data removed]",
      "text/plain": [
       "<matplotlib.figure.Figure at 0x16a324a0208>"
      ]
     },
     "metadata": {},
     "output_type": "display_data"
    }
   ],
   "source": [
    "plt.figure(figsize=(5, 3))\n",
    "valores.plot(kind = 'bar',  \n",
    "             width = 0.3  ,         #anchura de las barras\n",
    "             align = 'center'\n",
    "             )\n",
    "plt.title('Estimación importancia - Random Forest')\n",
    "plt.ylabel('Importancia estimada')\n",
    "plt.xlabel('Características')\n",
    "plt.legend(loc='best')\n",
    "plt.tight_layout()"
   ]
  },
  {
   "cell_type": "markdown",
   "metadata": {},
   "source": [
    "# References\n",
    "\n"
   ]
  },
  {
   "cell_type": "markdown",
   "metadata": {},
   "source": [
    "* [Python Data Analysis Library](http://pandas.pydata.org/)\n",
    "* [Python for Data Analysis](http://shop.oreilly.com/product/0636920023784.do)\n"
   ]
  }
 ],
 "metadata": {
  "anaconda-cloud": {},
  "kernelspec": {
   "display_name": "Python [default]",
   "language": "python",
   "name": "python3"
  },
  "language_info": {
   "codemirror_mode": {
    "name": "ipython",
    "version": 3
   },
   "file_extension": ".py",
   "mimetype": "text/x-python",
   "name": "python",
   "nbconvert_exporter": "python",
   "pygments_lexer": "ipython3",
   "version": "3.5.2"
  }
 },
 "nbformat": 4,
 "nbformat_minor": 0
}
