{
 "cells": [
  {
   "cell_type": "markdown",
   "metadata": {},
   "source": [
    "# 1. Python para análisis de datos"
   ]
  },
  {
   "cell_type": "markdown",
   "metadata": {},
   "source": [
    "## 1.1 __¿Qué es BIG DATA?__"
   ]
  },
  {
   "cell_type": "markdown",
   "metadata": {},
   "source": [
    "![Big Data](./images/vvv.png \"vvv\")\n",
    "\n",
    "* Conjunto de __tecnologías y arquitecturas__\n",
    "* Manejo de grandes volúmenes de datos heterogéneos que debido a su __V__olumen, __V__ariedad o __V__elocidad no pueden ser tratados de manera convencional\n",
    "* Objetivo: extraer __V__alor\n",
    "\n",
    " \n",
    " \n",
    "__VOLUMEN__\n",
    " \n",
    "Las nuevas tecnologías permiten incluir en los proyectos de análisis informaciones (por ejemplo logs) que hasta la fecha no se utilizaban porque la tecnología no permitía procesarlos en un tiempo razonable. \n",
    "\n",
    "__VELOCIDAD__\n",
    "\n",
    "La velocidad en big data se refiere al ritmo en que los datos de entrada fluyen desde las diversas fuentes como procesos de negocio, máquinas y sensores, redes sociales, dispositivos móviles, etc. El flujo de datos es masivo y continuo.\n",
    " \n",
    "__VARIEDAD__\n",
    " \n",
    "Cuando hablamos de Big Data, hablamos  de tecnologías creadas para el tratamientos de datos estructurados y para otro tipo de datos de más difícil tratamiento como son los datos no estructurados o semi-estructurados."
   ]
  },
  {
   "cell_type": "markdown",
   "metadata": {},
   "source": [
    "## 1.2 __Tecnologías Big Data__"
   ]
  },
  {
   "cell_type": "markdown",
   "metadata": {},
   "source": [
    "Existen muchas tecnologías para tratar con Big Data. Nombres como Hadoop, sPARK, NoSQL, Python, R, Cassandra, SAS, Business Intelligence, Machine Learning, MapReduce… son sólo algunos de los más conocidos.\n",
    "\n",
    "![__Tecnologías](./images/varias.png \"__Tecnologías\")"
   ]
  },
  {
   "cell_type": "markdown",
   "metadata": {},
   "source": [
    "__Ecosistema Hadoop__\n",
    "\n",
    "* Se basa en un gran número de pequeños ordenadores, cada uno de los cuales se encarga de almacenar y procesar una porción de información. \n",
    "* Tecnología __Map Reduce__.\n",
    "* A pesar de que cada uno de ellos funciona de forma independiente y autónoma, todos actúan en conjunto, como si fueran un solo ordenador de dimensiones increíbles.\n",
    "\n",
    "__Spark__\n",
    "\n",
    "* Aparece en el año 2014\n",
    "* Mejora a Hadoop -  Velociadad de proceso"
   ]
  },
  {
   "cell_type": "markdown",
   "metadata": {},
   "source": [
    "## Big Data y Python"
   ]
  },
  {
   "cell_type": "markdown",
   "metadata": {},
   "source": [
    "* __Big Data de Manera Sencilla__: Python\n",
    "    * Lenguaje que se ha ganado a muchos gracias a lo fácil de aprender, manejo sencillo y gran eficiencia a la hora de analizar datos.\n",
    "    * A Python todavía le falta algo de la riqueza de otros lenguajes como R para el análisis de datos, pero se está acercando rápidamente ( Numpy, Scipy, Statsmodels, Scikit-learn, Pandas, Matplotlib, Seaborn, Boket, ...)"
   ]
  }
 ],
 "metadata": {
  "kernelspec": {
   "display_name": "Python [default]",
   "language": "python",
   "name": "python3"
  },
  "language_info": {
   "codemirror_mode": {
    "name": "ipython",
    "version": 3
   },
   "file_extension": ".py",
   "mimetype": "text/x-python",
   "name": "python",
   "nbconvert_exporter": "python",
   "pygments_lexer": "ipython3",
   "version": "3.5.2"
  }
 },
 "nbformat": 4,
 "nbformat_minor": 0
}
