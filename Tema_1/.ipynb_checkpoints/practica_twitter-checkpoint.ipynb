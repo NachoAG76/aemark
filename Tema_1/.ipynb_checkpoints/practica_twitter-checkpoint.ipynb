{
 "cells": [
  {
   "cell_type": "markdown",
   "metadata": {},
   "source": [
    "## Práctica - Análisis de tweets"
   ]
  },
  {
   "cell_type": "markdown",
   "metadata": {},
   "source": [
    "El directorio `Tweets` contiene información de los tweets creados entre los días 24 de Octubre y 30 de Octubre de 2016 bajo cierto criterio de búsqueda. Se pide:\n",
    "\n",
    "* Abrir el fichero `Oct24` y ver su contenido. Para ello ejecuta el siguiente bloque de código:\n"
   ]
  },
  {
   "cell_type": "code",
   "execution_count": 1,
   "metadata": {
    "collapsed": false
   },
   "outputs": [
    {
     "data": {
      "text/plain": [
       "12"
      ]
     },
     "execution_count": 1,
     "metadata": {},
     "output_type": "execute_result"
    }
   ],
   "source": [
    "import json\n",
    "with open('./Tweets/Oct24.json') as data_file:    \n",
    "    data = json.load(data_file)\n",
    "    \n",
    "len(data)     # 12 tweets"
   ]
  },
  {
   "cell_type": "markdown",
   "metadata": {},
   "source": [
    "* ¿De qué tipo es la variable data?\n"
   ]
  },
  {
   "cell_type": "code",
   "execution_count": 5,
   "metadata": {
    "collapsed": false
   },
   "outputs": [
    {
     "data": {
      "text/plain": [
       "list"
      ]
     },
     "execution_count": 5,
     "metadata": {},
     "output_type": "execute_result"
    }
   ],
   "source": [
    "# Sol\n",
    "type(data)"
   ]
  },
  {
   "cell_type": "markdown",
   "metadata": {},
   "source": [
    "* Cada elemento en `data` es un tweet. Accede al primer elemento para ver el aspecto que tiene. ¿De qué tipo es ese primer elemento?\n"
   ]
  },
  {
   "cell_type": "code",
   "execution_count": 19,
   "metadata": {
    "collapsed": false
   },
   "outputs": [
    {
     "data": {
      "text/plain": [
       "{'AEB': 1,\n",
       " 'Akademia': 3,\n",
       " 'EducaciónFinanciera': 1,\n",
       " 'Unitour': 1,\n",
       " 'blockchain': 1,\n",
       " 'cuba': 1,\n",
       " 'educacionfinanciera': 1,\n",
       " 'innovación': 3,\n",
       " 'mesuenaunpoco': 1,\n",
       " 'venezuela': 1}"
      ]
     },
     "execution_count": 19,
     "metadata": {},
     "output_type": "execute_result"
    }
   ],
   "source": [
    "# Sol: \n",
    "hastags = {}\n",
    "\n",
    "for tweet in data:\n",
    "\n",
    "    lista_h = tweet['entities']['hashtags']\n",
    "    for h  in lista_h:\n",
    "        if h['text'] in hastags:\n",
    "            hastags[h['text']] += 1\n",
    "        else:\n",
    "            hastags[h['text']] = 1\n",
    "    \n",
    "    \n",
    "hastags"
   ]
  },
  {
   "cell_type": "markdown",
   "metadata": {},
   "source": [
    "* Encontrar los hashtags utilizados en la lista de tweets del fichero 'Oct24.json'.\n",
    "Los hashtags se encuentran en un campo denominado `hashtags` que se encuentra indexado a su vez por un campo denominado `entities`.\n",
    "El resultado debe ser un diccionario donde la clave sea el hashtag y el valor el número de veces que se repite dicho hashtag.\n"
   ]
  },
  {
   "cell_type": "code",
   "execution_count": null,
   "metadata": {
    "collapsed": true
   },
   "outputs": [],
   "source": [
    "# Sol:\n",
    "\"\"\"\n",
    "{'Aeb': 1,\n",
    " 'Akademia': 3,\n",
    " 'Blockchain': 1,\n",
    " 'Cuba': 1,\n",
    " 'Educacionfinanciera': 1,\n",
    " 'Educaciónfinanciera': 1,\n",
    " 'Innovación': 3,\n",
    " 'Mesuenaunpoco': 1,\n",
    " 'Unitour': 1,\n",
    " 'Venezuela': 1}\n",
    " \"\"\""
   ]
  },
  {
   "cell_type": "code",
   "execution_count": 31,
   "metadata": {
    "collapsed": false
   },
   "outputs": [],
   "source": [
    "# Sol:\n",
    "\n"
   ]
  },
  {
   "cell_type": "markdown",
   "metadata": {},
   "source": [
    "* Utiliza el iterador `for` para procesar todos los ficheros que se encuentran en el directorio dado. \n",
    "Encontrar los hashtags utilizados en los tweets de los días entre el 24-29 de Octubre. El siguiente bloque de código lee los ficheros que hay en un directorio dado."
   ]
  },
  {
   "cell_type": "code",
   "execution_count": 21,
   "metadata": {
    "collapsed": false
   },
   "outputs": [
    {
     "data": {
      "text/plain": [
       "['./Tweets/Oct24.json',\n",
       " './Tweets/Oct25.json',\n",
       " './Tweets/Oct26.json',\n",
       " './Tweets/Oct27.json',\n",
       " './Tweets/Oct28.json',\n",
       " './Tweets/Oct29.json']"
      ]
     },
     "execution_count": 21,
     "metadata": {},
     "output_type": "execute_result"
    }
   ],
   "source": [
    "import os\n",
    "from os import listdir\n",
    "from os.path import isfile, join\n",
    "onlyfiles = [ './Tweets/' + f for f in listdir('./Tweets')  ]\n",
    "onlyfiles"
   ]
  },
  {
   "cell_type": "code",
   "execution_count": 23,
   "metadata": {
    "collapsed": false
   },
   "outputs": [
    {
     "data": {
      "text/plain": [
       "{'ADE': 2,\n",
       " 'AEB': 2,\n",
       " 'APALANCAMIENTO': 1,\n",
       " 'Akademia': 11,\n",
       " 'Aseguradoras': 1,\n",
       " 'BuenosDías': 10,\n",
       " 'CONTRATO': 1,\n",
       " 'CUNEFEmprende': 1,\n",
       " 'CUNEFemprende': 1,\n",
       " 'CURSO': 5,\n",
       " 'Conclusiones': 10,\n",
       " 'EMPRESAS': 1,\n",
       " 'EducaciónFinanciera': 1,\n",
       " 'FINANCIERO': 1,\n",
       " 'Finanzas': 1,\n",
       " 'FondodeInversión': 1,\n",
       " 'GESTIÓN': 2,\n",
       " 'GRATIS': 5,\n",
       " 'HIPOTECARIO': 1,\n",
       " 'IgnacioBernabe': 1,\n",
       " 'Jovenes': 1,\n",
       " 'MEDIACIÓN': 1,\n",
       " 'Madrid': 5,\n",
       " 'PÓLIZA': 1,\n",
       " 'QUEJAS': 1,\n",
       " 'RECLAMACIONES': 1,\n",
       " 'SEGUROS': 2,\n",
       " 'SINIESTROS': 1,\n",
       " 'SISTEMA': 1,\n",
       " 'Seguros': 1,\n",
       " 'TERCERO': 1,\n",
       " 'Unitour': 1,\n",
       " 'blockchain': 1,\n",
       " 'cuba': 2,\n",
       " 'educacionfinanciera': 1,\n",
       " 'emprendimiento': 3,\n",
       " 'encuentrosCUNEFemprende': 1,\n",
       " 'estrategia': 1,\n",
       " 'innovación': 8,\n",
       " 'liderazgo': 1,\n",
       " 'management': 1,\n",
       " 'marketing': 2,\n",
       " 'mesuenaunpoco': 1,\n",
       " 'talento': 2,\n",
       " 'venezuela': 1,\n",
       " 'yovotovsbloqueo': 1}"
      ]
     },
     "execution_count": 23,
     "metadata": {},
     "output_type": "execute_result"
    }
   ],
   "source": [
    "# Sol: \n",
    "hastags = {}\n",
    "\n",
    "for f in onlyfiles:\n",
    "    with open(f) as data_file:    \n",
    "        data = json.load(data_file)\n",
    "\n",
    "    for tweet in data:\n",
    "        lista_h = tweet['entities']['hashtags']\n",
    "        for h  in lista_h:\n",
    "            if h['text'] in hastags:\n",
    "                hastags[h['text']] += 1\n",
    "            else:\n",
    "                hastags[h['text']] = 1\n",
    "    \n",
    "    \n",
    "hastags"
   ]
  },
  {
   "cell_type": "code",
   "execution_count": null,
   "metadata": {
    "collapsed": false
   },
   "outputs": [],
   "source": [
    "# Sol:\n",
    "\n",
    "\"\"\"\n",
    "{'Ade': 2,\n",
    " 'Aeb': 2,\n",
    " 'Akademia': 11,\n",
    " 'Apalancamiento': 1,\n",
    " 'Aseguradoras': 1,\n",
    " 'Blockchain': 1,\n",
    " 'Buenosdías': 10,\n",
    " 'Conclusiones': 10,\n",
    " 'Contrato': 1,\n",
    " 'Cuba': 2,\n",
    " 'Cunefemprende': 2,\n",
    " 'Curso': 5,\n",
    " 'Educacionfinanciera': 1,\n",
    " 'Educaciónfinanciera': 1,\n",
    " 'Emprendimiento': 3,\n",
    " 'Empresas': 1,\n",
    " 'Encuentroscunefemprende': 1,\n",
    " 'Estrategia': 1,\n",
    " 'Financiero': 1,\n",
    " 'Finanzas': 1,\n",
    " 'Fondodeinversión': 1,\n",
    " 'Gestión': 2,\n",
    " 'Gratis': 5,\n",
    " 'Hipotecario': 1,\n",
    " 'Ignaciobernabe': 1,\n",
    " 'Innovación': 8,\n",
    " 'Jovenes': 1,\n",
    " 'Liderazgo': 1,\n",
    " 'Madrid': 5,\n",
    " 'Management': 1,\n",
    " 'Marketing': 2,\n",
    " 'Mediación': 1,\n",
    " 'Mesuenaunpoco': 1,\n",
    " 'Póliza': 1,\n",
    " 'Quejas': 1,\n",
    " 'Reclamaciones': 1,\n",
    " 'Seguros': 3,\n",
    " 'Siniestros': 1,\n",
    " 'Sistema': 1,\n",
    " 'Talento': 2,\n",
    " 'Tercero': 1,\n",
    " 'Unitour': 1,\n",
    " 'Venezuela': 1,\n",
    " 'Yovotovsbloqueo': 1}\n",
    "\"\"\"\n"
   ]
  },
  {
   "cell_type": "code",
   "execution_count": null,
   "metadata": {
    "collapsed": true
   },
   "outputs": [],
   "source": [
    "# Sol:\n"
   ]
  },
  {
   "cell_type": "markdown",
   "metadata": {},
   "source": [
    "* Crear un DataFrame cuyas columnas sean: `[ hashtag, apariciones ]`  y los datos sean los recuperados en el apartado anterior.\n",
    "    "
   ]
  },
  {
   "cell_type": "code",
   "execution_count": 35,
   "metadata": {
    "collapsed": false
   },
   "outputs": [],
   "source": [
    "# Sol:\n",
    "import pandas as pd\n",
    "\n"
   ]
  },
  {
   "cell_type": "markdown",
   "metadata": {},
   "source": [
    "* ¿Cuál ha sido el hashtag más utilizado en la semana del 24-30 de Octubre?"
   ]
  },
  {
   "cell_type": "code",
   "execution_count": 35,
   "metadata": {
    "collapsed": false
   },
   "outputs": [],
   "source": [
    "# Sol:\n",
    "\n",
    "\n"
   ]
  },
  {
   "cell_type": "markdown",
   "metadata": {},
   "source": [
    "-------------------------------------"
   ]
  }
 ],
 "metadata": {
  "anaconda-cloud": {},
  "kernelspec": {
   "display_name": "Python [default]",
   "language": "python",
   "name": "python3"
  },
  "language_info": {
   "codemirror_mode": {
    "name": "ipython",
    "version": 3
   },
   "file_extension": ".py",
   "mimetype": "text/x-python",
   "name": "python",
   "nbconvert_exporter": "python",
   "pygments_lexer": "ipython3",
   "version": "3.5.2"
  }
 },
 "nbformat": 4,
 "nbformat_minor": 0
}
