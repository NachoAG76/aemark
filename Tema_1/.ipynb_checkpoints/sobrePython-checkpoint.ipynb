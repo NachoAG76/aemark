{
 "cells": [
  {
   "cell_type": "markdown",
   "metadata": {},
   "source": [
    "# Table of Contents\n",
    "* [1. Python para análisis de datos](#1.-Python-para-análisis-de-datos)\n",
    "\t* [1.1 Sobre Python](#1.1-Sobre-Python)\n",
    "\t* [1.2 Características del lenguaje](#1.2-Características-del-lenguaje)\n",
    "\t* [1.3 Librerías básicas para el tratamiento de datos](#1.3-Librerías-básicas-para-el-tratamiento-de-datos)\n",
    "\t* [1.4 El entorno Jupyter notebook](#1.4-El-entorno-Jupyter-notebook)\n",
    "\t* [1.5 Instalación (Anaconda)](#1.5-Instalación-%28Anaconda%29)\n",
    "\t\t* [1.5.1 Hasta aquí:](#1.5.1-Hasta-aquí:)\n",
    "\t* [1.6 Elementos básicos del lenguaje](#1.6-Elementos-básicos-del-lenguaje)\n"
   ]
  },
  {
   "cell_type": "markdown",
   "metadata": {},
   "source": [
    "# 1. Python para análisis de datos"
   ]
  },
  {
   "cell_type": "markdown",
   "metadata": {},
   "source": [
    "## 1.1 Sobre Python"
   ]
  },
  {
   "cell_type": "markdown",
   "metadata": {},
   "source": [
    "* Python es una herramienta poderosa en el análisis numérico, el cual es ampliamente utilizado en ciencia e ingeniería. \n",
    "* Su creador fue Guido Van Rossum y debido a que es de código libre la comunidad de desarrolladores han creado librerías o módulos para hacer casi cualquier cosa. \n",
    "\n",
    "![__Tecnologías](anaconda_python.png \"__Tecnologías\")\n",
    "\n",
    "* Se trata de un lenguaje que permite desarrollar un proyecto completo o puede ser parte de un sistema.\n",
    "\n",
    "* Se recomienda aprender a programar Python, por cosas muy sencillas:\n",
    "    * Es fácil de aprender, fácil de leer y cuenta con una gran cantidad de librerías, tipos de datos y funciones incorporadas en el propio lenguaje, que ayudan a realizar muchas tareas habituales sin necesidad de tener que programarlas desde cero.\n",
    "    * La curva de aprendizaje es muy corta y en muy poco tiempo uno puede estar programando cosas no tan triviales.\n",
    "\n",
    "* Aunque desconocido aún por algunos, hoy en día es uno de los lenguajes más populares junto con R, Ruby, Perl y otros.\n",
    "\n",
    "-----\n",
    "\n",
    "![ranking](./images/ranking.jpg \"ranking\")\n",
    "Fuente: http://www.datasciencecentral.com/profiles/blogs/top-programming-languages-for-data-science-first-partial-survey"
   ]
  },
  {
   "cell_type": "markdown",
   "metadata": {},
   "source": [
    "## 1.2 Características del lenguaje"
   ]
  },
  {
   "cell_type": "markdown",
   "metadata": {},
   "source": [
    "__Lenguaje interpretado__: Interpretado quiere decir que no se debe compilar el código antes de su ejecución.\n",
    "\n",
    "* Esto implica que la mayor parte del código Python se ejecuta más lento que el código compilado de C++ o Java.\n",
    "\n",
    "* En casos donde se necesita mucha rapidez de proceso es preferible asumir el coste en tiempo de programación en un lenguaje de bajo nivel como C++ para conseguir mayor rapidez de proceso.\n",
    "\n",
    "__Multiparadigma__: Es un lenguaje imperativo y orientado a objetos. También posee características de los __lenguajes funcionales__.\n",
    "\n",
    "__Multiplataforma__: Python es un lenguaje disponible en los principales Sistemas Operativos (Windows, Linux y Mac). El lenguaje permite realizar cualquier tipo de programa, desde aplicaciones Windows a servidores de red o incluso, páginas web.\n",
    "\n",
    "__Tipado dinámico__: El tipo de los datos es inferido en tiempo de ejecución. Esta es una característica que diferencia a Python de la mayoría de los lenguajes compilados."
   ]
  },
  {
   "cell_type": "markdown",
   "metadata": {},
   "source": [
    "## 1.3 Librerías básicas para el tratamiento de datos"
   ]
  },
  {
   "cell_type": "markdown",
   "metadata": {},
   "source": [
    "Python tiene disponibles un gran número de librerías y herramientas para el tratamiento de datos.\n",
    "\n",
    "![__Tecnologías](./images/Python+Libraries.png \"Libraries\")\n",
    "\n"
   ]
  },
  {
   "cell_type": "markdown",
   "metadata": {},
   "source": [
    "## 1.4 El entorno Jupyter notebook"
   ]
  },
  {
   "cell_type": "markdown",
   "metadata": {},
   "source": [
    "* [Jupyter notebook](http://jupyter.org) es una aplicación web que permite crear documentos que contienen _código vivo_, texto, fórmulas, figuras, y medios audiovisuales. \n",
    "\n",
    "* Esto facilita una explicación más detallada y atractiva de los conceptos que se quieren describir. Estos documentos se visualizan con el navegador (Explorer, Chrome, Firefox, ...) y pueden incluir cualquier elemento accesible a una página web, además de permitir la ejecución de código escrito en el lenguaje de programación Python.\n",
    "\n",
    "* Veremos cómo podemos usar este entorno, junto con Python, para realizar taréas típicas en el contexto del análisis de datos; importación y exportación,  manipulación y transformación, visualización  y mucho más. \n",
    "\n",
    "* Jupyter reúne en un mismo componente todas las herramientas científicas estándar de Python."
   ]
  },
  {
   "cell_type": "markdown",
   "metadata": {},
   "source": [
    "## 1.5 Instalación (Anaconda)"
   ]
  },
  {
   "cell_type": "markdown",
   "metadata": {},
   "source": [
    "Si aún no te has instalado la última versión de Anaconda, y tienes dudas de cómo hacerlo, abre el siguiente enlace [instalar Anaconda](instalacion_Anaconda.html)."
   ]
  }
 ],
 "metadata": {
  "anaconda-cloud": {},
  "kernelspec": {
   "display_name": "Python [default]",
   "language": "python",
   "name": "python3"
  },
  "language_info": {
   "codemirror_mode": {
    "name": "ipython",
    "version": 3
   },
   "file_extension": ".py",
   "mimetype": "text/x-python",
   "name": "python",
   "nbconvert_exporter": "python",
   "pygments_lexer": "ipython3",
   "version": "3.5.2"
  }
 },
 "nbformat": 4,
 "nbformat_minor": 0
}
