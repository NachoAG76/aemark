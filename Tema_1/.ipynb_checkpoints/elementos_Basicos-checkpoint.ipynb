{
 "cells": [
  {
   "cell_type": "markdown",
   "metadata": {},
   "source": [
    "# Table of Contents\n",
    "* [1. Elementos básicos del lenguaje](#1.-Elementos-básicos-del-lenguaje)\n",
    "\t* [1.1 Estructuras de datos: tuplas, listas y diccionarios](#1.1-Estructuras-de-datos:-tuplas,-listas-y-diccionarios)\n",
    "\t\t* [1.1.1 Tuplas](#1.1.1-Tuplas)\n",
    "\t\t* [1.1.2 Listas](#1.1.2-Listas)\n",
    "\t\t* [1.1.3 Diccionarios](#1.1.3-Diccionarios)\n",
    "\t* [1.2 Funciones y estructuras de control](#1.2-Funciones-y-estructuras-de-control)\n"
   ]
  },
  {
   "cell_type": "markdown",
   "metadata": {},
   "source": [
    "# 1. Elementos básicos del lenguaje"
   ]
  },
  {
   "cell_type": "markdown",
   "metadata": {},
   "source": [
    "Jupyter notebook ofrece una herramienta de ejecución interactiva con la cual es posible dar órdenes directamente al intérprete y obtener una respuesta inmediata para cada una de ellas.\n",
    "\n",
    "__Ejemplos__"
   ]
  },
  {
   "cell_type": "code",
   "execution_count": 1,
   "metadata": {
    "collapsed": false
   },
   "outputs": [
    {
     "data": {
      "text/plain": [
       "1"
      ]
     },
     "execution_count": 1,
     "metadata": {},
     "output_type": "execute_result"
    }
   ],
   "source": [
    "2 + 4 - 5"
   ]
  },
  {
   "cell_type": "code",
   "execution_count": 2,
   "metadata": {
    "collapsed": false
   },
   "outputs": [
    {
     "data": {
      "text/plain": [
       "10.3"
      ]
     },
     "execution_count": 2,
     "metadata": {},
     "output_type": "execute_result"
    }
   ],
   "source": [
    "2.3 + 8    # la coma decimal se representa como un punto en Python"
   ]
  },
  {
   "cell_type": "code",
   "execution_count": 3,
   "metadata": {
    "collapsed": false
   },
   "outputs": [
    {
     "data": {
      "text/plain": [
       "8"
      ]
     },
     "execution_count": 3,
     "metadata": {},
     "output_type": "execute_result"
    }
   ],
   "source": [
    "total = 2 ** 3        # operación potencia\n",
    "total                 # muestra el resultado de la variable total"
   ]
  },
  {
   "cell_type": "code",
   "execution_count": 4,
   "metadata": {
    "collapsed": false
   },
   "outputs": [
    {
     "name": "stdout",
     "output_type": "stream",
     "text": [
      "8\n"
     ]
    }
   ],
   "source": [
    "print (total)"
   ]
  },
  {
   "cell_type": "markdown",
   "metadata": {},
   "source": [
    "## 1.1 Estructuras de datos: tuplas, listas y diccionarios"
   ]
  },
  {
   "cell_type": "markdown",
   "metadata": {},
   "source": [
    "### 1.1.1 Tuplas"
   ]
  },
  {
   "cell_type": "markdown",
   "metadata": {},
   "source": [
    "Se trata de un tipo de dato inmutable.\n",
    "* Tienen longitud fija\n",
    "* Solo tienen una dimensión"
   ]
  },
  {
   "cell_type": "code",
   "execution_count": 5,
   "metadata": {
    "collapsed": false
   },
   "outputs": [
    {
     "data": {
      "text/plain": [
       "('Ana', 10, 'Alberto', 7)"
      ]
     },
     "execution_count": 5,
     "metadata": {},
     "output_type": "execute_result"
    }
   ],
   "source": [
    "# Tuplas\n",
    "tup = ( 8, 4 )     # colección de elementos (posiblemente de distintos tipos) \n",
    "tup = ( 'Ana', 10, 'Alberto', 7 )\n",
    "\n",
    "tup"
   ]
  },
  {
   "cell_type": "markdown",
   "metadata": {},
   "source": [
    "### 1.1.2 Listas"
   ]
  },
  {
   "cell_type": "markdown",
   "metadata": {},
   "source": [
    "Una lista es similar a una tupla con la diferencia fundamental de que puede ser modificada una vez creada. Se trata de un tipo de datos mutable.\n",
    "* Estructura multidimensional\n",
    "* Contiene datos heterogéneos"
   ]
  },
  {
   "cell_type": "code",
   "execution_count": 6,
   "metadata": {
    "collapsed": false
   },
   "outputs": [
    {
     "data": {
      "text/plain": [
       "['Ana', 10, 'Alberto', 7, [7, 8]]"
      ]
     },
     "execution_count": 6,
     "metadata": {},
     "output_type": "execute_result"
    }
   ],
   "source": [
    "# listas\n",
    "data = [2, 3, 4]    # colección de elementos (posiblemente de distintos tipos) \n",
    "data = ['Ana', 10, 'Alberto', 7, [ 7 ,8 ]]\n",
    "data"
   ]
  },
  {
   "cell_type": "code",
   "execution_count": 7,
   "metadata": {
    "collapsed": false
   },
   "outputs": [
    {
     "data": {
      "text/plain": [
       "[1, -9, 4, 1, 9, 0]"
      ]
     },
     "execution_count": 7,
     "metadata": {},
     "output_type": "execute_result"
    }
   ],
   "source": [
    "# insertar elementos en listas\n",
    "data = [1, -9, 4, 1, 9]  \n",
    "data.append(0)                # inserción al final de la lista\n",
    "data"
   ]
  },
  {
   "cell_type": "markdown",
   "metadata": {},
   "source": [
    "__Acceso a los elementos de una lista__\n",
    "\n",
    "* Los elementos de las secuencias pueden ser accedidos mediante el uso de corchetes `[ ]`, como en otros lenguajes de programación. \n",
    "* Podemos *indexar* las secuencias utilizando la sintaxis:\n",
    "\n",
    "```\n",
    "[<inicio>:<final>:<salto>]\n",
    "```\n",
    "\n",
    "* En Python, la indexación empieza por CERO"
   ]
  },
  {
   "cell_type": "code",
   "execution_count": 8,
   "metadata": {
    "collapsed": false
   },
   "outputs": [
    {
     "data": {
      "text/plain": [
       "1"
      ]
     },
     "execution_count": 8,
     "metadata": {},
     "output_type": "execute_result"
    }
   ],
   "source": [
    "# Acceso a los elementos: indexación comenzando desde 0\n",
    "data[0] "
   ]
  },
  {
   "cell_type": "code",
   "execution_count": 9,
   "metadata": {
    "collapsed": false
   },
   "outputs": [
    {
     "data": {
      "text/plain": [
       "[1, 27.0, 4, 1, 9, 0]"
      ]
     },
     "execution_count": 9,
     "metadata": {},
     "output_type": "execute_result"
    }
   ],
   "source": [
    "# modificación de los elementos\n",
    "data[1] = 9 * 3.\n",
    "data"
   ]
  },
  {
   "cell_type": "code",
   "execution_count": 10,
   "metadata": {
    "collapsed": false
   },
   "outputs": [
    {
     "data": {
      "text/plain": [
       "6"
      ]
     },
     "execution_count": 10,
     "metadata": {},
     "output_type": "execute_result"
    }
   ],
   "source": [
    "#longitud de una lista\n",
    "len(data)"
   ]
  },
  {
   "cell_type": "code",
   "execution_count": 11,
   "metadata": {
    "collapsed": false
   },
   "outputs": [
    {
     "data": {
      "text/plain": [
       "[27.0, 4, 1]"
      ]
     },
     "execution_count": 11,
     "metadata": {},
     "output_type": "execute_result"
    }
   ],
   "source": [
    "data[1:4]    # elementos en el rango [1, 4)"
   ]
  },
  {
   "cell_type": "code",
   "execution_count": 12,
   "metadata": {
    "collapsed": false
   },
   "outputs": [
    {
     "data": {
      "text/plain": [
       "[1, 4, 9]"
      ]
     },
     "execution_count": 12,
     "metadata": {},
     "output_type": "execute_result"
    }
   ],
   "source": [
    "data[::2]   # desde el principio hasta el final con salto 2"
   ]
  },
  {
   "cell_type": "code",
   "execution_count": 13,
   "metadata": {
    "collapsed": false
   },
   "outputs": [
    {
     "data": {
      "text/plain": [
       "0"
      ]
     },
     "execution_count": 13,
     "metadata": {},
     "output_type": "execute_result"
    }
   ],
   "source": [
    "data[-1]     # recorrido en orden inverso"
   ]
  },
  {
   "cell_type": "markdown",
   "metadata": {},
   "source": [
    "__La función `range`__"
   ]
  },
  {
   "cell_type": "code",
   "execution_count": 14,
   "metadata": {
    "collapsed": false
   },
   "outputs": [
    {
     "data": {
      "text/plain": [
       "[-5, -4, -3, -2, -1, 0, 1, 2, 3, 4]"
      ]
     },
     "execution_count": 14,
     "metadata": {},
     "output_type": "execute_result"
    }
   ],
   "source": [
    "# generación de listas de enteros en un rango\n",
    "list(range(-5, 5))"
   ]
  },
  {
   "cell_type": "markdown",
   "metadata": {},
   "source": [
    "### 1.1.3 Diccionarios"
   ]
  },
  {
   "cell_type": "markdown",
   "metadata": {},
   "source": [
    "En Python, un diccionario es   una colección  __no ordenada__ de pares __clave - valor__ donde la clave y el valor son objetos Python.\n",
    "\n",
    "* Los  elementos del diccionario son de la forma __clave : valor__  y cada uno de los elementos se separan por comas.\n",
    "* El acceso a los elementos de un diccionario se realiza a través de la clave.\n",
    "* En otros lenguajes se les conoce como _tablas hash_.\n",
    "* Los diccionarios se crean utilizando llaves __{ }__.\n",
    "\n",
    "Su uso es imprescindible en el proceso de datasets en formato __Json__."
   ]
  },
  {
   "cell_type": "code",
   "execution_count": 15,
   "metadata": {
    "collapsed": true
   },
   "outputs": [],
   "source": [
    "dic = { }     # diccionario vacío"
   ]
  },
  {
   "cell_type": "code",
   "execution_count": 16,
   "metadata": {
    "collapsed": false
   },
   "outputs": [
    {
     "data": {
      "text/plain": [
       "{1: 'Lunes', 2: 'Martes', 3: 'Miercoles'}"
      ]
     },
     "execution_count": 16,
     "metadata": {},
     "output_type": "execute_result"
    }
   ],
   "source": [
    "# diccionario con 3 elementos\n",
    "dic =  {1:'Lunes', 2:'Martes', 3:'Miercoles' }\n",
    "dic"
   ]
  },
  {
   "cell_type": "code",
   "execution_count": 17,
   "metadata": {
    "collapsed": false
   },
   "outputs": [
    {
     "data": {
      "text/plain": [
       "dict_keys([1, 2, 3])"
      ]
     },
     "execution_count": 17,
     "metadata": {},
     "output_type": "execute_result"
    }
   ],
   "source": [
    "# Acceso a las claves\n",
    "dic.keys()"
   ]
  },
  {
   "cell_type": "code",
   "execution_count": 18,
   "metadata": {
    "collapsed": false
   },
   "outputs": [
    {
     "data": {
      "text/plain": [
       "dict_values(['Lunes', 'Martes', 'Miercoles'])"
      ]
     },
     "execution_count": 18,
     "metadata": {},
     "output_type": "execute_result"
    }
   ],
   "source": [
    "# Aceeso a los valores\n",
    "dic.values()"
   ]
  },
  {
   "cell_type": "code",
   "execution_count": 19,
   "metadata": {
    "collapsed": false
   },
   "outputs": [
    {
     "data": {
      "text/plain": [
       "'Miercoles'"
      ]
     },
     "execution_count": 19,
     "metadata": {},
     "output_type": "execute_result"
    }
   ],
   "source": [
    "# Acceso al valor de una clave\n",
    "dic[3]"
   ]
  },
  {
   "cell_type": "code",
   "execution_count": 20,
   "metadata": {
    "collapsed": false
   },
   "outputs": [
    {
     "data": {
      "text/plain": [
       "{1: 'Lunes', 2: 'Martes', 3: 'Miercoles', 4: 'Jueves'}"
      ]
     },
     "execution_count": 20,
     "metadata": {},
     "output_type": "execute_result"
    }
   ],
   "source": [
    "# añadir / modificar elementos de un diccionario\n",
    "dic[4] = 'Jueves'\n",
    "dic"
   ]
  },
  {
   "cell_type": "markdown",
   "metadata": {},
   "source": [
    "##### Ejercicios\n",
    " \n",
    "Ejecutar el siguiente bloque de código para leer una lista de tweets almacenada en el documento [./Tweets/Oct24.json](./Tweets/Oct24.json). \n"
   ]
  },
  {
   "cell_type": "code",
   "execution_count": 21,
   "metadata": {
    "collapsed": false
   },
   "outputs": [
    {
     "data": {
      "text/plain": [
       "(list, 12)"
      ]
     },
     "execution_count": 21,
     "metadata": {},
     "output_type": "execute_result"
    }
   ],
   "source": [
    "import json\n",
    "with open('./Tweets/Oct24.json') as data_file:    \n",
    "    lista_tweets = json.load(data_file)\n",
    "type(lista_tweets), len(lista_tweets)"
   ]
  },
  {
   "cell_type": "markdown",
   "metadata": {},
   "source": [
    "__* Recupera el primer tweet de la lista.__"
   ]
  },
  {
   "cell_type": "code",
   "execution_count": 22,
   "metadata": {
    "collapsed": false
   },
   "outputs": [],
   "source": [
    "# Solución:\n"
   ]
  },
  {
   "cell_type": "markdown",
   "metadata": {},
   "source": [
    "__* Obtener la lista de claves del primer tweet.__"
   ]
  },
  {
   "cell_type": "code",
   "execution_count": 23,
   "metadata": {
    "collapsed": false
   },
   "outputs": [],
   "source": [
    "# Sol\n"
   ]
  },
  {
   "cell_type": "markdown",
   "metadata": {},
   "source": [
    "__* Obtener la fecha de creación del tercer tweet.__"
   ]
  },
  {
   "cell_type": "code",
   "execution_count": 24,
   "metadata": {
    "collapsed": false
   },
   "outputs": [],
   "source": [
    "# Sol\n"
   ]
  },
  {
   "cell_type": "markdown",
   "metadata": {},
   "source": [
    "## 1.2 Funciones y estructuras de control"
   ]
  },
  {
   "cell_type": "markdown",
   "metadata": {},
   "source": [
    "Las funciones tienen un _nombre_ y se declaran con la palabra reservada __def__ y devuelve un valor usando la palabra reservada __return__.\n",
    "Los bloques se representan con los tabuladores."
   ]
  },
  {
   "cell_type": "code",
   "execution_count": 25,
   "metadata": {
    "collapsed": true
   },
   "outputs": [],
   "source": [
    "# función que suma 3 números y devuelve el resultado\n",
    "def suma_tres(x, y, z):   # 3 argumentos posicionales.\n",
    "    m1 = x + y\n",
    "    m2 = m1 + z\n",
    "    return m2"
   ]
  },
  {
   "cell_type": "code",
   "execution_count": 26,
   "metadata": {
    "collapsed": false
   },
   "outputs": [
    {
     "data": {
      "text/plain": [
       "6"
      ]
     },
     "execution_count": 26,
     "metadata": {},
     "output_type": "execute_result"
    }
   ],
   "source": [
    "# invocación de la función\n",
    "r = suma_tres(1, 2, 3)\n",
    "r"
   ]
  },
  {
   "cell_type": "code",
   "execution_count": 27,
   "metadata": {
    "collapsed": false
   },
   "outputs": [],
   "source": [
    "# instrucción if     (Ojop a los bloques)\n",
    "def orden(x, y):\n",
    "    if x < y :               # instrucciones condicionales\n",
    "        return x\n",
    "    elif x > y:\n",
    "        return y\n",
    "    else:\n",
    "        return 'Son iguales'   "
   ]
  },
  {
   "cell_type": "code",
   "execution_count": 28,
   "metadata": {
    "collapsed": false
   },
   "outputs": [
    {
     "data": {
      "text/plain": [
       "'Son iguales'"
      ]
     },
     "execution_count": 28,
     "metadata": {},
     "output_type": "execute_result"
    }
   ],
   "source": [
    "orden(2,2)"
   ]
  },
  {
   "cell_type": "code",
   "execution_count": 29,
   "metadata": {
    "collapsed": true
   },
   "outputs": [],
   "source": [
    "def recorrido(lista):\n",
    "    for elemento in lista:   # Bucle FOR :itera soble los elementos de m\n",
    "        print(elemento)"
   ]
  },
  {
   "cell_type": "code",
   "execution_count": 30,
   "metadata": {
    "collapsed": false
   },
   "outputs": [
    {
     "name": "stdout",
     "output_type": "stream",
     "text": [
      "9\n",
      "8\n",
      "7\n",
      "6\n",
      "4\n"
     ]
    }
   ],
   "source": [
    "recorrido([9, 8, 7, 6, 4])"
   ]
  },
  {
   "cell_type": "code",
   "execution_count": 31,
   "metadata": {
    "collapsed": false
   },
   "outputs": [
    {
     "name": "stdout",
     "output_type": "stream",
     "text": [
      "La clave es: 1 y el valor es: Lunes\n",
      "La clave es: 2 y el valor es: Martes\n",
      "La clave es: 3 y el valor es: Miércoles\n"
     ]
    }
   ],
   "source": [
    "# iterar sobre los elementos de un diccionario\n",
    "dic =  {1:'Lunes', 2:'Martes', 3:'Miércoles' }\n",
    "\n",
    "for (clave, valor) in dic.items():\n",
    "    print(\"La clave es: \" + str(clave) + \" y el valor es: \" + valor)"
   ]
  },
  {
   "cell_type": "code",
   "execution_count": 32,
   "metadata": {
    "collapsed": false
   },
   "outputs": [
    {
     "name": "stdout",
     "output_type": "stream",
     "text": [
      "0\n",
      "1\n",
      "2\n",
      "3\n",
      "4\n",
      "Estoy fuera del while\n"
     ]
    }
   ],
   "source": [
    "i = 0\n",
    "while i < 5:    # bucle WHILE: itera mientras la condición sea cierta\n",
    "    print(i)\n",
    "    i = i + 1\n",
    "print(\"Estoy fuera del while\")"
   ]
  },
  {
   "cell_type": "markdown",
   "metadata": {},
   "source": [
    "\n",
    "\n",
    "-----"
   ]
  }
 ],
 "metadata": {
  "anaconda-cloud": {},
  "kernelspec": {
   "display_name": "Python [default]",
   "language": "python",
   "name": "python3"
  },
  "language_info": {
   "codemirror_mode": {
    "name": "ipython",
    "version": 3
   },
   "file_extension": ".py",
   "mimetype": "text/x-python",
   "name": "python",
   "nbconvert_exporter": "python",
   "pygments_lexer": "ipython3",
   "version": "3.5.2"
  }
 },
 "nbformat": 4,
 "nbformat_minor": 0
}
